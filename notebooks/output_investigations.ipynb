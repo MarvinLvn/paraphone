{
 "cells": [
  {
   "cell_type": "code",
   "execution_count": 4,
   "metadata": {
    "collapsed": true
   },
   "outputs": [
    {
     "data": {
      "text/plain": "PosixPath('/home/hadware/Code/CoML/MorphologicalStudy/testsets')"
     },
     "execution_count": 4,
     "metadata": {},
     "output_type": "execute_result"
    }
   ],
   "source": [
    "from pathlib import Path\n",
    "\n",
    "TESTSETS_FOLDER = Path(globals()['_dh'][0]).parent / Path(\"testsets\")\n",
    "\n",
    "TESTSETS_FOLDER"
   ]
  },
  {
   "cell_type": "code",
   "execution_count": 11,
   "outputs": [
    {
     "name": "stderr",
     "output_type": "stream",
     "text": [
      "79778it [00:00, 314014.76it/s]\n",
      "54222it [00:00, 328935.76it/s]\n",
      "113578it [00:00, 324636.04it/s]\n",
      "35277it [00:00, 313307.87it/s]\n",
      "11415it [00:00, 337765.91it/s]\n",
      "2182it [00:00, 168498.05it/s]\n",
      "21491it [00:00, 323547.86it/s]\n"
     ]
    }
   ],
   "source": [
    "import csv\n",
    "from tqdm import tqdm\n",
    "from typing import Dict, List\n",
    "from collections import defaultdict\n",
    "\n",
    "all_sets = defaultdict(list)\n",
    "\n",
    "for csv_path in TESTSETS_FOLDER.iterdir():\n",
    "    test_set_name = csv_path.stem.replace(\".\", \"_\")\n",
    "    with open(csv_path) as csv_file:\n",
    "        csv_reader = csv.DictReader(csv_file,\n",
    "                                    fieldnames=[\"Word\", \"Match\"],\n",
    "                                    delimiter=\"\\t\")\n",
    "\n",
    "        for row in tqdm(csv_reader):\n",
    "            row: Dict\n",
    "            all_sets[test_set_name].append((row[\"Word\"],\n",
    "                                            row[\"Match\"]))"
   ],
   "metadata": {
    "collapsed": false,
    "pycharm": {
     "name": "#%%\n"
    }
   }
  },
  {
   "cell_type": "code",
   "execution_count": 12,
   "outputs": [
    {
     "data": {
      "text/plain": "{'discours',\n 'proposition',\n 'soutenir',\n 'releva',\n 'répété',\n 'désirs',\n 'prodigue',\n 'connaissez',\n 'altérée',\n 'conduire',\n 'habileté',\n 'hôtel',\n 'célèbre',\n 'vertus',\n 'raisonner',\n 'demeure',\n 'pourquoi',\n 'ouvrir',\n 'relevée',\n 'complaisance',\n 'joyeuse',\n 'verra',\n 'vérité',\n 'criminel',\n 'rapidement',\n 'arrière',\n 'extase',\n 'avoir',\n 'plupart',\n 'type',\n 'minuit',\n 'introduire',\n 'furent',\n 'protégé',\n 'violence',\n 'délices',\n 'couvrir',\n 'parfaitement',\n 'deviennent',\n 'exemplaire',\n 'descendit',\n 'fusil',\n 'impose',\n 'déteste',\n 'langage',\n 'soumission',\n 'étonnante',\n 'faisons',\n 'approchait',\n 'furieux',\n 'assurance',\n 'vanité',\n 'aisance',\n 'reprit',\n 'ajouta',\n 'approche',\n 'hésita',\n 'système',\n 'misère',\n 'tragique',\n 'appliquait',\n 'annoncé',\n 'fortune',\n 'période',\n 'porta',\n 'exercer',\n 'opéra',\n 'exprime',\n 'nommé',\n 'simplicité',\n 'bourreau',\n 'rendra',\n 'plaira',\n 'derrière',\n 'expliqué',\n 'plateau',\n 'voisinage',\n 'régiment',\n 'cuisine',\n 'couloir',\n 'quelques-uns',\n 'renseignements',\n 'trésor',\n 'désagréable',\n 'assurément',\n 'promener',\n 'vigueur',\n 'secrètement',\n 'prononcé',\n 'pourra',\n 'endormir',\n 'puissante',\n 'satisfaire',\n 'variété',\n 'montagne',\n 'procurer',\n 'duquel',\n 'parfois',\n 'pouvoir',\n 'agonie',\n 'recueillir',\n 'conclure',\n 'dise',\n 'ainsi',\n 'accueilli',\n 'mariés',\n 'inspiration',\n 'lui-même',\n 'malgré',\n 'perfection',\n 'musiciens',\n 'v',\n 'sévérité',\n 'aider',\n 'répondant',\n 'trouva',\n 'sembla',\n 'musique',\n 'épouvante',\n 'tentative',\n 'bornes',\n 'favorable',\n 'raisonnable',\n 'échelle',\n 'rentra',\n 'arrivera',\n 'absurde',\n 'répondre',\n 'mérite',\n 'continue',\n 'choisir',\n 'cimetière',\n 'fatigue',\n 'céleste',\n 'salon',\n 'subitement',\n 'travaux',\n 'ouverture',\n 'capitaine',\n 'élégante',\n 'imprudent',\n 'gravité',\n 'domine',\n 'immenses',\n 'ressemble',\n 'stupeur',\n 'orné',\n 'accès',\n 'précieuse',\n 'sentis',\n 'pourtant',\n 'intéresse',\n 'excité',\n 'barbares',\n 'arrêtait',\n 'consistait',\n 'épuisé',\n 'celle-là',\n 'musicien',\n 'pourrions',\n 'enthousiasme',\n 'ouvrait',\n 'ours',\n 'mépriser',\n 'enfoncé',\n 'faudrait',\n 'pressant',\n 'construit',\n 'horriblement',\n 'détresse',\n 'funestes',\n 'possédait',\n 'croître',\n 'abîme',\n 'au-dessus',\n 'outre',\n 'mit',\n 'jugement',\n 'machinalement',\n 'sang-froid',\n 'situé',\n 'directement',\n 'verrait',\n 'recevant',\n 'sortant',\n 'unique',\n 'tremblante',\n 'souper',\n 'distingue',\n 'demi-heure',\n 'vécu',\n 'ressembler',\n 'soulagement',\n 'douté',\n 'eusse',\n 'lambeaux',\n 'close',\n 'froides',\n 'sympathie',\n 'humeur',\n 'interrompit',\n 'emportement',\n 'feuillage',\n 'destinées',\n 'religion',\n 'répéta',\n 'dévouement',\n 'colline',\n 'colère',\n 'nécessité',\n 'hiver',\n 'sagesse',\n 'différence',\n 'envoyé',\n 'exprimait',\n 'sentait',\n 'recherches',\n 'essentiel',\n 'miracle',\n 'revenir',\n 'recommencer',\n 'agitation',\n 'méditation',\n 'noblesse',\n 'retirée',\n 'bouleversé',\n 'physique',\n 'laissés',\n 'souffrent',\n 'autorité',\n 'promise',\n 'acheté',\n 'tranquillité',\n 'voulant',\n 'emploi',\n 'remède',\n 'traverser',\n 'nettement',\n 'raisonnement',\n 'finira',\n 'promptement',\n 'assisté',\n 'désiré',\n 'faudra',\n 'commencent',\n 'soi-même',\n 'disiez',\n 'tradition',\n 'épousé',\n 'puissance',\n 'allusion',\n 'sanglotant',\n 'communication',\n 'comparaison',\n 'pavé',\n 'rigueur',\n 'résolution',\n 'appartement',\n 'couleurs',\n 'livrée',\n 'domination',\n 'emportait',\n 'costume',\n 'éleva',\n 'embrassé',\n 'animal',\n 'réponds',\n 'accepte',\n 'lumières',\n 'terreur',\n 'position',\n 'pressaient',\n 'rumeur',\n 'p',\n 'licence',\n 'autrefois',\n 'connaissent',\n 'excepté',\n 'méritent',\n 'masque',\n 'aimant',\n 'pleurait',\n 'climat',\n 'passera',\n 'doué',\n 'soigneusement',\n 'brouillard',\n 'prenez',\n 'certaines',\n 'faveur',\n 'conversion',\n 'imaginaire',\n 'nerveuse',\n 'diverses',\n 'galop',\n 'entraîna',\n 'drame',\n 'lointain',\n 'défendu',\n 'escorte',\n 'remarquable',\n 'enchanté',\n 'attendri',\n 'définitif',\n 'circulaire',\n 'imposer',\n 'véritablement',\n 'vénération',\n 'disent',\n 'éprouve',\n 'apparaître',\n 'arrivent',\n 'emporta',\n 'propose',\n 'rivage',\n 'prétendent',\n 'adressant',\n 'bataille',\n 'hâter',\n 'précipita',\n 'rapidité',\n 'totalement',\n 'sauveur',\n 'longuement',\n 'partir',\n 'extrêmement',\n 'élégance',\n 'garantie',\n 'saison',\n 'enfin',\n 'familles',\n 'admettre',\n 'repoussé',\n 'rudement',\n 'ivresse',\n 'sérieuses',\n 'cherchant',\n 'lecture',\n 'dégoût',\n 'camarades',\n 'épaisses',\n 'gigantesque',\n 'chevaux',\n 'garantir',\n 'machines',\n 'attendre',\n 'voyait',\n 'répugnance',\n 'accessible',\n 'grise',\n 'contemplé',\n 'curiosité',\n 'nombreux',\n 'permission',\n 'écurie',\n 'jadis',\n 'graves',\n 'voyez',\n 'embrassant',\n 'anonyme',\n 'goût',\n 'situation',\n 'soudain',\n 'souriait',\n 'sueur',\n 'aurions',\n 'réputation',\n 'écouté',\n 'aboutir',\n 'laquelle',\n 'parla',\n 'adressa',\n 'toi-même',\n 'volonté',\n 'développé',\n 'méchante',\n 'possède',\n 'actuellement',\n 'obtenir',\n 'population',\n 'substance',\n 'reprendre',\n 'tourna',\n 'trajet',\n 'commune',\n 'couverts',\n 'rejoindre',\n 'celui-là',\n 'allait',\n 'bientôt',\n 'exemples',\n 'précipité',\n 'fondu',\n 'quittait',\n 'oui',\n 'entrent',\n 'pouvions',\n 'empêchait',\n 'dix-huit',\n 'réserve',\n 'laissèrent',\n 'juste',\n 'commencèrent',\n 'manières',\n 'évanouit',\n 'empire',\n 'discussion',\n 'croirait',\n 'involontaire',\n 'mettant',\n 'traîner',\n 'robuste',\n 'apprendre',\n 'dissiper',\n 'œ̃',\n 'baguette',\n 'essuyer',\n 'ensemble',\n 'frisson',\n 'trente-cinq',\n 'là-bas',\n 'ə',\n 'délicieux',\n 'occupait',\n 'jetant',\n 'ruban',\n 'traversant',\n 'obtenu',\n 'posant',\n 'innocence',\n 'aimons',\n 'bourgeois',\n 'justement',\n 'reposait',\n 'atteindre',\n 'dormait',\n 'trempé',\n 'infernal',\n 'royale',\n 'vouloir',\n 'parlé',\n 'président',\n 'doivent',\n 'confusion',\n 'minutes',\n 'observer',\n 'suffisante',\n 'confidences',\n 'conducteur',\n 'morte',\n 'apercevait',\n 'cruellement',\n 'apaiser',\n 'ignore',\n 'contributeurs',\n 'immobile',\n 'quatrième',\n 'quiconque',\n 'prudent',\n 'vitres',\n 'ayez',\n 'éclater',\n 'attendons',\n 'artifice',\n 'impossibilité',\n 'conduit',\n 'poursuivit',\n 'retira',\n 'savants',\n 'absolument',\n 'inexplicable',\n 'atteint',\n 'printemps',\n 'sottise',\n 'moyen',\n 'retirait',\n 'appelait',\n 'ceux-ci',\n 'foi',\n 'reprises',\n 'patient',\n 'hélas',\n 'rapides',\n 'après-midi',\n 'présenta',\n 'intelligente',\n 'difficilement',\n 'maladie',\n 'distance',\n 'devienne',\n 'accoutumée',\n 'terrestre',\n 'partout',\n 'centaines',\n 'disait',\n 'amitié',\n 'douteux',\n 'autrui',\n 'paupières',\n 'péril',\n 'heureux',\n 'étroites',\n 'bruyante',\n 'démarche',\n 'parles',\n 'sortait',\n 'droite',\n 'écriait',\n 'septembre',\n 'fièrement',\n 'ténèbres',\n 'remise',\n 'vénérable',\n 'reconnaissance',\n 'charge',\n 'rougissant',\n 'inventer',\n 'appartient',\n 'plusieurs',\n 'recommande',\n 'adroite',\n 'f',\n 'lanterne',\n 'prévenu',\n 'odieuse',\n 'exporté',\n 'semblant',\n 'y',\n 'pensa',\n 'rentrant',\n 'partagé',\n 'sécurité',\n 'touchant',\n 'appuyant',\n 'remplacé',\n 'chacun',\n 'mépris',\n 'retraite',\n 'fuite',\n 'montrant',\n 'bonsoir',\n 'au-devant',\n 'confié',\n 'pudeur',\n 'religieux',\n 'recevoir',\n 'fac-similé',\n 'majesté',\n 'éloignant',\n 'pays',\n 'tenez',\n 'apporté',\n 'selon',\n 'fameux',\n 'aille',\n 'trompée',\n 'impatience',\n 'police',\n 'percé',\n 'désolation',\n 'croyant',\n 'renversé',\n 'progrès',\n 'réaliser',\n 'adressait',\n 'dépit',\n 'épouvanté',\n 'résignation',\n 'amusant',\n 'particulièrement',\n 'mariage',\n 'profite',\n 'prendra',\n 'commandement',\n 'orgueil',\n 'coupé',\n 'souverain',\n 'fournir',\n 'poussière',\n 'aurez',\n 'exactement',\n 'songé',\n 'commerce',\n 'précipitamment',\n 'description',\n 'avenir',\n 'patron',\n 'respirer',\n 'chevalier',\n 'délicate',\n 'profité',\n 'jusque-là',\n 'valets',\n 'emmener',\n 'tournés',\n 'rassuré',\n 'entrait',\n 'arrivait',\n 'conserve',\n 'distinction',\n 'ressentir',\n 'délire',\n 'efforce',\n 'défendre',\n 'haussant',\n 'violemment',\n 'phénomène',\n 'écria',\n 'motifs',\n 'volontiers',\n 'demeuré',\n 'jaillit',\n 'ɛ̃',\n 'populaire',\n 'conservation',\n 'seront',\n 'prendrait',\n 'insupportable',\n 'exactitude',\n 'reconnais',\n 'org',\n 'brûle',\n 'blessure',\n 'glissant',\n 'Word',\n 'attire',\n 'portefeuille',\n 'idéal',\n 'consolation',\n 'accorde',\n 'supposer',\n 'vivantes',\n 'cheval',\n 'aucune',\n 'retrouvé',\n 'fortement',\n 'repousse',\n 'écrivit',\n 'enseigner',\n 'remercia',\n 'étiez',\n 'charité',\n 'constitution',\n 'endroits',\n 'fermant',\n 'crayon',\n 'pourrait',\n 'tombeau',\n 'poussa',\n 'campagne',\n 'séance',\n 'carrière',\n 'revenant',\n 'expliqua',\n 'cache',\n 'au-dessous',\n 'clarté',\n 'priant',\n 'tira',\n 'contenance',\n 'fine',\n 'moyens',\n 'fatalité',\n 'ʒ',\n 'permet',\n 'voir',\n 'interprète',\n 'alors',\n 'cachette',\n 'lunettes',\n 'combattre',\n 'habituel',\n 'messieurs',\n 'fuir',\n 'inflexible',\n 'toujours',\n 'depuis',\n 'interrompre',\n 'retrouva',\n 'entendons',\n 'saura',\n 'suffisent',\n 'funèbre',\n 'franchise',\n 'hospitalité',\n 'certitude',\n 'e',\n 'portrait',\n 'irai',\n 'naturellement',\n 'sonner',\n 'rejeter',\n 'union',\n 'mêlent',\n 'disparaît',\n 'soupir',\n 'rapportait',\n 'réponse',\n 'ordonna',\n 'école',\n 'générosité',\n 'disposer',\n 'habitués',\n 'volupté',\n 'usage',\n 'habitait',\n 'arrivant',\n 's',\n 'briller',\n 'concevoir',\n 'monstrueuse',\n 'tremblant',\n 'prétend',\n 'étonnement',\n 'importance',\n 'négliger',\n 'valeur',\n 'besogne',\n 'dialogue',\n 'demandent',\n 'cellule',\n 'innombrables',\n 'pavillon',\n 'interroge',\n 'examine',\n 'pensant',\n 'voyant',\n 'avantageux',\n 'suivre',\n 'midi',\n 'accusait',\n 'préféré',\n 'probablement',\n 'honorable',\n 'secours',\n 'attentif',\n 'estime',\n 'poursuivait',\n 'sentons',\n 'o',\n 'amérique',\n 'refusa',\n 'agissait',\n 'pourrez',\n 'présent',\n 'légèrement',\n 'dirigeait',\n 'faciles',\n 'montré',\n 'douzaine',\n 'trembler',\n 'infâme',\n 'attente',\n 'brûlé',\n 'fraîcheur',\n 'odieux',\n 'offrait',\n 'lointaine',\n 'défaire',\n 'mélancolie',\n 'spectacle',\n 'accepté',\n 'généralement',\n 'revêtu',\n 'chansons',\n 'également',\n 'gardait',\n 'voulait',\n 'militaire',\n 'là-dessus',\n 'entendre',\n 'éclatante',\n 'dirigeant',\n 'déposé',\n 'opération',\n 'songeait',\n 'deviné',\n 'familiers',\n 'souriant',\n 'comprenant',\n 'sensibilité',\n 'emmena',\n 'divine',\n 'connaissance',\n 'pouvant',\n 'élevait',\n 'redoutait',\n 'entendent',\n 'maîtresse',\n 'ouvrant',\n 'offerte',\n 'uniquement',\n 'bâton',\n 'lenteur',\n 'services',\n 'imagination',\n 'césar',\n 'séparation',\n 'produite',\n 'naïve',\n 'amuse',\n 'vase',\n 'reconnaissant',\n 'attendrissement',\n 'chaude',\n 'soyons',\n 'exposés',\n 'parlant',\n 'viendra',\n 'indépendante',\n 'hasard',\n 'domaine',\n 'faiblesse',\n 'prises',\n 'priait',\n 'aimait',\n 'réunir',\n 'autrement',\n 'honnête',\n 'éclairée',\n 'indigne',\n 'partage',\n 'prudence',\n 'leva',\n 'maisons',\n 'b',\n 'commande',\n 'signaler',\n 'bonté',\n 'protecteur',\n 'détourné',\n 'fixe',\n 'valent',\n 'responsable',\n 'confiance',\n 'soleil',\n 'supplice',\n 'ɔ̃',\n 'frappa',\n 'douloureux',\n 'tendresse',\n 'jouant',\n 'débat',\n 'connaissait',\n 'honneurs',\n 'ɥ',\n 'auparavant',\n 'anciennes',\n 'égoïsme',\n 'échange',\n 'supplications',\n 'cheveux',\n 'apercevoir',\n 'inquiète',\n 'portent',\n 'chevelure',\n 'prochaine',\n 'retourna',\n 'habitants',\n 'éprouva',\n 'propriétaire',\n 'retire',\n 'honteuse',\n 'grandeur',\n 'Match',\n 'déclarer',\n 'brillants',\n 'corridor',\n 'compose',\n 'habillé',\n 'précis',\n 'rappelle',\n 'dureté',\n 'distingué',\n 'naguère',\n 'prêté',\n 'différents',\n 'cinquante',\n 'celle-ci',\n 'intéressant',\n 'sacrifié',\n 'résister',\n 'devez',\n 'étendit',\n 'suffisait',\n 'foyer',\n 'voulons',\n 'anxiété',\n 'matière',\n 'confuse',\n 'rougit',\n 'attendait',\n 'caresse',\n 'ramener',\n 'logique',\n 'accompagné',\n 't',\n 'aviez',\n 'étrangère',\n 'franchement',\n 'craignait',\n 'répand',\n 'alerte',\n 'déclarant',\n 'loge',\n 'bâti',\n 'étudier',\n 'imiter',\n 'entrevoir',\n 'parmi',\n 'souffrant',\n 'montant',\n 'victoire',\n 'dissimuler',\n 'suivirent',\n 'guérir',\n 'journal',\n 'abattu',\n 'sensible',\n 'éloignement',\n 'parvenir',\n 'sentant',\n 'incroyable',\n 'insensible',\n 'galerie',\n 'justice',\n 'soumis',\n 'appartiennent',\n 'découvre',\n 'parenté',\n 'numérique',\n 'éprouvait',\n 'préférence',\n 'brusquement',\n 'amené',\n 'repentir',\n 'accomplit',\n 'expérience',\n 'éviter',\n 'observé',\n 'produire',\n 'jouir',\n 'malheureuse',\n 'passa',\n 'eux-mêmes',\n 'intrigue',\n 'indiquer',\n 'flottant',\n 'gracieusement',\n 'pénétra',\n 'admirablement',\n 'secondes',\n 'apercevant',\n 'vaste',\n 'dépouille',\n 'profondes',\n 'faisant',\n 'ressemblent',\n 'cherchons',\n 'timidité',\n 'amenait',\n 'empêche',\n 'navires',\n 'respecter',\n 'maintenir',\n 'visible',\n 'opérer',\n 'construction',\n 'conviction',\n 'approbation',\n 'comprenait',\n 'convenu',\n 'transporté',\n 'prouvé',\n 'voyage',\n 'donne',\n 'écoute',\n 'assuré',\n 'éternelle',\n 'ardents',\n 'gardes',\n 'aventures',\n 'amour',\n 'ailes',\n 'qualités',\n 'angleterre',\n 'douceur',\n 'liberté',\n 'dirent',\n 'combien',\n 'simplement',\n 'souveraine',\n 'déclaration',\n 'excès',\n 'tantôt',\n 'cruauté',\n 'atmosphère',\n 'fontaine',\n 'nature',\n 'servante',\n ...}"
     },
     "execution_count": 12,
     "metadata": {},
     "output_type": "execute_result"
    }
   ],
   "source": [
    "all_chars_set = set()\n",
    "for k, v in all_sets.items():\n",
    "    for words in v:\n",
    "        for word in words:\n",
    "            word: str\n",
    "            all_chars_set.update(set(word.split(\" \")))\n",
    "all_chars_set"
   ],
   "metadata": {
    "collapsed": false,
    "pycharm": {
     "name": "#%%\n"
    }
   }
  },
  {
   "cell_type": "code",
   "execution_count": null,
   "outputs": [],
   "source": [],
   "metadata": {
    "collapsed": false,
    "pycharm": {
     "name": "#%%\n"
    }
   }
  }
 ],
 "metadata": {
  "kernelspec": {
   "display_name": "Python 3",
   "language": "python",
   "name": "python3"
  },
  "language_info": {
   "codemirror_mode": {
    "name": "ipython",
    "version": 2
   },
   "file_extension": ".py",
   "mimetype": "text/x-python",
   "name": "python",
   "nbconvert_exporter": "python",
   "pygments_lexer": "ipython2",
   "version": "2.7.6"
  }
 },
 "nbformat": 4,
 "nbformat_minor": 0
}