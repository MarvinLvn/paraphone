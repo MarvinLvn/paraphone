{
 "cells": [
  {
   "cell_type": "code",
   "execution_count": 9,
   "metadata": {
    "collapsed": true
   },
   "outputs": [],
   "source": [
    "from pathlib import Path\n",
    "from tqdm import tqdm\n",
    "from os import getcwd\n",
    "\n",
    "dataset_path = Path(\"../paraphone/data/text/EN/\")"
   ]
  },
  {
   "cell_type": "code",
   "execution_count": 10,
   "outputs": [
    {
     "name": "stderr",
     "output_type": "stream",
     "text": [
      "100%|██████████| 5351/5351 [00:37<00:00, 141.77it/s]\n"
     ]
    }
   ],
   "source": [
    "all_chars = set()\n",
    "for text_path in tqdm(list(dataset_path.glob(\"**/*.txt\"))):\n",
    "    test_path : Path\n",
    "    with open(text_path) as txtfile:\n",
    "        dataset_char_set = set(txtfile.read())\n",
    "        all_chars.update(dataset_char_set)\n"
   ],
   "metadata": {
    "collapsed": false,
    "pycharm": {
     "name": "#%%\n"
    }
   }
  },
  {
   "cell_type": "code",
   "execution_count": 11,
   "outputs": [
    {
     "name": "stdout",
     "output_type": "stream",
     "text": [
      "\u0004\u0007\t\n",
      "\f\u0013\u0016\u0019 !\"#$%&'()*+,-./0123456789:;<=>?@[\\]^_`{|}~ ¡¢£¤¥¦§¨©«¬®¯°±²³´·¸¹»¼½¾¿Æßæ÷Œœ˙ΘΧθχЖжъњ ‑–—‘’“”…、。「」【】一七丈三上下不且世丘並中主乃久之乎乘九乞也亂予事二于云互五井亞亟亡亢交亦享人仁今仍仕他仞代令以仰仲任伊伐伯似位何佚佛作佞佩佾使侃來侍侗依侮侯便俎保俟信修俱倍倚借倦倩倫偃偏偲側偷備傳傷傾僎僕儀億儉儒優儺儼允兄兆先克免兒兕兢入內兩八公六兮共兵其具兼冉再冕冠冢冰冶凡凶出刀分切刑列別利到則前剛割創力功加助勃勇勉動務勝勞勤勿匏北匚匡匹匿區十千卅升半卑卒卓南博卞占危即卷卿厚原厭厲去參又及友反叔取受口古叩召可史右司各合吉同名后君吝否吳吾告周味呼命和咎咨哀哂哉哭唐唯商問啟善喜喟喪喭喻嗅嗚嘉嘗器噫四回因困固圃圉國圖土在圭地均坐坦坫城域執堂堅堪堯報塗塞墜壞壤士壯壽夏夕多夜夢大天太夫夭失夷奇奔奚奡奢奧奪女奴好如妻始姓威婦媚媵子孔存孝孟季孤孫孰學孺守安宋完宗官定宜客室宮宰害宴家容宿寄富寒察寡寢實寧審寬寮寶封射將專尊對小少尚尤就尸尹尺尼居屏屢履山崇崔崩巍川州工左巧巫己已巷巽市布希帛帝帥師席帶帷常干平年幸幼幾府度庭庶康庸庾廄廉廋廟廢廷廿弈弋式弒弓弔弗弘弟弦張彌彫彬彭彼往征待後徑徒得從御復循微徵德徹徼心必忍志忘忠忮念忽忿怍怒思怡急性怨怪恂恆恐恕恤恥恭息悔患悱悲悾情惑惜惟惠惡惰愆愈愉意愚愛感愬愿慈慍慎慝慟慢慧慮慾憂憎憚憤憮憲憾應懷懼懿戈戎成我戒或戚戮戰戲戶戾所手才扶承抑折拒拖拜拱持指掃授掌探接措揖揭損搏摯撤播撰擇擊據擯擾攘攝攷改攻放政故敏救敗教敝敢散敬數斂文斐斗斯新方於施旅族既日旨昆明易昔星春昭是時晉晏晝晨景晰智暇暑暴曆曰曲更書曾會月有朋服朔朕望朝期木未末本朱朽李材杖杞束東松枉析枕林果柏某柔柙柳柴栖栗校格桀桑桓桴梁梲棄棖棘棣棺植楚榮槨樂樊樹檐櫝權次欲欺歌歎止正武歲歸死殆殖殘殯殷殺殿毀毅毋母每比氏民氣水永求汶沂沐沒沛沮河治沽法泥泰洋洒津流浮浴海浸涅淫深淵淺清游湯溝溫溺滅滔滕漆漢潔潤澹濟濫瀆灌火為烈焉焚無然煥熟燕燧爭父爾牆片版牖牛牟牡牢物犁犬犯狂狄狎狐狷猛猶獄獨獲獸獻玄率玉王琢瑚瑟璉瓜瓢甘甚生產用甫甯由申畏畔畜畝畫異當疏疑疚疾病發白百皆皇皋皮盈益盍盛盜盡監盪目直相盼省眾睢瞻瞽矜矢矣知矩短石硜磋磨磬磷示社祇祗祝神祭祿禘禦禮禱禹禽秀私秉科秦移稱稷稻稼穀穆穴空穿突窒窬窮窺竊立章童竭端笑第等答策筲箕算管節篤簞簡簣籩粟精糞糧糾紂約紅納純素紫細紳紺終絏絕絞絢給絺綌綏經維綱綽緅緇縕縱縲總繚繪繫繳繹繼缺罔罕罪罰罷羊美羔羞群義羹羽羿習翔翕翼老者而耕耦耰耳聖聚聞聰聲聽肆肉肥肩肱肸能脛脩脯腥膚膾臣臧臨自臭至致臺臾與興舉舊舌舍舜舞舟良色芸苗苟若茍茲草荊荏荷莊莒莞莫菜華菲萬葉葬葸蒙蒞蓋蓧蔡蔽蕢蕩蕭薄薑薛薦薨藏藝藥藻蘧虎虐處虛虞蠻血行衛衡衣表衰衽袂袍袗被裁裘裨裳褻襁襄西要覆見視親覺覿觀角觚言討訐訒訕託訟訥詐詠試詩誄誅誘語誠誣誦誨說誰誾諂請諒論諫諶諸諾謀謂謗講謹證譎譖識譬議譽讀變讓豆豈豚豹貉貊貌貞負貢貧貨貪貫責貳貴費賈賊賓賚賜賞賢賣賤賦質赤赦起趙趨足跡路踐踖踧踰蹈蹜躁躩身躬車軍軏輅輔輕輗輟輿辟辨辭辰辱農迂迅近述迷追退送适逆通逝逞速造連逮進逸遂遇遊過道達違遠適遲遷選遺邇邑邦邪郁鄉鄙鄭鄰鄹酒醃醫醬里重野量釜釣錦錯鍾鏗鐸鑽長門開閑閒間閔閾闕關防阼附陋降陪陰陳陵陶陷陽隅階際隨隱雅集雉雌雍雕雖雞離難雩雲雷霸靈靜非面革鞠鞭鞹韞韶順須頌顏顓願顛類顧風食飪飯飲飽飾養餒餓餘餲餼饉饋饌饐饑首馬馮駕駟駢騂騧騫驕驥高髮鬥鬼魋魏魚魯鮀鮮鯉鳥鳳鳴麑麻黃黍默黜點黨黻黽鼓齊齒龜（）＋，；？､\n"
     ]
    }
   ],
   "source": [
    "from unidecode import unidecode\n",
    "from string import ascii_letters\n",
    "non_letters = set()\n",
    "for char in all_chars:\n",
    "    if unidecode(char) not in ascii_letters:\n",
    "        non_letters.add(char)\n",
    "\n",
    "print(\"\".join(sorted(list(non_letters))))\n",
    "with open(\"/tmp/nonletters.txt\", \"w\") as nonlettersfile:\n",
    "    nonlettersfile.write(\"\".join(sorted(list(non_letters))))"
   ],
   "metadata": {
    "collapsed": false,
    "pycharm": {
     "name": "#%%\n"
    }
   }
  },
  {
   "cell_type": "code",
   "execution_count": 12,
   "outputs": [],
   "source": [
    "chinese_chars = \"\"\"\n",
    "上下不且世丘並中主乃久之乎乘九乞也亂予事二于云互五井亞亟亡亢交亦享人仁今仍仕他仞代令以仰仲任伊伐伯似位何佚佛作佞佩佾使侃來侍侗依侮侯便俎保俟信修俱倍倚借倦倩倫偃偏偲側偷備傳傷傾僎僕儀億儉儒優儺儼允兄兆先克免兒兕兢入內兩八公六兮共兵其具兼冉再冕冠冢冰冶凡凶出刀分切刑列別利到則前剛割創力功加助勃勇勉動務勝勞勤勿匏北匚匡匹匿區十千卅升半卑卒卓南博卞占危即卷卿厚原厭厲去參又及友反叔取受口古叩召可史右司各合吉同名后君吝否吳吾告周味呼命和咎咨哀哂哉哭唐唯商問啟善喜喟喪喭喻嗅嗚嘉嘗器噫四回因困固圃圉國圖土在圭地均坐坦坫城域執堂堅堪堯報塗塞墜壞壤士壯壽夏夕多夜夢大天太夫夭失夷奇奔奚奡奢奧奪女奴好如妻始姓威婦媚媵子孔存孝孟季孤孫孰學孺守安宋完宗官定宜客室宮宰害宴家容宿寄富寒察寡寢實寧審寬寮寶封射將專尊對小少尚尤就尸尹尺尼居屏屢履山崇崔崩巍川州工左巧巫己已巷巽市布希帛帝帥師席帶帷常干平年幸幼幾府度庭庶康庸庾廄廉廋廟廢廷廿弈弋式弒弓弔弗弘弟弦張彌彫彬彭彼往征待後徑徒得從御復循微徵德徹徼心必忍志忘忠忮念忽忿怍怒思怡急性怨怪恂恆恐恕恤恥恭息悔患悱悲悾情惑惜惟惠惡惰愆愈愉意愚愛感愬愿慈慍慎慝慟慢慧慮慾憂憎憚憤憮憲憾應懷懼懿戈戎成我戒或戚戮戰戲戶戾所手才扶承抑折拒拖拜拱持指掃授掌探接措揖揭損搏摯撤播撰擇擊據擯擾攘攝攷改攻放政故敏救敗教敝敢散敬數斂文斐斗斯新方於施旅族既日旨昆明易昔星春昭是時晉晏晝晨景晰智暇暑暴曆曰曲更書曾會月有朋服朔朕望朝期木未末本朱朽李材杖杞束東松枉析枕林果柏某柔柙柳柴栖栗校格桀桑桓桴梁梲棄棖棘棣棺植楚榮槨樂樊樹檐櫝權次欲欺歌歎止正武歲歸死殆殖殘殯殷殺殿毀毅毋母每比氏民氣水永求汶沂沐沒沛沮河治沽法泥泰洋洒津流浮浴海浸涅淫深淵淺清游湯溝溫溺滅滔滕漆漢潔潤澹濟濫瀆灌火為烈焉焚無然煥熟燕燧爭父爾牆片版牖牛牟牡牢物犁犬犯狂狄狎狐狷猛猶獄獨獲獸獻玄率玉王琢瑚瑟璉瓜瓢甘甚生產用甫甯由申畏畔畜畝畫異當疏疑疚疾病發白百皆皇皋皮盈益盍盛盜盡監盪目直相盼省眾睢瞻瞽矜矢矣知矩短石硜磋磨磬磷示社祇祗祝神祭祿禘禦禮禱禹禽秀私秉科秦移稱稷稻稼穀穆穴空穿突窒窬窮窺竊立章童竭端笑第等答策筲箕算管節篤簞簡簣籩粟精糞糧糾紂約紅納純素紫細紳紺終絏絕絞絢給絺綌綏經維綱綽緅緇縕縱縲總繚繪繫繳繹繼缺罔罕罪罰罷羊美羔羞群義羹羽羿習翔翕翼老者而耕耦耰耳聖聚聞聰聲聽肆肉肥肩肱肸能脛脩脯腥膚膾臣臧臨自臭至致臺臾與興舉舊舌舍舜舞舟良色芸苗苟若茍茲草荊荏荷莊莒莞莫菜華菲萬葉葬葸蒙蒞蓋蓧蔡蔽蕢蕩蕭薄薑薛薦薨藏藝藥藻蘧虎虐處虛虞蠻血行衛衡衣表衰衽袂袍袗被裁裘裨裳褻襁襄西要覆見視親覺覿觀角觚言討訐訒訕託訟訥詐詠試詩誄誅誘語誠誣誦誨說誰誾諂請諒論諫諶諸諾謀謂謗講謹證譎譖識譬議譽讀變讓豆豈豚豹貉貊貌貞負貢貧貨貪貫責貳貴費賈賊賓賚賜賞賢賣賤賦質赤赦起趙趨足跡路踐踖踧踰蹈蹜躁躩身躬車軍軏輅輔輕輗輟輿辟辨辭辰辱農迂迅近述迷追退送适逆通逝逞速造連逮進逸遂遇遊過道達違遠適遲遷選遺邇邑邦邪郁鄉鄙鄭鄰鄹酒醃醫醬里重野量釜釣錦錯鍾鏗鐸鑽長門開閑閒間閔閾闕關防阼附陋降陪陰陳陵陶陷陽隅階際隨隱雅集雉雌雍雕雖雞離難雩雲雷霸靈靜非面革鞠鞭鞹韞韶順須頌顏顓願顛類顧風食飪飯飲飽飾養餒餓餘餲餼饉饋饌饐饑首馬馮駕駟駢騂騧騫驕驥高髮鬥鬼魋魏魚魯鮀鮮鯉鳥鳳鳴麑麻黃黍默黜點黨黻黽鼓齊齒龜\n",
    "\"\"\""
   ],
   "metadata": {
    "collapsed": false,
    "pycharm": {
     "name": "#%%\n"
    }
   }
  },
  {
   "cell_type": "code",
   "execution_count": 13,
   "outputs": [
    {
     "name": "stderr",
     "output_type": "stream",
     "text": [
      "  0%|          | 17/5351 [00:00<00:32, 164.39it/s]"
     ]
    },
    {
     "name": "stdout",
     "output_type": "stream",
     "text": [
      "lady_susan_0707_librivox_64kb_mp3_text.txt\n",
      "wives_daughters_0710_librivox_64kb_mp3_text.txt\n",
      "library_worlds_best_literature_01_1007_librivox_64kb_mp3_text.txt\n",
      "at_earths_core2_1410_librivox_64kb_mp3_text.txt\n",
      "helpinghimself_1303_librivox_64kb_mp3_text.txt\n",
      "littlecolonelshero_1201_librivox_64kb_mp3_text.txt\n",
      "histology_blood_1007_librivox_64kb_mp3_text.txt\n",
      "supermind_1403_librivox_64kb_mp3_text.txt\n",
      "belinda_1109_librivox_64kb_mp3_text.txt\n",
      "onebasket_pc_librivox_64kb_mp3_text.txt\n",
      "andthushecame_1401_librivox_64kb_mp3_text.txt\n",
      "fairy_tales_brazil_1006_librivox_64kb_mp3_text.txt\n",
      "recluse_1404_librivox_64kb_mp3_text.txt\n",
      "satyricon_1107_librivox_64kb_mp3_text.txt\n",
      "roseotheriver_1303_librivox_64kb_mp3_text.txt\n",
      "the_paradise_mystery_librivox_64kb_mp3_text.txt\n",
      "florida_sketchbook_0911_librivox_64kb_mp3_text.txt\n",
      "defendant_rc_librivox1_64kb_mp3_text.txt\n",
      "the_monastery_1501_librivox_64kb_mp3_text.txt\n",
      "french_revolution_1001_librivox_64kb_mp3_text.txt\n",
      "golden_age_0711_librivox_64kb_mp3_text.txt\n",
      "lair_white_worm_0911_librivox_64kb_mp3_text.txt\n",
      "good_sense_1004_librivox_64kb_mp3_text.txt\n",
      "shestoops_1305_librivox_64kb_mp3_text.txt\n",
      "singing_mouse_1006_librivox_64kb_mp3_text.txt\n",
      "helenineditorschair_1401_librivox_64kb_mp3_text.txt\n",
      "princess_passes_gh_librivox_64kb_mp3_text.txt\n",
      "hms_pinafore_1406_librivox_64kb_mp3_text.txt\n",
      "stickeen_sa_0809_librivox_64kb_mp3_text.txt\n",
      "their_yesterdays_1107_librivox_64kb_mp3_text.txt\n",
      "potter_treasury_librivox_64kb_mp3_text.txt\n"
     ]
    },
    {
     "name": "stderr",
     "output_type": "stream",
     "text": [
      "  1%|          | 50/5351 [00:00<00:36, 143.99it/s]"
     ]
    },
    {
     "name": "stdout",
     "output_type": "stream",
     "text": [
      "wealth_nations02-03_smith_se_librivox_64kb_mp3_text.txt\n",
      "misalliance_1307_librivox_64kb_mp3_text.txt\n",
      "coffee_repartee_1207_librivox_64kb_mp3_text.txt\n",
      "under_witches_moon_1407_librivox_64kb_mp3_text.txt\n",
      "ladys_visit_gold_diggings_0811_librivox_64kb_mp3_text.txt\n",
      "outline_of_science_2_0810_librivox_64kb_mp3_text.txt\n",
      "alonso_fitz_1002_librivox_64kb_mp3_text.txt\n",
      "prince_and_pauper_librivox_64kb_mp3_text.txt\n",
      "resurrection_2_1002_librivox_64kb_mp3_text.txt\n",
      "my_man_jeeves_librivox_64kb_mp3_text.txt\n",
      "straypebbles_1406_librivox_64kb_mp3_text.txt\n",
      "narrative_captivity_tg_librivox_64kb_mp3_text.txt\n",
      "apocryphal_acts_jd_1403_librivox_64kb_mp3_text.txt\n",
      "emperor_portugallia_1111_librivox_64kb_mp3_text.txt\n",
      "dog_of_flanders_rm_librivox_64kb_mp3_text.txt\n",
      "hushed_up_1106_librivox_64kb_mp3_text.txt\n",
      "favor_of_kings_1702_librivox_64kb_mp3_text.txt\n",
      "red_black_v2_1308_librivox_64kb_mp3_text.txt\n",
      "historicboyhoods_1402_librivox_64kb_mp3_text.txt\n",
      "lurelabradorwild_1110_librivox_64kb_mp3_text.txt\n",
      "elementarygreekgrammar_1507_librivox_64kb_mp3_text.txt\n",
      "jekyll_hyde_1111_librivox_64kb_mp3_text.txt\n",
      "children_new_forest_0709_librivox_64kb_mp3_text.txt\n",
      "littlecolonelschristmas_1309_librivox_64kb_mp3_text.txt\n",
      "religious_experience_1008_librivox_64kb_mp3_text.txt\n",
      "little_lame_prince_librivox_64kb_mp3_text.txt\n",
      "elsies_children_1502_librivox_64kb_mp3_text.txt\n",
      "underwesterneyes_1311_librivox_64kb_mp3_text.txt\n"
     ]
    },
    {
     "name": "stderr",
     "output_type": "stream",
     "text": [
      "  1%|▏         | 80/5351 [00:00<00:36, 144.50it/s]"
     ]
    },
    {
     "name": "stdout",
     "output_type": "stream",
     "text": [
      "tessofdurbervilles_av_librivox_64kb_mp3_text.txt\n",
      "justme_1207_librivox_64kb_mp3_text.txt\n",
      "toby_tyler_1101_librivox_64kb_mp3_text.txt\n",
      "english_governess_0903_librivox_64kb_mp3_text.txt\n",
      "round_the_red_lamp_1404_librivox_64kb_mp3_text.txt\n",
      "royalbookofoz_1410_librivox_64kb_mp3_text.txt\n",
      "great_stone_face_0911_librivox_64kb_mp3_text.txt\n",
      "fairyring_0905_librivox_64kb_mp3_text.txt\n",
      "macaulay_vol4_chap19_1110_64kb_mp3_text.txt\n",
      "edinburgh_lectures_1207_librivox_64kb_mp3_text.txt\n",
      "notesfromunderground_bn_librivox_64kb_mp3_text.txt\n",
      "dayof_sirwilfridlaurier_1504_librivox_64kb_mp3_text.txt\n",
      "lord_death_queen_life_1205_librivox_64kb_mp3_text.txt\n",
      "robert_falconer_km_librivox_64kb_mp3_text.txt\n",
      "king_irelands_son_dwj_librivox_64kb_mp3_text.txt\n",
      "comic_history_collab_librivox_64kb_mp3_text.txt\n",
      "woodcraft_1404_librivox_64kb_mp3_text.txt\n",
      "oldfashioned_thanksgiving_1302_librivox_64kb_mp3_text.txt\n",
      "around_world_80_days_mfs_librivox_64kb_mp3_text.txt\n",
      "roverboys_ocean_1209_librivox_64kb_mp3_text.txt\n",
      "simianworld_0906_librivox_64kb_mp3_text.txt\n",
      "planetofdread_pc_librivox_64kb_mp3_text.txt\n",
      "jacket_1203_librivox_64kb_mp3_text.txt\n",
      "he_1005_librivox_64kb_mp3_text.txt\n",
      "acts_kjv_v2_1401_librivox_64kb_mp3_text.txt\n",
      "black_amazon_of_mars_1010_librivox_64kb_mp3_text.txt\n",
      "onwar_1005_librivox_64kb_mp3_text.txt\n",
      "20000_leagues_under_seas_1110_librivox_64kb_mp3_text.txt\n",
      "efficiencyexpert_1207_librivox_64kb_mp3_text.txt\n",
      "marktwains_speeches_1309_librivox_64kb_mp3_text.txt\n",
      "hauntedbookshop_0807_librivox_64kb_mp3_text.txt\n",
      "howtosucceed_1304_librivox_64kb_mp3_text.txt\n",
      "endof_feast_1201_librivox_64kb_mp3_text.txt\n"
     ]
    },
    {
     "name": "stderr",
     "output_type": "stream",
     "text": [
      "  2%|▏         | 110/5351 [00:00<00:37, 140.66it/s]"
     ]
    },
    {
     "name": "stdout",
     "output_type": "stream",
     "text": [
      "ordeal_of_elizabeth_1502_librivox_64kb_mp3_text.txt\n",
      "diamond_master_1006_librivox_64kb_mp3_text.txt\n",
      "lettersofjaneausten_etk_librivox_64kb_mp3_text.txt\n",
      "fouramericanindians_1410_librivox_64kb_mp3_text.txt\n",
      "king_solomon_librivox_64kb_mp3_text.txt\n",
      "first_century_message_mas_librivox_64kb_mp3_text.txt\n",
      "struwwelpeter_eng_librivox_64kb_mp3_text.txt\n",
      "kept_in_dark_1301_librivox_64kb_mp3_text.txt\n",
      "three_men_bummel_0910_librivox_64kb_mp3_text.txt\n",
      "eyebright_1402_librivox_64kb_mp3_text.txt\n",
      "ebbtide_1203_librivox_64kb_mp3_text.txt\n",
      "macaulay_vol4_chap17_1109_librivox_64kb_mp3_text.txt\n",
      "belgian_twins_1103_librivox_64kb_mp3_text.txt\n",
      "book_damned_0901_librivox_64kb_mp3_text.txt\n",
      "roxana_eb_librivox_64kb_mp3_text.txt\n",
      "lincolnvol1_1305_librivox_64kb_mp3_text.txt\n",
      "little_white_bird_1502_librivox_64kb_mp3_text.txt\n",
      "blackthorn_farm_to_librivox_64kb_mp3_text.txt\n",
      "term_natural_life_1004_librivox_64kb_mp3_text.txt\n",
      "little_sister_snow_1211_librivox_64kb_mp3_text.txt\n",
      "bookoflife_1212_librivox_64kb_mp3_text.txt\n",
      "story_girl_librivox_64kb_mp3_text.txt\n",
      "prospective_mother_1204_librivox_64kb_mp3_text.txt\n",
      "janet_of_dunes_1004_librivox_64kb_mp3_text.txt\n",
      "littlejourneys_greatscientists_1410_librivox_64kb_mp3_text.txt\n",
      "twoonatower_th_librivox_64kb_mp3_text.txt\n"
     ]
    },
    {
     "name": "stderr",
     "output_type": "stream",
     "text": [
      "  2%|▏         | 125/5351 [00:00<00:38, 135.66it/s]"
     ]
    },
    {
     "name": "stdout",
     "output_type": "stream",
     "text": [
      "twice_told_tales_1206_librivox_64kb_mp3_text.txt\n",
      "hero_and_leander_mg_librivox_64kb_mp3_text.txt\n",
      "storyofdrdolittle_pc_librivox_64kb_mp3_text.txt\n",
      "madame_midas_lb_librivox_64kb_mp3_text.txt\n",
      "patchwork_girl_oz_1006_librivox_64kb_mp3_text.txt\n",
      "scarlet_pimpernel_1205_librivox_64kb_mp3_text.txt\n",
      "fighting_shepherdess_1103_librivox_64kb_mp3_text.txt\n",
      "twenty_two_goblins_1205_librivox_64kb_mp3_text.txt\n",
      "careers_danger_daring_1011_64kb_mp3_text.txt\n",
      "ontariopsgeography_1312_librivox_64kb_mp3_text.txt\n",
      "bootsandsaddles_1308_librivox_64kb_mp3_text.txt\n",
      "dawn_1108_librivox_64kb_mp3_text.txt\n",
      "madamedetreymes_etk_librivox_64kb_mp3_text.txt\n",
      "ghostsmoonshine_0710_librivox_64kb_mp3_text.txt\n",
      "alices_adventures_1003_64kb_mp3_text.txt\n",
      "extraordinary_twins_1002_librivox_64kb_mp3_text.txt\n",
      "high_valley_elli_librivox_64kb_mp3_text.txt\n",
      "notes_on_nursing_1005_librivox_64kb_mp3_text.txt\n",
      "feastofstfriend_rg_librivox_64kb_mp3_text.txt\n",
      "manchesterman_pb_librivox_64kb_mp3_text.txt\n",
      "violetfairy_1107_librivox_64kb_mp3_text.txt\n",
      "following_the_equator_0910_librivox_64kb_mp3_text.txt\n"
     ]
    },
    {
     "name": "stderr",
     "output_type": "stream",
     "text": [
      "  3%|▎         | 141/5351 [00:00<00:36, 141.78it/s]"
     ]
    },
    {
     "name": "stdout",
     "output_type": "stream",
     "text": [
      "mr_scarboroughs_family_1304_librivox_64kb_mp3_text.txt\n",
      "ragged_dick_librivox_64kb_mp3_text.txt\n",
      "the_dead_i_librivox_64kb_mp3_text.txt\n",
      "sowarmly_wemet_1008_librivox_64kb_mp3_text.txt\n",
      "public_opinion_1312_librivox_64kb_mp3_text.txt\n",
      "hardtimes_1109_librivox_64kb_mp3_text.txt\n",
      "chatterertheredsquirrel_1307_librivox_64kb_mp3_text.txt\n"
     ]
    },
    {
     "name": "stderr",
     "output_type": "stream",
     "text": [
      "  3%|▎         | 175/5351 [00:01<00:33, 153.46it/s]"
     ]
    },
    {
     "name": "stdout",
     "output_type": "stream",
     "text": [
      "wonderclock_1309_librivox_64kb_mp3_text.txt\n",
      "pellucidar_version_2_1410_librivox_64kb_mp3_text.txt\n",
      "hidden_gems_1005_librivox_64kb_mp3_text.txt\n",
      "gods_country_ehl_librivox_64kb_mp3_text.txt\n",
      "thebacchae_1011_librivox_64kb_mp3_text.txt\n",
      "paying_guest_1206_librivox_64kb_mp3_text.txt\n",
      "thais_1308_librivox_64kb_mp3_text.txt\n",
      "woman_new_race_1205_librivox_64kb_mp3_text.txt\n",
      "balderdead_0911_librivox_64kb_mp3_text.txt\n",
      "alices_adventures_64kb_mp3_text.txt\n",
      "book_of_matthew_librivox_64kb_mp3_text.txt\n",
      "ordeal_of_mark_twain_lb_librivox_64kb_mp3_text.txt\n",
      "astounding_stories_05_1311_librivox_64kb_mp3_text.txt\n",
      "morningsatbowstreet_1206_librivox_64kb_mp3_text.txt\n",
      "thousandmilewalk_1312_librivox_64kb_mp3_text.txt\n",
      "gardening_without_irrigation_0911_librivox_64kb_mp3_text.txt\n",
      "wars_of_the_jews_0908_librivox_64kb_mp3_text.txt\n",
      "victory_1101_librivox_64kb_mp3_text.txt\n",
      "ladys_life_rocky_mtns_lc_librivox_64kb_mp3_text.txt\n",
      "beyondliesthewub_pc_librivox_64kb_mp3_text.txt\n",
      "kings_daughter_other_stories_for_girls_1502_librivox_64kb_mp3_text.txt\n",
      "blindfolded_1002_librivox_64kb_mp3_text.txt\n",
      "nightmareabbey_mfs_librivox_64kb_mp3_text.txt\n",
      "tale_betsy_butterfly_lb_librivox_64kb_mp3_text.txt\n",
      "nonsensesongs_ap_librivox_64kb_mp3_text.txt\n",
      "mr_hogarths_will_0902_librivox_64kb_mp3_text.txt\n",
      "laddie_1005_librivox_64kb_mp3_text.txt\n",
      "homely_heroine_pc_librivox_64kb_mp3_text.txt\n",
      "horses_tale_1011_librivox_64kb_mp3_text.txt\n",
      "bacteria_1501_librivox_64kb_mp3_text.txt\n",
      "a_visit_to_three_fronts_1408_librivox_64kb_mp3_text.txt\n",
      "outspan_1011_librivox_64kb_mp3_text.txt\n",
      "autobiography_methuselah_mr_librivox_64kb_mp3_text.txt\n",
      "history_of_london_rg_librivox_64kb_mp3_text.txt\n",
      "indiscreet_letter_k_librivox_64kb_mp3_text.txt\n",
      "merry_tales_dw_1312_librivox_64kb_mp3_text.txt\n",
      "prince_of_good_fellows_1005_librivox_64kb_mp3_text.txt\n",
      "commonsense_gg_librivox_64kb_mp3_text.txt\n",
      "dodowonders_1305_librivox_64kb_mp3_text.txt\n",
      "democracyeducation_1303_librivox_64kb_mp3_text.txt\n",
      "mike_wodehouse_dl_librivox_64kb_mp3_text.txt\n"
     ]
    },
    {
     "name": "stderr",
     "output_type": "stream",
     "text": [
      "  4%|▎         | 195/5351 [00:01<00:32, 160.41it/s]"
     ]
    },
    {
     "name": "stdout",
     "output_type": "stream",
     "text": [
      "lost_princess_oz_librivox_64kb_mp3_text.txt\n",
      "whatisproperty_1312_librivox_64kb_mp3_text.txt\n",
      "pollyanna_porter_librivox_64kb_mp3_text.txt\n",
      "kalevala_1403_librivox_64kb_mp3_text.txt\n",
      "the_stark_munro_letters_1408_librivox_64kb_mp3_text.txt\n",
      "story_of_ab_0906_librivox_64kb_mp3_text.txt\n",
      "robbery_under_arms_1101_librivox_64kb_mp3_text.txt\n",
      "300aesopsfables_ma_librivox_64kb_mp3_text.txt\n",
      "lady_roses_daughter_1208_librivox_64kb_mp3_text.txt\n",
      "huckleberry_finn_0908_librivox_64kb_mp3_text.txt\n",
      "ngmo2_3-5_1402_librivox_64kb_mp3_text.txt\n",
      "the_shuttle_1002_librivox_64kb_mp3_text.txt\n",
      "howtotellstory_1403_librivox_64kb_mp3_text.txt\n",
      "carrados_librivox_64kb_mp3_text.txt\n",
      "seven_woods_1207_librivox_64kb_mp3_text.txt\n",
      "return_of_tarzan_rs_librivox_64kb_mp3_text.txt\n",
      "second_jungle_0902_librivox_64kb_mp3_text.txt\n",
      "pariah_planet_pc_librivox_64kb_mp3_text.txt\n",
      "book_of_tea_librivox_64kb_mp3_text.txt\n",
      "unbeaten_tracks_japan_ava_librivox_64kb_mp3_text.txt\n"
     ]
    },
    {
     "name": "stderr",
     "output_type": "stream",
     "text": [
      "  4%|▍         | 212/5351 [00:01<00:34, 150.69it/s]"
     ]
    },
    {
     "name": "stdout",
     "output_type": "stream",
     "text": [
      "wealth_of_nations_1104_librivox_64kb_mp3_text.txt\n",
      "thereddust_pc_librivox_64kb_mp3_text.txt\n",
      "magic_world_rg_librivox_64kb_mp3_text.txt\n",
      "willandway_1203_librivox_64kb_mp3_text.txt\n",
      "jackcheckbook_1311_librivox_64kb_mp3_text.txt\n",
      "littlesistersnow_1311_librivox_64kb_mp3_text.txt\n",
      "james_watt_bb_librivox_64kb_mp3_text.txt\n",
      "dancingmania_1107_librivox_64kb_mp3_text.txt\n",
      "practical_instruction_detectives_1408_librivox_64kb_mp3_text.txt\n",
      "early_spring_librivox_64kb_mp3_text.txt\n"
     ]
    },
    {
     "name": "stderr",
     "output_type": "stream",
     "text": [
      "  4%|▍         | 235/5351 [00:01<00:29, 171.05it/s]"
     ]
    },
    {
     "name": "stdout",
     "output_type": "stream",
     "text": [
      "sky_is_falling_1003_librivox_64kb_mp3_text.txt\n",
      "history_caliph_vathek_1010_ms_librivox_64kb_mp3_text.txt\n",
      "2br02b_0801_librivox_64kb_mp3_text.txt\n",
      "black_arrow_0810_librivox_64kb_mp3_text.txt\n",
      "_text.txt\n",
      "prussian_officer_cb_librivox_64kb_mp3_text.txt\n",
      "further_chronicles_avonlea_sd_librivox_64kb_mp3_text.txt\n",
      "dominick_ferrand_0911_librivox_64kb_mp3_text.txt\n",
      "outline_of_science_vol3_1107_librivox_64kb_mp3_text.txt\n",
      "mr_wickers_window_0911_64kb_mp3_text.txt\n",
      "sonnets_buonarroti_campanella_mj_1402_librivox_64kb_mp3_text.txt\n",
      "ngm04_1501_librivox_64kb_mp3_text.txt\n",
      "ohmoneymoney_1104_librivox_64kb_mp3_text.txt\n",
      "old_rail_fence_corners_1405_librivox_64kb_mp3_text.txt\n",
      "a_daily_rate_1812_librivox_64kb_mp3_text.txt\n",
      "jewelsaptor_bt_1303_librivox_64kb_mp3_text.txt\n",
      "boy_scouts_first_camp_fire_1504_librivox_64kb_mp3_text.txt\n",
      "countyfair_0911_64kb_mp3_text.txt\n",
      "comingpeople_1002_librivox_64kb_mp3_text.txt\n",
      "chimes_rg_librivox_64kb_mp3_text.txt\n",
      "more_goops_librivox_64kb_mp3_text.txt\n",
      "puddnhead_my_librivox_64kb_mp3_text.txt\n",
      "ghostsofpiccadilly_1004_librivox_64kb_mp3_text.txt\n",
      "annie_kilburn_1207_librivox_64kb_mp3_text.txt\n",
      "rover_boys_at_school_1101_librivox_64kb_mp3_text.txt\n",
      "legend_vonstein_1211_librivox_64kb_mp3_text.txt\n",
      "jennie_brice_wh_librivox_64kb_mp3_text.txt\n",
      "inventions_idiot_1104_librivox_64kb_mp3_text.txt\n",
      "callofthewild_tc_1010_librivox_64kb_mp3_text.txt\n",
      "moretish_1503_librivox_64kb_mp3_text.txt\n",
      "owl_pussycat_librivox_64kb_mp3_text.txt\n",
      "khaki_kook_book_0905_librivox_64kb_mp3_text.txt\n",
      "when_knights_were_bold_0904_librivox_64kb_mp3_text.txt\n"
     ]
    },
    {
     "name": "stderr",
     "output_type": "stream",
     "text": [
      "  5%|▍         | 254/5351 [00:01<00:29, 175.55it/s]"
     ]
    },
    {
     "name": "stdout",
     "output_type": "stream",
     "text": [
      "popular_history_ireland_book01_0803_librivox1_64kb_mp3_text.txt\n",
      "write_right_0806_librivox_64kb_mp3_text.txt\n",
      "report_on_ufos_1009_librivox_64kb_mp3_text.txt\n",
      "deathworld_gm_0904_librivox_64kb_mp3_text.txt\n",
      "ethan_frome_0802_librivox_64kb_mp3_text.txt\n",
      "brownie_beaver_bb_librivox_64kb_mp3_text.txt\n",
      "havoc_1405_librivox_64kb_mp3_text.txt\n"
     ]
    },
    {
     "name": "stderr",
     "output_type": "stream",
     "text": [
      "  5%|▌         | 272/5351 [00:01<00:30, 168.74it/s]"
     ]
    },
    {
     "name": "stdout",
     "output_type": "stream",
     "text": [
      "elements_geology_1010_librivox_64kb_mp3_text.txt\n",
      "defiant_agents_1303_librivox_64kb_mp3_text.txt\n",
      "treatise_human_nature_2_1107_librivox_64kb_mp3_text.txt\n",
      "eastlynne_1104_librivox_64kb_mp3_text.txt\n",
      "worksofpoe_vol3_1301_librivox_64kb_mp3_text.txt\n",
      "tale_of_daddy_longlegs_lb_librivox_64kb_mp3_text.txt\n",
      "houseboatonthestyx_0810_librivox_64kb_mp3_text.txt\n",
      "hefellinlove_1310_librivox_64kb_mp3_text.txt\n",
      "little_fuzzy_0911_librivox_64kb_mp3_text.txt\n",
      "make_mine_homogenised_1112_librivox_64kb_mp3_text.txt\n",
      "wonderwings_librivox_64kb_mp3_text.txt\n",
      "john_marchmonds_legacy_1110_librivox_64kb_mp3_text.txt\n",
      "indian_cornplanter_1205_librivox_64kb_mp3_text.txt\n",
      "revoltedwoman_1406_librivox_64kb_mp3_text.txt\n",
      "invaders_from_the_infinite_mn_librivox_64kb_mp3_text.txt\n",
      "devils_dictionary_librivox_64kb_mp3_text.txt\n",
      "shirleyletters_0808_librivox_64kb_mp3_text.txt\n",
      "secret_garden_librivox_64kb_mp3_text.txt\n",
      "manofconsequence_1407.poem_librivox_64kb_mp3_text.txt\n",
      "brother_jacob_1310_librivox_64kb_mp3_text.txt\n",
      "cyranodebergerac_1411_librivox_64kb_mp3_text.txt\n",
      "theseasons_1309_librivox_64kb_mp3_text.txt\n",
      "montessorihandbook_pc_librivox_64kb_mp3_text.txt\n",
      "new_chronicles_rebecca_0712_librivox_64kb_mp3_text.txt\n",
      "old_curiosity_shop_eu_librivox_64kb_mp3_text.txt\n"
     ]
    },
    {
     "name": "stderr",
     "output_type": "stream",
     "text": [
      "  5%|▌         | 290/5351 [00:01<00:29, 170.35it/s]"
     ]
    },
    {
     "name": "stdout",
     "output_type": "stream",
     "text": [
      "sikhreligion_1504_librivox_64kb_mp3_text.txt\n",
      "o_pioneers_librivox_64kb_mp3_text.txt\n",
      "richard_ii_1201_librivox_64kb_mp3_text.txt\n",
      "historicgirls_1207_librivox_64kb_mp3_text.txt\n",
      "seven_hanged_1202_librivox_64kb_mp3_text.txt\n",
      "mad_planet_1104_librivox_64kb_mp3_text.txt\n",
      "cranford_version_2_1308_librivox_64kb_mp3_text.txt\n"
     ]
    },
    {
     "name": "stderr",
     "output_type": "stream",
     "text": [
      "  6%|▌         | 308/5351 [00:01<00:31, 162.18it/s]"
     ]
    },
    {
     "name": "stdout",
     "output_type": "stream",
     "text": [
      "rosary_librivox_64kb_mp3_text.txt\n",
      "handbook_of_nature-study_je_librivox_64kb_mp3_text.txt\n",
      "blessedjohnmarievianney_1410_librivox_64kb_mp3_text.txt\n",
      "heroines_history_1011_librivox_64kb_mp3_text.txt\n",
      "symposium_0909_librivox_64kb_mp3_text.txt\n",
      "believe_me_if_all_1002_librivox_64kb_mp3_text.txt\n",
      "carelton_0809_librivox_64kb_mp3_text.txt\n",
      "christmas_morning_1012_librivox_64kb_mp3_text.txt\n",
      "wildanimalsihaveknown_1410_librivox_64kb_mp3_text.txt\n",
      "tourmalins_time_cheques_0911_librivox_64kb_mp3_text.txt\n",
      "alices_adventures_1005_librivox_64kb_mp3_text.txt\n",
      "story_of_geronimo_1308_librivox_64kb_mp3_text.txt\n",
      "prince_bn_librivox_64kb_mp3_text.txt\n",
      "worlds_best_mystery_6_1108_librivox_64kb_mp3_text.txt\n",
      "childhood_english_librivox_64kb_mp3_text.txt\n",
      "red_diamonds_1208_librivox_64kb_mp3_text.txt\n",
      "light_of_egypt_vol2_jp_librivox_64kb_mp3_text.txt\n",
      "being_earnest_librivox_64kb_mp3_text.txt\n",
      "east_by_west2_rg_librivox_64kb_mp3_text.txt\n",
      "love_freindship_cs_librivox_64kb_mp3_text.txt\n",
      "headlong_hall_1112_librivox_64kb_mp3_text.txt\n",
      "lifted_veil_0909_librivox_64kb_mp3_text.txt\n",
      "childs_garden_verses_librivox_64kb_mp3_text.txt\n",
      "jungle_tw_0908_librivox_64kb_mp3_text.txt\n",
      "my_brilliant_career_0909_librivox_64kb_mp3_text.txt\n",
      "off-hand_sketches_1004_librivox_64kb_mp3_text.txt\n"
     ]
    },
    {
     "name": "stderr",
     "output_type": "stream",
     "text": [
      "  6%|▋         | 340/5351 [00:02<00:34, 143.29it/s]"
     ]
    },
    {
     "name": "stdout",
     "output_type": "stream",
     "text": [
      "bible_4epistles_kjv_1104_librivox_64kb_mp3_text.txt\n",
      "lord_arthur_savile_1502_librivox_64kb_mp3_text.txt\n",
      "christmas_eve_swamps_end_dw_1310_librivox_64kb_mp3_text.txt\n",
      "thiscountry2_0904_64kb_mp3_text.txt\n",
      "adventures_of_tom_sawyer_1402_librivox_64kb_mp3_text.txt\n",
      "wise_otherwise_0903_librivox_64kb_mp3_text.txt\n",
      "finding_of_jasper_holt_1807_librivox_64kb_mp3_text.txt\n",
      "king_in_babylon_1312_librivox_64kb_mp3_text.txt\n",
      "if_kipling_librivox_64kb_mp3_text.txt\n",
      "psychology_of_sex_1106_librivox_64kb_mp3_text.txt\n",
      "henrietta_hen_1305_librivox_64kb_mp3_text.txt\n",
      "humbugs_of_world_0911_librivox_64kb_mp3_text.txt\n",
      "louise_de_la_valliere_1310_librivox_64kb_mp3_text.txt\n",
      "anne_ofthe_island_1210_librivox_64kb_mp3_text.txt\n",
      "highacres_1509_librivox_64kb_mp3_text.txt\n",
      "dogstale_2008-06-18_librivox_64kb_mp3_text.txt\n",
      "blindness_1010_librivox_64kb_mp3_text.txt\n",
      "hound_baskervilles_1206_librivox_64kb_mp3_text.txt\n",
      "popular_history_ireland_vol6_0809_librivox1_64kb_mp3_text.txt\n",
      "autobiography_of_madame_guyon_0907_librivox1_64kb_mp3_text.txt\n",
      "sheridanroadmystery_1002_librivox_64kb_mp3_text.txt\n",
      "astounding_stories_07_1405_librivox_64kb_mp3_text.txt\n",
      "works_poe_raven_edition_vol1_1109_64kb_mp3_text.txt\n",
      "passionate_pilgrim_cal_librivox_64kb_mp3_text.txt\n",
      "native_races_war_1501_librivox_64kb_mp3_text.txt\n",
      "american_fairytales_1104_librivox_64kb_mp3_text.txt\n",
      "our_little_english_cousin_1310_librivox_64kb_mp3_text.txt\n",
      "on_anything_1003_librivox_64kb_mp3_text.txt\n",
      "golden_goose_librivox_64kb_mp3_text.txt\n",
      "money_moon_jl_0907_librivox_64kb_mp3_text.txt\n",
      "departed_days_1105_librivox_64kb_mp3_text.txt\n",
      "our_old_home_1107_librivox_64kb_mp3_text.txt\n"
     ]
    },
    {
     "name": "stderr",
     "output_type": "stream",
     "text": [
      "  7%|▋         | 377/5351 [00:02<00:30, 161.40it/s]"
     ]
    },
    {
     "name": "stdout",
     "output_type": "stream",
     "text": [
      "thiscountry7_1506_librivox_64kb_mp3_text.txt\n",
      "confessionsalghazali_1610_librivox_64kb_mp3_text.txt\n",
      "echo_0904_librivox_64kb_mp3_text.txt\n",
      "in_midst_life_dw_librivox_64kb_mp3_text.txt\n",
      "hanging_librivox_64kb_mp3_text.txt\n",
      "arcadian_adventures_0908_librivox_64kb_mp3_text.txt\n",
      "the_rainy_day_1310.poem_librivox_64kb_mp3_text.txt\n",
      "hunter_patrol_pc_librivox_64kb_mp3_text.txt\n",
      "poems_owen_1203_librivox_64kb_mp3_text.txt\n",
      "treasurechest_1307_librivox_64kb_mp3_text.txt\n",
      "graceharlowe_junioryear_highschoolv2_1102_librivox_64kb_mp3_text.txt\n",
      "golden_bough_0904_librivox_64kb_mp3_text.txt\n",
      "love_and_mr_lewisham_ao_1410_librivox_64kb_mp3_text.txt\n",
      "insurrection_dublin_i_librivox_64kb_mp3_text.txt\n",
      "nightoflongknives_pc_librivox_64kb_mp3_text.txt\n",
      "captain_stormfield_heaven_0912_librivox_64kb_mp3_text.txt\n",
      "ohwhere_1502.poem_librivox_64kb_mp3_text.txt\n",
      "stolensouls_1308_librivox_64kb_mp3_text.txt\n",
      "out_of_time_abyss_lf_librivox_64kb_mp3_text.txt\n",
      "happy_prince_1312_librivox_64kb_mp3_text.txt\n",
      "the_road_1407_librivox_64kb_mp3_text.txt\n",
      "iliad_for_boys_girls_librivox_64kb_mp3_text.txt\n",
      "sixcharacters_1108_librivox_64kb_mp3_text.txt\n",
      "alice_adams_j_librivox_64kb_mp3_text.txt\n",
      "little_princess_1305_librivox_64kb_mp3_text.txt\n",
      "fifty_years_chains_1410_librivox_64kb_mp3_text.txt\n",
      "fraternalcharity_dv_librivox_64kb_mp3_text.txt\n",
      "tartarinoftarascon_201011_librivox_64kb_mp3_text.txt\n",
      "canadian_wonder_tales_0911_librivox_64kb_mp3_text.txt\n",
      "rada_abelgianchristmas_dw_librivox_64kb_mp3_text.txt\n",
      "dotandtotofmerryland_1401_librivox_64kb_mp3_text.txt\n",
      "exploits_brigadier_gerard_1004_librivox_64kb_mp3_text.txt\n",
      "jekyll_and_hyde_librivox_64kb_mp3_text.txt\n",
      "dick_sands_the_boy_captain_act_librivox_64kb_mp3_text.txt\n",
      "gods_of_mars_librivox_64kb_mp3_text.txt\n",
      "dangertrail_0910_librivox_64kb_mp3_text.txt\n",
      "just_and_unjust_1103_librivox_64kb_mp3_text.txt\n",
      "don_quixote_vol1_librivox_64kb_mp3_text.txt\n"
     ]
    },
    {
     "name": "stderr",
     "output_type": "stream",
     "text": [
      "  8%|▊         | 414/5351 [00:02<00:29, 169.23it/s]"
     ]
    },
    {
     "name": "stdout",
     "output_type": "stream",
     "text": [
      "whitemoll_0811_librivox_64kb_mp3_text.txt\n",
      "backofthenorthwind_1507_librivox_64kb_mp3_text.txt\n",
      "roughnotes_1412_librivox_64kb_mp3_text.txt\n",
      "seven_against_thebes_1210_librivox_64kb_mp3_text.txt\n",
      "0_sense_and_sensibility_librivox_64kb_mp3_text.txt\n",
      "gunmans_reckoning_1111_librivox_64kb_mp3_text.txt\n",
      "trimmed_lamp_librivox_64kb_mp3_text.txt\n",
      "handy_cyclopedia_librivox_64kb_mp3_text.txt\n",
      "worlds_best_mystery_5_1104_librivox_64kb_mp3_text.txt\n",
      "three_men_maid_0809_librivox_64kb_mp3_text.txt\n",
      "ivorychild_1012_librivox_64kb_mp3_text.txt\n",
      "ivecometostay_1311_librivox_64kb_mp3_text.txt\n",
      "ester_ried_tg_librivox_64kb_mp3_text.txt\n",
      "submarine_boys_trial_trip_1408_librivox_64kb_mp3_text.txt\n",
      "treasure_island_1307_librivox_64kb_mp3_text.txt\n",
      "ontheeve_1308_librivox_64kb_mp3_text.txt\n",
      "hero_tales_from_american_history_dl_0905_librivox_64kb_mp3_text.txt\n",
      "lord_fauntleroy_librivox_64kb_mp3_text.txt\n",
      "adventures_of_prickly_porky_1311_librivox_64kb_mp3_text.txt\n",
      "withfireandsword_1302_librivox_64kb_mp3_text.txt\n",
      "amongforestpeople_1405_librivox_64kb_mp3_text.txt\n",
      "lord_jim_librivox_64kb_mp3_text.txt\n",
      "shores_great_sea_1005_librivox_64kb_mp3_text.txt\n",
      "mind_among_spindles_librivox_mas_64kb_mp3_text.txt\n",
      "pastdays_1012_librivox_64kb_mp3_text.txt\n",
      "the_secret_of_charlotte_bronte_1502_librivox_64kb_mp3_text.txt\n",
      "branding_iron_rm_librivox_64kb_mp3_text.txt\n",
      "police_your_planet_ca_librivox_64kb_mp3_text.txt\n",
      "kokoro_hearn_1312_librivox_64kb_mp3_text.txt\n",
      "hist_US_IV_0801_librivox2_64kb_mp3_text.txt\n",
      "woman_who_went_to_alaska_kc_librivox_64kb_mp3_text.txt\n",
      "five_little_peppers_grew_librivox_64kb_mp3_text.txt\n"
     ]
    },
    {
     "name": "stderr",
     "output_type": "stream",
     "text": [
      "  8%|▊         | 449/5351 [00:02<00:31, 158.01it/s]"
     ]
    },
    {
     "name": "stdout",
     "output_type": "stream",
     "text": [
      "beric_briton_go_librivox_64kb_mp3_text.txt\n",
      "phaedra_1306_librivox_64kb_mp3_text.txt\n",
      "autobiography_trollope_1202_librivox_64kb_mp3_text.txt\n",
      "passing_etk_librivox_64kb_mp3_text.txt\n",
      "amusement_only_1204_librivox_64kb_mp3_text.txt\n",
      "afghan_wars_part1_1206_64kb_mp3_text.txt\n",
      "rainbow_trail_1212_librivox_64kb_mp3_text.txt\n",
      "notes_war_correspondent_1005_librivox_64kb_mp3_text.txt\n",
      "eudemianethics_1307_librivox_64kb_mp3_text.txt\n",
      "world_that-couldnt_be_1011_librivox_64kb_mp3_text.txt\n",
      "call_1305_librivox_64kb_mp3_text.txt\n",
      "anne_gables_0808_64kb_mp3_text.txt\n",
      "war_in_air_1110_librivox_64kb_mp3_text.txt\n",
      "queen_victoria_1208_librivox_64kb_mp3_text.txt\n",
      "master_flea_bn_librivox_64kb_mp3_text.txt\n",
      "at_villa_rose_1112_librivox_64kb_mp3_text.txt\n",
      "orley_farm_1010_librivox_64kb_mp3_text.txt\n",
      "moon_metal_blb_librivox_64kb_mp3_text.txt\n",
      "sappho_100_lyrics_1603_librivox_64kb_mp3_text.txt\n",
      "battle_marathon_n_librivox_64kb_mp3_text.txt\n",
      "reconciliation_1205_librivox_64kb_mp3_text.txt\n",
      "cocoa_chocolate_0807_librivox_64kb_mp3_text.txt\n",
      "otto_silver_hand_librivox_64kb_mp3_text.txt\n",
      "rape_of_lucrece_1106_librivox_64kb_mp3_text.txt\n",
      "skylark_three_1103_librivox_64kb_mp3_text.txt\n",
      "yourmind_1402_librivox_64kb_mp3_text.txt\n",
      "prefacetopolitics_1404_librivox_64kb_mp3_text.txt\n",
      "treasureisland_librivox_64kb_mp3_text.txt\n",
      "maidofmaidenlane_1408_librivox_64kb_mp3_text.txt\n",
      "napoleon_notting_hill_0807_km_librivox1_64kb_mp3_text.txt\n",
      "tar_baby_111113_librivox_64kb_mp3_text.txt\n",
      "scenesofclericallife_bp_librivox_64kb_mp3_text.txt\n",
      "diversions_sicily_rs_librivox_64kb_mp3_text.txt\n"
     ]
    },
    {
     "name": "stderr",
     "output_type": "stream",
     "text": [
      "  9%|▊         | 465/5351 [00:03<00:33, 145.70it/s]"
     ]
    },
    {
     "name": "stdout",
     "output_type": "stream",
     "text": [
      "symposium_1403_librivox_64kb_mp3_text.txt\n",
      "roughing_in_bush_mf_librivox_64kb_mp3_text.txt\n",
      "pirates_own_book_0910_librivox_64kb_mp3_text.txt\n",
      "adventures_bindle_dwj_librivox_64kb_mp3_text.txt\n",
      "true_to_old_flag_1004_librivox_64kb_mp3_text.txt\n",
      "uncle_silas_0911_librivox_64kb_mp3_text.txt\n",
      "little_men_collab_librivox_64kb_mp3_text.txt\n",
      "sheik_1306_librivox_64kb_mp3_text.txt\n",
      "agony_column_0902_librivox_64kb_mp3_text.txt\n",
      "uncle_remus_librivox_64kb_mp3_text.txt\n",
      "endowmentsofman_dv_librivox_64kb_mp3_text.txt\n",
      "christmas_tree_1012_librivox_64kb_mp3_text.txt\n",
      "that_mainwaring_affair_jms_64kb_mp3_text.txt\n",
      "upas_tree_1010_librivox_64kb_mp3_text.txt\n",
      "thatlassolowries_1406_librivox_64kb_mp3_text.txt\n",
      "jataka_tales_1305_librivox_64kb_mp3_text.txt\n",
      "father_goriot_jec_librivox_64kb_mp3_text.txt\n",
      "history_farming_ontario_1111_ehl_64kb_mp3_text.txt\n",
      "tecumseh_1104_librivox_64kb_mp3_text.txt\n",
      "aspernpapers_0907_librivox_64kb_mp3_text.txt\n",
      "history_inquisition_spain_vol1_1004_librivox_64kb_mp3_text.txt\n",
      "curiositiesofoldentimes_1211_librivox_64kb_mp3_text.txt\n",
      "anticipations_1206_librivox_64kb_mp3_text.txt\n",
      "spiritsofthedead_1410.poem_librivox_64kb_mp3_text.txt\n",
      "sonnet_23_librivox_64kb_mp3_text.txt\n",
      "mrsshelley_1010_librivox_64kb_mp3_text.txt\n",
      "lincoln_story_book2_0902_librivox_64kb_mp3_text.txt\n",
      "timemachine_sjm_librivox_64kb_mp3_text.txt\n"
     ]
    },
    {
     "name": "stderr",
     "output_type": "stream",
     "text": [
      "  9%|▉         | 498/5351 [00:03<00:33, 145.53it/s]"
     ]
    },
    {
     "name": "stdout",
     "output_type": "stream",
     "text": [
      "o_captain_1408.poem_librivox_64kb_mp3_text.txt\n",
      "warlord_mars_jd_librivox_64kb_mp3_text.txt\n",
      "mad_king_1111_librivox_64kb_mp3_text.txt\n",
      "somehow_good_1407_librivox_64kb_mp3_text.txt\n",
      "stand_by_for_mars_1007_librivox_64kb_mp3_text.txt\n",
      "voyagetoarcturus_mn_librivox_64kb_mp3_text.txt\n",
      "holiestofall_cs_librivox_64kb_mp3_text.txt\n",
      "barbara_in_brittany_0901_librivox_64kb_mp3_text.txt\n",
      "sufferingdefeat_1304_librivox_64kb_mp3_text.txt\n",
      "mayor_casterbridge_1207_librivox_64kb_mp3_text.txt\n",
      "touchingincidents_1309_librivox_64kb_mp3_text.txt\n",
      "wrecker_1404_librivox_64kb_mp3_text.txt\n",
      "american_crusoe_ah_librivox_64kb_mp3_text.txt\n",
      "slant_book_librivox_64kb_mp3_text.txt\n",
      "mary_frances_knitting_crocheting_book_1611_librivox_64kb_mp3_text.txt\n",
      "itinerary_leland_pb_librivox_64kb_mp3_text.txt\n",
      "idyllsoftheking_etk_librivox_64kb_mp3_text.txt\n",
      "perfect_strain_0808_librivox_64kb_mp3_text.txt\n",
      "ificanstop_1007_librivox_64kb_mp3_text.txt\n",
      "bible_1thessalonians_kjv_1010_librivox_64kb_mp3_text.txt\n",
      "l_assommoir_0907_librivox_64kb_mp3_text.txt\n",
      "november_1211_librivox_64kb_mp3_text.txt\n",
      "sylvie_and_bruno_0910_librivox_64kb_mp3_text.txt\n",
      "enchanted_islands_atlantic_1306_librivox_64kb_mp3_text.txt\n",
      "story_bible_4_0803_librivox_64kb_mp3_text.txt\n",
      "toysofpeace_1204_librivox_64kb_mp3_text.txt\n"
     ]
    },
    {
     "name": "stderr",
     "output_type": "stream",
     "text": [
      " 10%|▉         | 533/5351 [00:03<00:31, 153.85it/s]"
     ]
    },
    {
     "name": "stdout",
     "output_type": "stream",
     "text": [
      "last_chronicle_barset_1102_64kb_mp3_text.txt\n",
      "trawler_rm_1008_librivox_64kb_mp3_text.txt\n",
      "blue_envelope_dl_librivox_64kb_mp3_text.txt\n",
      "little_maid_provincetown_1211_librivox_64kb_mp3_text.txt\n",
      "raffles_further_adventures_0809_librivox_64kb_mp3_text.txt\n",
      "inthefield_fnh_librivox_64kb_mp3_text.txt\n",
      "twain_autobiography_librivox_64kb_mp3_text.txt\n",
      "valley_of_fear_v2_1306_librivox_64kb_mp3_text.txt\n",
      "mark_kjv_sw_librivox_64kb_mp3_text.txt\n",
      "problems_of_philosophy_librivox_64kb_mp3_text.txt\n",
      "philoctetes_1205_librivox_64kb_mp3_text.txt\n",
      "haunted_hotel_1001_librivox_64kb_mp3_text.txt\n",
      "disagreeable_man_1206_librivox_64kb_mp3_text.txt\n",
      "20thcenturyinventions_1104_librivox_64kb_mp3_text.txt\n",
      "food_guide_for_war_service_at_home_mk_librivox_64kb_mp3_text.txt\n",
      "ngm_vol03_1407_librivox_64kb_mp3_text.txt\n",
      "newgate_calendar1_0910_librivox_64kb_mp3_text.txt\n",
      "merry_adventures_robin_hood_librivox_64kb_mp3_text.txt\n",
      "four_million_1207_librivox_64kb_mp3_text.txt\n",
      "melting_of_molly_0908_librivox_64kb_mp3_text.txt\n",
      "romanceofoldfool_0912_librivox_64kb_mp3_text.txt\n",
      "greater_inclination_etk_librivox_64kb_mp3_text.txt\n",
      "childs_garden_of_verses_1503_librivox_64kb_mp3_text.txt\n",
      "behindamask_etk_librivox_64kb_mp3_text.txt\n",
      "lmm_short_stories_1905_1110_librivox_64kb_mp3_text.txt\n",
      "shadows_zamboula_1304_librivox_64kb_mp3_text.txt\n",
      "piloting_directions_finland_1201_librivox_64kb_mp3_text.txt\n",
      "expositorythoughtsonthegospelsstmark_ms_librivox_64kb_mp3_text.txt\n",
      "pollyanna-1_pc_librivox_64kb_mp3_text.txt\n",
      "henryvipart2_1012_librivox_64kb_mp3_text.txt\n",
      "romance_two_worlds_alg_librivox_64kb_mp3_text.txt\n",
      "patricia_brent_0808_librivox_64kb_mp3_text.txt\n",
      "365_foreign_dishes_1210_librivox_64kb_mp3_text.txt\n",
      "lysistrata_1012_librivox_64kb_mp3_text.txt\n",
      "wonderful_bed_librivox_64kb_mp3_text.txt\n",
      "chestertoncalendar_1108_librivox_64kb_mp3_text.txt\n",
      "creativechemistry_1010_librivox_64kb_mp3_text.txt\n",
      "womans_prize_1210_librivox_64kb_mp3_text.txt\n"
     ]
    },
    {
     "name": "stderr",
     "output_type": "stream",
     "text": [
      " 11%|█         | 571/5351 [00:03<00:29, 159.71it/s]"
     ]
    },
    {
     "name": "stdout",
     "output_type": "stream",
     "text": [
      "philippics_cicero_0907_librivox2_64kb_mp3_text.txt\n",
      "let_us_make_each_day_1002_librivox_64kb_mp3_text.txt\n",
      "midsummernightsdream3_1401_librivox_64kb_mp3_text.txt\n",
      "jesus_himself_1402_librivox_64kb_mp3_text.txt\n",
      "lysbeth_ar_librivox_64kb_mp3_text.txt\n",
      "beasts_superbeasts_0907_64kb_mp3_text.txt\n",
      "lmmshortstories1909_a_1107_64kb_mp3_text.txt\n",
      "ozma_oz_1201_librivox_64kb_mp3_text.txt\n",
      "shakespeareandmusic_1110_librivox_64kb_mp3_text.txt\n",
      "publicdomain_64kb_mp3_text.txt\n",
      "humehistoryengland_1d_1304_librivox_64kb_mp3_text.txt\n",
      "bible_defence_slavery_1208_librivox_64kb_mp3_text.txt\n",
      "riot_act_librivox_64kb_mp3_text.txt\n",
      "beautiful_joe_ah_librivox_64kb_mp3_text.txt\n",
      "littlespanishcousin_1308_librivox_64kb_mp3_text.txt\n",
      "second_april_klh_0904_librivox_64kb_mp3_text.txt\n",
      "miss_billy_1012_librivox_64kb_mp3_text.txt\n",
      "ezra_kjv_sw_librivox_64kb_mp3_text.txt\n",
      "rillaofingleside_version_2_1309_librivox_64kb_mp3_text.txt\n",
      "studyinscarlet_0811_librivox_64kb_mp3_text.txt\n",
      "american_notes_tb_librivox_64kb_mp3_text.txt\n",
      "gabriel_hourbook_1302_librivox_64kb_mp3_text.txt\n",
      "billofrights_madison_0801_librivox_64kb_mp3_text.txt\n",
      "ideal_bartender_librivox_64kb_mp3_text.txt\n",
      "make-believe_man_1206_librivox_64kb_mp3_text.txt\n",
      "plastic_age_1011_librivox_64kb_mp3_text.txt\n",
      "book_of_tobias_librivox_64kb_mp3_text.txt\n",
      "pickwickpapers_0709_librivox_64kb_mp3_text.txt\n",
      "journal_voyage_lisbon_jc_librivox_64kb_mp3_text.txt\n",
      "oldfashionedfairybook_cb_librivox_64kb_mp3_text.txt\n",
      "california_1007_librivox_64kb_mp3_text.txt\n",
      "ravenandpoemspoe_pc_librivox_64kb_mp3_text.txt\n",
      "a_rogues_life_1410_librivox_64kb_mp3_text.txt\n",
      "newenglandgirlhood_1109_librivox_64kb_mp3_text.txt\n",
      "oldmanandass_1307_librivox_64kb_mp3_text.txt\n",
      "outdoorgirlsofdeepdale_1408_librivox_64kb_mp3_text.txt\n"
     ]
    },
    {
     "name": "stderr",
     "output_type": "stream",
     "text": [
      " 11%|█▏        | 604/5351 [00:03<00:31, 150.62it/s]"
     ]
    },
    {
     "name": "stdout",
     "output_type": "stream",
     "text": [
      "whirligigs_1405_librivox_64kb_mp3_text.txt\n",
      "war_and_peace_06_0808_librivox_64kb_mp3_text.txt\n",
      "life_apollonius_tyana_1101_librivox_64kb_mp3_text.txt\n",
      "throckmorton_1501_librivox_64kb_mp3_text.txt\n",
      "charlemagne_notker_0803_64kb_mp3_text.txt\n",
      "valley_of_fear_kl_librivox_64kb_mp3_text.txt\n",
      "old_christmas_version_2_gg_1407_librivox_64kb_mp3_text.txt\n",
      "wizard_1011_librivox_64kb_mp3_text.txt\n",
      "thepracticeofthepresenceofgod_1401_librivox_64kb_mp3_text.txt\n",
      "grandfatherfrog_1305_librivox_64kb_mp3_text.txt\n",
      "terror_mystery_0707_librivox_64kb_mp3_text.txt\n",
      "mrswarrensprofession_1101_librivox_64kb_mp3_text.txt\n",
      "parasite_librivox_64kb_mp3_text.txt\n",
      "bacon_bb_librivox_64kb_mp3_text.txt\n",
      "wulfthesaxon_1302_librivox_64kb_mp3_text.txt\n",
      "visionary_1201_librivox_64kb_mp3_text.txt\n",
      "niels_klim_0904_librivox_64kb_mp3_text.txt\n",
      "bible_ruth_tg_librivox_64kb_mp3_text.txt\n",
      "wealth_nations04_1001_librivox_64kb_mp3_text.txt\n",
      "littlehouse_fw_1301_librivox_64kb_mp3_text.txt\n",
      "exercises_in_knitting_0902_librivox_64kb_mp3_text.txt\n",
      "canadas_hundred_days_0910_librivox_64kb_mp3_text.txt\n",
      "pitching_pinch_ls_librivox_64kb_mp3_text.txt\n",
      "told_in_a_french_garden_1010_librivox_64kb_mp3_text.txt\n",
      "my_actor_husband_2101_librivox_64kb_mp3_text.txt\n",
      "penguin_island_ms_librivox_64kb_mp3_text.txt\n"
     ]
    },
    {
     "name": "stderr",
     "output_type": "stream",
     "text": [
      " 12%|█▏        | 620/5351 [00:04<00:35, 134.27it/s]"
     ]
    },
    {
     "name": "stdout",
     "output_type": "stream",
     "text": [
      "old_new_masters_1212_librivox_64kb_mp3_text.txt\n",
      "mrmunchausen_1401_librivox_64kb_mp3_text.txt\n",
      "custom_of_country_0808_64kb_mp3_text.txt\n",
      "gilded_age_1010_librivox_64kb_mp3_text.txt\n",
      "theoldyear_1401.poem_librivox_64kb_mp3_text.txt\n",
      "three_sisters_1101_librivox_64kb_mp3_text.txt\n",
      "sevenkeys_baldpate_1402_librivox_64kb_mp3_text.txt\n",
      "cleek_man_of_forty_faces_rg_librivox_64kb_mp3_text.txt\n",
      "graceharlowesproblem_aj_librivox_64kb_mp3_text.txt\n",
      "stones_venice2_1305_librivox_64kb_mp3_text.txt\n",
      "life_cicero_2_0909_librivox_64kb_mp3_text.txt\n",
      "fair_mystery_1309_librivox_64kb_mp3_text.txt\n",
      "pickwick_papers_1009_librivox_64kb_mp3_text.txt\n",
      "woman_american_frontier_1101_librivox_64kb_mp3_text.txt\n",
      "motherwestwindhow_1411_librivox_64kb_mp3_text.txt\n",
      "story_bible7_0810_librivox_64kb_mp3_text.txt\n",
      "two_paths_1105_librivox_64kb_mp3_text.txt\n",
      "willnobody_1107_librivox_64kb_mp3_text.txt\n",
      "prince_pa_librivox_64kb_mp3_text.txt\n",
      "royalson_dv_1107_64kb_mp3_text.txt\n",
      "life_mexico_k_librivox_64kb_mp3_text.txt\n",
      "our_mr_wrenn_dwj_librivox_64kb_mp3_text.txt\n",
      "highwayman_1112_librivox_64kb_mp3_text.txt\n"
     ]
    },
    {
     "name": "stderr",
     "output_type": "stream",
     "text": [
      " 12%|█▏        | 655/5351 [00:04<00:31, 148.07it/s]"
     ]
    },
    {
     "name": "stdout",
     "output_type": "stream",
     "text": [
      "pathological_lying_accusation_swindling_1010_librivox_64kb_mp3_text.txt\n",
      "goldencalf_1303_librivox_64kb_mp3_text.txt\n",
      "trumpetmajor_0904_librivox_64kb_mp3_text.txt\n",
      "rain_bt_0906_librivox_64kb_mp3_text.txt\n",
      "eddas_elder_younger_1810_librivox_64kb_mp3_text.txt\n",
      "charlotte_temple_1103_librivox_64kb_mp3_text.txt\n",
      "billy_whiskers_1102_librivox_64kb_mp3_text.txt\n",
      "bobbseytwins_1005_librivox_64kb_mp3_text.txt\n",
      "artofstagedancing_1404_librivox_64kb_mp3_text.txt\n",
      "mastersindwelling_cs_librivox_64kb_mp3_text.txt\n",
      "mylifeandwork_1007_librivox_64kb_mp3_text.txt\n",
      "beyondtheblackriver_pc_librivox_64kb_mp3_text.txt\n",
      "translations_imitations_german_ballads_gds_librivox_64kb_mp3_text.txt\n",
      "clive_in_india_1211_librivox_64kb_mp3_text.txt\n",
      "old_mother_west_wind_law_librivox_64kb_mp3_text.txt\n",
      "self_selfmanagement_rg_librivox_64kb_mp3_text.txt\n",
      "withumor_america_v5_1107_librivox_64kb_mp3_text.txt\n",
      "kingarthursknights_1208_librivox_64kb_mp3_text.txt\n",
      "ladys_life_on_farm_in_manitoba_sd_librivox_64kb_mp3_text.txt\n",
      "poems_passion_1004_librivox_64kb_mp3_text.txt\n",
      "meteorology_weather_explained_1205b_librivox_64kb_mp3_text.txt\n",
      "pike_dyke_1003_librivox_64kb_mp3_text.txt\n",
      "pearls_1507_librivox_64kb_mp3_text.txt\n",
      "love_letters_of_mrs_piozzi_1401_librivox_64kb_mp3_text.txt\n",
      "out_of_times_abyss_rs_0809_librivox_64kb_mp3_text.txt\n",
      "fishing_worm_librivox_64kb_mp3_text.txt\n",
      "andes_amazon_1206_librivox_64kb_mp3_text.txt\n",
      "americansandothers_1010_librivox_64kb_mp3_text.txt\n",
      "iola_leroy_1310_librivox_64kb_mp3_text.txt\n",
      "visions_1009_librivox_64kb_mp3_text.txt\n",
      "sergeantyork_bd_librivox_64kb_mp3_text.txt\n",
      "the_zeit-geist_1403_librivox_64kb_mp3_text.txt\n",
      "aunt_jos_scrapbag_1005_librivox_64kb_mp3_text.txt\n",
      "encyclicalletterspopeleo_1411_librivox_64kb_mp3_text.txt\n"
     ]
    },
    {
     "name": "stderr",
     "output_type": "stream",
     "text": [
      " 13%|█▎        | 671/5351 [00:04<00:32, 145.95it/s]"
     ]
    },
    {
     "name": "stdout",
     "output_type": "stream",
     "text": [
      "return_of_peter_grimm_1402_librivox_64kb_mp3_text.txt\n",
      "excursion_1106_librivox_64kb_mp3_text.txt\n",
      "midnight_passenger_1104_librivox_64kb_mp3_text.txt\n",
      "fivechildren_librivox_64kb_mp3_text.txt\n",
      "grub_street_1001_librivox_64kb_mp3_text.txt\n",
      "picturesfrom__italy_ao_1302_librivox_64kb_mp3_text.txt\n",
      "mis_smith_1304_librivox_64kb_mp3_text.txt\n",
      "thewindandthemoon_1410.poem_librivox_64kb_mp3_text.txt\n",
      "black_jack_1203_librivox_64kb_mp3_text.txt\n",
      "hume_history_england_1a_1207_librivox_64kb_mp3_text.txt\n",
      "through_fray_gc_librivox_64kb_mp3_text.txt\n",
      "mother_careys_chickens_1012_librivox_64kb_mp3_text.txt\n",
      "hagar_pawnshop_1410_librivox_64kb_mp3_text.txt\n",
      "guidetomoderncookery1_1406_librivox_64kb_mp3_text.txt\n",
      "treasure_island_ap_librivox_64kb_mp3_text.txt\n",
      "confessions_1510_librivox_64kb_mp3_text.txt\n",
      "earlier_poems_1411_librivox_64kb_mp3_text.txt\n",
      "war_and_peace_07_0808_librivox_64kb_mp3_text.txt\n"
     ]
    },
    {
     "name": "stderr",
     "output_type": "stream",
     "text": [
      " 13%|█▎        | 703/5351 [00:04<00:36, 127.17it/s]"
     ]
    },
    {
     "name": "stdout",
     "output_type": "stream",
     "text": [
      "bleak_house_cl_librivox_64kb_mp3_text.txt\n",
      "trial_jury_ba_0811_librivox_64kb_mp3_text.txt\n",
      "jerry_1305_librivox_64kb_mp3_text.txt\n",
      "hist_us_2_0707_librivox_64kb_mp3_text.txt\n",
      "woodlanders_0911_librivox_64kb_mp3_text.txt\n",
      "peterpandramaticreading_1409_librivox_64kb_mp3_text.txt\n",
      "emma_sd_librivox_64kb_mp3_text.txt\n",
      "cheese_1001_librivox_64kb_mp3_text.txt\n",
      "story_hour_readers_sd_0811_librivox_64kb_mp3_text.txt\n",
      "indiscretions_archie_mn_librivox_64kb_mp3_text.txt\n",
      "ninthman_1512_librivox_64kb_mp3_text.txt\n",
      "sisterrosa_0710_librivox_64kb_mp3_text.txt\n",
      "wind_willows_1202_librivox_64kb_mp3_text.txt\n",
      "dubliners_1302_librivox_64kb_mp3_text.txt\n",
      "toautumn_1012_librivox_64kb_mp3_text.txt\n",
      "windsor_castle_book6_1406_librivox_64kb_mp3_text.txt\n",
      "sixcreepytales_pc_librivox_64kb_mp3_text.txt\n",
      "looking-glass_1007_64kb_mp3_text.txt\n",
      "waitingongod_cs_librivox_64kb_mp3_text.txt\n",
      "grace_harlowes_first_year_overton_1009_librivox_64kb_mp3_text.txt\n",
      "ruth_erskines_son_tg_librivox_64kb_mp3_text.txt\n",
      "william_tell_1003_librivox_64kb_mp3_text.txt\n",
      "gallipoli_diary_sa_librivox_64kb_mp3_text.txt\n",
      "max_carrados_dwj_librivox_64kb_mp3_text.txt\n",
      "sappho_1301_librivox_64kb_mp3_text.txt\n",
      "kenilworth_0911_librivox_64kb_mp3_text.txt\n",
      "popular_hist_ireland_12_0904_sd_librivox1_64kb_mp3_text.txt\n",
      "souls_for_sale_db_1311_librivox_64kb_mp3_text.txt\n"
     ]
    },
    {
     "name": "stderr",
     "output_type": "stream",
     "text": [
      " 13%|█▎        | 717/5351 [00:04<00:41, 112.59it/s]"
     ]
    },
    {
     "name": "stdout",
     "output_type": "stream",
     "text": [
      "once_on_a_time_1008_librivox_64kb_mp3_text.txt\n",
      "lara_a_tale_1009_librivox_64kb_mp3_text.txt\n",
      "music_notation_1009_librivox_64kb_mp3_text.txt\n",
      "ladies_etiquette_and_politeness_1310_librivox_64kb_mp3_text.txt\n",
      "historyofkinglear_1208_librivox_64kb_mp3_text.txt\n",
      "calendarandotherverses_1405_librivox_64kb_mp3_text.txt\n",
      "taleofponytwinkleheels_1303_librivox_64kb_mp3_text.txt\n",
      "principle_population_0908_librivox_64kb_mp3_text.txt\n",
      "lilith_pw_librivox_64kb_mp3_text.txt\n",
      "shadows_ce_librivox_64kb_mp3_text.txt\n",
      "newarabiannights_1206_librivox_64kb_mp3_text.txt\n",
      "neighbors_1107_librivox_64kb_mp3_text.txt\n",
      "bibleyoungpeoplevolume2_1411_librivox_64kb_mp3_text.txt\n",
      "love_and_intrigue_1210_librivox_64kb_mp3_text.txt\n",
      "tomswift_electronichydrolung_1007_librivox_64kb_mp3_text.txt\n",
      "early_history_airplane_1003_librivox_64kb_mp3_text.txt\n",
      "rootabaga_stories_librivox_64kb_mp3_text.txt\n",
      "bunyip_land_0801_librivox_64kb_mp3_text.txt\n",
      "my_life_on_plains_1106_librivox_64kb_mp3_text.txt\n",
      "macaulay_vol4_chap18_1108_librivox_64kb_mp3_text.txt\n",
      "uncleremus17_pc_librivox_64kb_mp3_text.txt\n"
     ]
    },
    {
     "name": "stderr",
     "output_type": "stream",
     "text": [
      " 14%|█▍        | 743/5351 [00:05<00:40, 115.16it/s]"
     ]
    },
    {
     "name": "stdout",
     "output_type": "stream",
     "text": [
      "autobiographyofgoethevol2_1411_librivox_64kb_mp3_text.txt\n",
      "daisy_miller_0708_librivox_64kb_mp3_text.txt\n",
      "poems_by_currer_ellis_and_acton_bell_1311_librivox_64kb_mp3_text.txt\n",
      "mrwickerswindow2_1003_librivox_64kb_mp3_text.txt\n",
      "petit_nord_sh_librivox_64kb_mp3_text.txt\n",
      "strangemanuscript_0807_librivox_64kb_mp3_text.txt\n",
      "thedeviliniron_pc_librivox_64kb_mp3_text.txt\n",
      "poems_rupert_brooke_gr_librivox1_64kb_mp3_text.txt\n",
      "manual_eqyptian_archaeology_1112_librivox_64kb_mp3_text.txt\n",
      "brighton_boys_radio_service_tc_librivox_64kb_mp3_text.txt\n",
      "ourmutualfriend_1101_librivox_64kb_mp3_text.txt\n",
      "sunnyside_1206_librivox_64kb_mp3_text.txt\n",
      "tiktokofozversion_2_1310_librivox_64kb_mp3_text.txt\n",
      "fourfaces_tw_librivox_64kb_mp3_text.txt\n",
      "book_discovery_0911_librivox_64kb_mp3_text.txt\n",
      "war_and_peace_01_librivox_64kb_mp3_text.txt\n",
      "latchkeymybookhouse_1504_librivox_64kb_mp3_text.txt\n",
      "dracula_1006_librivox_64kb_mp3_text.txt\n"
     ]
    },
    {
     "name": "stderr",
     "output_type": "stream",
     "text": [
      " 15%|█▍        | 776/5351 [00:05<00:37, 121.55it/s]"
     ]
    },
    {
     "name": "stdout",
     "output_type": "stream",
     "text": [
      "little_women_1101_librivox_64kb_mp3_text.txt\n",
      "oresteia_1002_librivox_64kb_mp3_text.txt\n",
      "drb_1maccabees_0808_librivox_64kb_mp3_text.txt\n",
      "diary_nursing_sister_0911_librivox_64kb_mp3_text.txt\n",
      "martyred_armenia_1009_librivox_64kb_mp3_text.txt\n",
      "inca_lands_1206_librivox_64kb_mp3_text.txt\n",
      "invisible_links_0810_librivox_64kb_mp3_text.txt\n",
      "the_boss_1312_librivox_64kb_mp3_text.txt\n",
      "animal_ghosts_ah_0901_librivox_64kb_mp3_text.txt\n",
      "californiacoasttrails_1504_librivox_64kb_mp3_text.txt\n",
      "americanchristianity_1408_librivox_64kb_mp3_text.txt\n",
      "tales_three_hemispheres_1412_librivox_64kb_mp3_text.txt\n",
      "bible_kjv_11_1king_0909_librivox_64kb_mp3_text.txt\n",
      "goodnaturedman_1309_librivox_64kb_mp3_text.txt\n",
      "sophisms_1005_librivox_64kb_mp3_text.txt\n",
      "quest_sacredslipper_1009_librivox_64kb_mp3_text.txt\n",
      "witandhumor_10_1201_librivox_64kb_mp3_text.txt\n",
      "upfromslavery_0908_librivox_64kb_mp3_text.txt\n",
      "twobearsm_1212_ms_librivox_64kb_mp3_text.txt\n",
      "adventures_gerard_1005_librivox_64kb_mp3_text.txt\n",
      "smile_smile_smile_0811_librivox_64kb_mp3_text.txt\n",
      "marge_askinforimarge_askinforit_nb_librivox_64kb_mp3_text.txt\n",
      "mytravels_1809_librivox_64kb_mp3_text.txt\n",
      "star_hunter_lr_librivox_64kb_mp3_text.txt\n",
      "thousand_nights_and_a_night_vol04_1103_librivox_64kb_mp3_text.txt\n",
      "life_poem_21_dickinson_64kb_mp3_text.txt\n",
      "alcibiades1_1212_librivox_64kb_mp3_text.txt\n",
      "xenophons_anabasis_0906_librivox1_64kb_mp3_text.txt\n",
      "lifeofmozart1_1503_librivox_64kb_mp3_text.txt\n",
      "clarimonde_0909_librivox_64kb_mp3_text.txt\n",
      "midnight_queen_1003_librivox_64kb_mp3_text.txt\n",
      "international_episode_64kb_mp3_text.txt\n",
      "quiettalks_prayer_1103_librivox_64kb_mp3_text.txt\n",
      "herdarkinheritance_1501_librivox_64kb_mp3_text.txt\n"
     ]
    },
    {
     "name": "stderr",
     "output_type": "stream",
     "text": [
      " 15%|█▍        | 790/5351 [00:05<00:42, 108.13it/s]"
     ]
    },
    {
     "name": "stdout",
     "output_type": "stream",
     "text": [
      "desert_drama_dw_librivox_64kb_mp3_text.txt\n",
      "stuffed_elephant_solo_librivox_64kb_mp3_text.txt\n",
      "richard_first_0902_librivox_64kb_mp3_text.txt\n",
      "historic_girlhoods1_1312_librivox_64kb_mp3_text.txt\n",
      "best_thing_in_the_world_1003_librivox_64kb_mp3_text.txt\n",
      "myreminiscences_1410_librivox_64kb_mp3_text.txt\n",
      "ambassadors_james_1102_librivox_64kb_mp3_text.txt\n",
      "memoirs_casanova1_0812_librivox_64kb_mp3_text.txt\n",
      "magicpudding_1109_librivox_64kb_mp3_text.txt\n",
      "princess_priscillas_fortnight_tt_librivox_64kb_mp3_text.txt\n",
      "carved_lions_1405_librivox_64kb_mp3_text.txt\n",
      "wodehouse_shorts_1103_librivox_64kb_mp3_text.txt\n",
      "jcrow_party_librivox_64kb_mp3_text.txt\n",
      "therese_raquin_1008_librivox_64kb_mp3_text.txt\n",
      "orange_fairy_book_1005_librivox_64kb_mp3_text.txt\n",
      "protector_rm_librivox_64kb_mp3_text.txt\n",
      "patty_college_1207_librivox_64kb_mp3_text.txt\n",
      "anne_greengables_librivox_64kb_mp3_text.txt\n",
      "wessex_tales_th_librivox_64kb_mp3_text.txt\n",
      "the_victorious_attitude_1404_librivox_64kb_mp3_text.txt\n"
     ]
    },
    {
     "name": "stderr",
     "output_type": "stream",
     "text": [
      " 16%|█▌        | 830/5351 [00:05<00:30, 146.27it/s]"
     ]
    },
    {
     "name": "stdout",
     "output_type": "stream",
     "text": [
      "supreme_personality_0902_librivox_64kb_mp3_text.txt\n",
      "what_katy_did_1005_librivox_64kb_mp3_text.txt\n",
      "dannys_own_story_1408_librivox_64kb_mp3_text.txt\n",
      "warlord_mars_tac_librivox_64kb_mp3_text.txt\n",
      "bruce_1310_librivox_64kb_mp3_text.txt\n",
      "skyisland_1311_librivox_64kb_mp3_text.txt\n",
      "blackamazonofmars_1310_librivox_64kb_mp3_text.txt\n",
      "adventures_holmes_64kb_mp3_text.txt\n",
      "pentecost_calamity_dw_librivox_64kb_mp3_text.txt\n",
      "enchanted_castle_pe_librivox_64kb_mp3_text.txt\n",
      "secretofeverydaythings_1402_librivox_64kb_mp3_text.txt\n",
      "men_women_and_ghosts_1407_librivox_64kb_mp3_text.txt\n",
      "wessex_poems_1312_librivox_64kb_mp3_text.txt\n",
      "people_time_forgot_rs_0809_librivox_64kb_mp3_text.txt\n",
      "octopus_dhd_librivox_64kb_mp3_text.txt\n",
      "varied_types_rd_librivox1_64kb_mp3_text.txt\n",
      "as_a_man_thinketh_1312_librivox_64kb_mp3_text.txt\n",
      "moon_sixpence_td_0911_librivox_64kb_mp3_text.txt\n",
      "no_clue_rm_0903_librivox_64kb_mp3_text.txt\n",
      "white_jacket_1104_librivox_64kb_mp3_text.txt\n",
      "devolutioniste_1212_librivox_64kb_mp3_text.txt\n",
      "light_princess_librivox_64kb_mp3_text.txt\n",
      "advance_science_jms_librivox_64kb_mp3_text.txt\n",
      "vitai_lampada_1009_librivox_64kb_mp3_text.txt\n",
      "windamongthereeds_1401_librivox_64kb_mp3_text.txt\n",
      "story_childhood_1010_librivox_64kb_mp3_text.txt\n",
      "odyssey_butler_librivox_64kb_mp3_text.txt\n",
      "nansherwoodpinecamp_1206_librivox_64kb_mp3_text.txt\n",
      "mudsparrows_1112_librivox_64kb_mp3_text.txt\n",
      "clearcrystals_jp_librivox_64kb_mp3_text.txt\n",
      "dream_play_1403_librivox_64kb_mp3_text.txt\n",
      "success_0904_librivox_64kb_mp3_text.txt\n",
      "doctors_wife_1204_librivox_64kb_mp3_text.txt\n",
      "lady_of_quality_1206_librivox_64kb_mp3_text.txt\n",
      "yankeegirl_1110_librivox_64kb_mp3_text.txt\n",
      "marie_antoinette_1302_librivox_64kb_mp3_text.txt\n",
      "diary_of_nobody_librivox_64kb_mp3_text.txt\n"
     ]
    },
    {
     "name": "stderr",
     "output_type": "stream",
     "text": [
      " 16%|█▌        | 846/5351 [00:05<00:35, 125.67it/s]"
     ]
    },
    {
     "name": "stdout",
     "output_type": "stream",
     "text": [
      "risefall_confederategovt_1b_1402_librivox_64kb_mp3_text.txt\n",
      "danger_and_other_stories_1404_librivox_64kb_mp3_text.txt\n",
      "essays_book2_1301_librivox_64kb_mp3_text.txt\n",
      "toldunderwhiteoaktree_1209_librivox_64kb_mp3_text.txt\n",
      "book_1001_nights3_1005_librivox_64kb_mp3_text.txt\n",
      "bornagain_1208_librivox_64kb_mp3_text.txt\n",
      "linksrebeccaslife_1303_librivox_64kb_mp3_text.txt\n",
      "phineas_redux_0908_librivox1_64kb_mp3_text.txt\n",
      "fablesforthefrivolous_version_2_1311_librivox_64kb_mp3_text.txt\n",
      "gold_hunters_experience_sa_librivox_64kb_mp3_text.txt\n",
      "knights_of_art_-_stories_of_the_italian_painters_1403_librivox_64kb_mp3_text.txt\n",
      "in_the_morning_of_life_0909_librivox_64kb_mp3_text.txt\n",
      "maya_the_bee_0902_librivox_64kb_mp3_text.txt\n",
      "ontheheavens_1202_librivox_64kb_mp3_text.txt\n",
      "english_costume_1104_librivox_64kb_mp3_text.txt\n",
      "long_ago_0909_librivox_64kb_mp3_text.txt\n",
      "new_testament_kneeland_1412_librivox_64kb_mp3_text.txt\n",
      "protagoras_1303_librivox_64kb_mp3_text.txt\n",
      "amiablecharlatan_1405_librivox_64kb_mp3_text.txt\n",
      "the_taxi_1310.poem_librivox_64kb_mp3_text.txt\n",
      "revelation_mp_librivox_64kb_mp3_text.txt\n",
      "janeeyre3_1212_librivox_64kb_mp3_text.txt\n",
      "heroes_middle_ages_kb_librivox_64kb_mp3_text.txt\n"
     ]
    },
    {
     "name": "stderr",
     "output_type": "stream",
     "text": [
      " 16%|█▋        | 876/5351 [00:06<00:35, 126.08it/s]"
     ]
    },
    {
     "name": "stdout",
     "output_type": "stream",
     "text": [
      "canadas_hundred_days_4_librivox_64kb_mp3_text.txt\n",
      "mysterious_island_ms_librivox_64kb_mp3_text.txt\n",
      "redmenandwhite_1204_librivox_64kb_mp3_text.txt\n",
      "gettysburg_address4_librivox_64kb_mp3_text.txt\n",
      "idiot_mg_librivox_64kb_mp3_text.txt\n",
      "plague_ship_librivox_64kb_mp3_text.txt\n",
      "northanger_abbey_etk_librivox_64kb_mp3_text.txt\n",
      "sidelights_relativity_pa_librivox_64kb_mp3_text.txt\n",
      "legacy_1008_librivox_64kb_mp3_text.txt\n",
      "compilationmessagespapersofpresidentulyssessgrant_1608_librivox_64kb_mp3_text.txt\n",
      "enchanted_island_yew_librivox_64kb_mp3_text.txt\n",
      "portrait_of_lady_vol_2_0807_librivox1_64kb_mp3_text.txt\n",
      "songs_kabir_1006_librivox_64kb_mp3_text.txt\n",
      "shakespeare_sonnets_ch_64kb_mp3_text.txt\n",
      "this_country_pt1_ks_64kb_mp3_text.txt\n",
      "kingofmind_1403_librivox_64kb_mp3_text.txt\n",
      "lives_of_girls_1104_librivox_64kb_mp3_text.txt\n",
      "maker_of_rainbows_1305_librivox_64kb_mp3_text.txt\n",
      "henrydunbar_1309_librivox_64kb_mp3_text.txt\n",
      "essays_book1_1204_librivox_64kb_mp3_text.txt\n"
     ]
    },
    {
     "name": "stderr",
     "output_type": "stream",
     "text": [
      " 17%|█▋        | 906/5351 [00:06<00:35, 125.94it/s]"
     ]
    },
    {
     "name": "stdout",
     "output_type": "stream",
     "text": [
      "autobiographygoethevol1_1402_librivox_64kb_mp3_text.txt\n",
      "persuit_house_boat_1205_librivox_64kb_mp3_text.txt\n",
      "armyofdeath_1311.poem_librivox_64kb_mp3_text.txt\n",
      "adashforathrone_1303_librivox_64kb_mp3_text.txt\n",
      "silly_syclopedia_1003_librivox_64kb_mp3_text.txt\n",
      "little_saint_elizabeth_1012_librivox_64kb_mp3_text.txt\n",
      "children_home_1208_librivox_64kb_mp3_text.txt\n",
      "soul_food_1011_librivox_64kb_mp3_text.txt\n",
      "mary_cary_frequently_martha_jm_librivox_64kb_mp3_text.txt\n",
      "two_spoons_1412.poem_librivox_64kb_mp3_text.txt\n",
      "this_country_5_64kb_mp3_text.txt\n",
      "ruth_of_boston_lc_librivox_64kb_mp3_text.txt\n",
      "treasure_seekers_solo_librivox_64kb_mp3_text.txt\n",
      "onourselection_1507_librivox_64kb_mp3_text.txt\n",
      "catholic_anticatholic_history_1108_librivox_64kb_mp3_text.txt\n",
      "hippolytus_1209_librivox_64kb_mp3_text.txt\n",
      "thethirteenthgreatestofcenturies_1408_librivox_64kb_mp3_text.txt\n",
      "lawandthelady_1012_librivox_64kb_mp3_text.txt\n",
      "peepbehindthescenes_version2_1607_librivox_64kb_mp3_text.txt\n",
      "dear_brutus_1409_librivox_64kb_mp3_text.txt\n",
      "a_cabinet_secret_1406_librivox_64kb_mp3_text.txt\n",
      "just_so_kara_librivox_64kb_mp3_text.txt\n",
      "peterkin_papers_entada_librivox_64kb_mp3_text.txt\n",
      "monsieur_lecoq_part1_1105_librivox_64kb_mp3_text.txt\n",
      "life_of_samuel_johnson_vol_i_1407_librivox_64kb_mp3_text.txt\n",
      "greatsmallcat_1406_librivox_64kb_mp3_text.txt\n",
      "little_fishers_tg_librivox_64kb_mp3_text.txt\n",
      "raggedy_ann_stories_0711_librivox_64kb_mp3_text.txt\n",
      "dudewrangler_1407_librivox_64kb_mp3_text.txt\n",
      "father_1303_librivox_64kb_mp3_text.txt\n",
      "deuteronomy_kjv_1110_librivox_64kb_mp3_text.txt\n",
      "aesop_fables_volume_one_librivox_64kb_mp3_text.txt\n",
      "enchanted_typewriter_cb_librivox_64kb_mp3_text.txt\n",
      "charming_fellow_1404_librivox_64kb_mp3_text.txt\n",
      "phoenix_and_the_carpet_0809_librivox_64kb_mp3_text.txt\n",
      "trial_susan_b_anthony_mk_1407_librivox_64kb_mp3_text.txt\n",
      "mary_louise_in_the_country_0902_librivox_64kb_mp3_text.txt\n"
     ]
    },
    {
     "name": "stderr",
     "output_type": "stream",
     "text": [
      " 18%|█▊        | 941/5351 [00:06<00:30, 144.64it/s]"
     ]
    },
    {
     "name": "stdout",
     "output_type": "stream",
     "text": [
      "great_shadow_1003_librivox_64kb_mp3_text.txt\n",
      "insectstories_1212_libivox_64kb_mp3_text.txt\n",
      "defenceofidealism_1410_librivox_64kb_mp3_text.txt\n",
      "threesfstoriesbyfritzleiber_1408_librivox_64kb_mp3_text.txt\n",
      "jane_eyre_librivox_64kb_mp3_text.txt\n",
      "little_men_1107_librivox_64kb_mp3_text.txt\n",
      "art_war_ps_librivox_64kb_mp3_text.txt\n",
      "kilmeny_0804_librivox_64kb_mp3_text.txt\n",
      "pawnscount_1206_librivox_64kb_mp3_text.txt\n",
      "nobody_1404_librivox_64kb_mp3_text.txt\n",
      "turnofthetide_1211_librivox_64kb_mp3_text.txt\n",
      "beforeadam_1406_librivox_64kb_mp3_text.txt\n",
      "fables_in_slang_1012_librivox_64kb_mp3_text.txt\n",
      "kotto_1006_librivox_64kb_mp3_text.txt\n",
      "dragon_of_wantley_1111_librivox_64kb_mp3_text.txt\n",
      "stories_king_arthur_0908_librivox_64kb_mp3_text.txt\n",
      "secret_of_night_dj_librivox_64kb_mp3_text.txt\n",
      "ponyrider_montana_1210_librivox_64kb_mp3_text.txt\n",
      "utopia_rg_1401_librivox_64kb_mp3_text.txt\n",
      "grand_babylon_0808_64kb_mp3_text.txt\n",
      "hist_of_florence1_0901_librivox2_64kb_mp3_text.txt\n",
      "treatise_purgatory_ab_librivox_64kb_mp3_text.txt\n",
      "autobiography_cellini_2_1004_librivox_64kb_mp3_text.txt\n",
      "pearl_1209_librivox_64kb_mp3_text.txt\n",
      "courtship_miles_standish_lw_librivox_64kb_mp3_text.txt\n",
      "simple_story_1007_librivox_64kb_mp3_text.txt\n",
      "real_latin_quarter_1407_librivox_64kb_mp3_text.txt\n",
      "tothegnat_1305_librivox_64kb_mp3_text.txt\n",
      "gargantuaandpantagruel_1007_librivox_64kb_mp3_text.txt\n"
     ]
    },
    {
     "name": "stderr",
     "output_type": "stream",
     "text": [
      " 18%|█▊        | 972/5351 [00:06<00:30, 142.39it/s]"
     ]
    },
    {
     "name": "stdout",
     "output_type": "stream",
     "text": [
      "ghost_ship_1108_librivox_64kb_mp3_text.txt\n",
      "marvelsdivinegrace_dv_librivox_64kb_mp3_text.txt\n",
      "astounding_stories_08_1403_librivox_64kb_mp3_text.txt\n",
      "grayplague_1110_librivox_64kb_mp3_text.txt\n",
      "cousinhenry_1202_librivox_64kb_mp3_text.txt\n",
      "bible_wnt_matthew_mp_librivox_64kb_mp3_text.txt\n",
      "ethanfrome_bn_librivox_64kb_mp3_text.txt\n",
      "three_short_works_librivox_64kb_mp3_text.txt\n",
      "ziska_1107_librivox_64kb_mp3_text.txt\n",
      "additions_daniel_ds_librivox_64kb_mp3_text.txt\n",
      "the_witches_brew_1411.poem_librivox_64kb_mp3_text.txt\n",
      "master_of_world_mfs_librivox_64kb_mp3_text.txt\n",
      "worlds_best_mystery_1_librivox_64kb_mp3_text.txt\n",
      "annalsquietneighbourhood_1402_librivox_64kb_mp3_text.txt\n",
      "themurdersintheruemorgue_1401_librivox_64kb_mp3_text.txt\n",
      "wide_wide_world_b_librivox_64kb_mp3_text.txt\n",
      "ester_namesake_0905_librivox_64kb_mp3_text.txt\n",
      "inbriefauthority_1302_librivox_64kb_mp3_text.txt\n",
      "voodoo_planet_mn_librivox_64kb_mp3_text.txt\n",
      "bookofdragons_0904_librivox_64kb_mp3_text.txt\n",
      "x_y_z_detective_1102_librivox_64kb_mp3_text.txt\n",
      "ourlittlecanadiancousin_1306_librivox_64kb_mp3_text.txt\n",
      "sword_antietam_1303_librivox_64kb_mp3_text.txt\n",
      "eightyyearsandmore_1110_librivox_64kb_mp3_text.txt\n",
      "coastofbohemia_1407_librivox_64kb_mp3_text.txt\n",
      "british_highways_cb_librivox_64kb_mp3_text.txt\n",
      "irish_idylls_1303_librivox_64kb_mp3_text.txt\n",
      "little_tea_book_1409_librivox_64kb_mp3_text.txt\n"
     ]
    },
    {
     "name": "stderr",
     "output_type": "stream",
     "text": [
      " 19%|█▉        | 1012/5351 [00:07<00:25, 167.27it/s]"
     ]
    },
    {
     "name": "stdout",
     "output_type": "stream",
     "text": [
      "lesmis5_1010_librivox_64kb_mp3_text.txt\n",
      "ourlittlenorwegiancousin_1306_librivox_64kb_mp3_text.txt\n",
      "2chronicleskjv_1403_librivox_64kb_mp3_text.txt\n",
      "babys_songbook_1102_librivox_64kb_mp3_text.txt\n",
      "echoesofwar_jc_librivox_64kb_mp3_text.txt\n",
      "messengers_of_evil_1109_librivox_64kb_mp3_text.txt\n",
      "livingalone_1209_librivox_64kb_mp3_text.txt\n",
      "aliens_0910_librivox_64kb_mp3_text.txt\n",
      "carolinachansons_1210_librivox_64kb_mp3_text.txt\n",
      "aesops_fables_-_new_translation_1407_librivox_64kb_mp3_text.txt\n",
      "emily_foxseton_1110_librivox_64kb_mp3_text.txt\n",
      "concerning_cats_0901_kb_64kb_mp3_text.txt\n",
      "twainwhiteelephant_64kb_mp3_text.txt\n",
      "james_web_rs_64kb_mp3_text.txt\n",
      "lifeandventures_astor_1302_librivox_64kb_mp3_text.txt\n",
      "oldmaidsclub_1606_librivox_64kb_mp3_text.txt\n",
      "manalive_0811_rc_librivox1_64kb_mp3_text.txt\n",
      "goldendays_queen_bess_0911_librivox_64kb_mp3_text.txt\n",
      "nowitcanbetold_1406_librivox_64kb_mp3_text.txt\n",
      "gettysburgaddress_150anniv_1311_librivox_64kb_mp3_text.txt\n",
      "seven_wonders_ancient_world_1704_librivox_64kb_mp3_text.txt\n",
      "inner_chamber_inner_life_cs_librivox_64kb_mp3_text.txt\n",
      "mountain_girl_1008_librivox_64kb_mp3_text.txt\n",
      "valleyofvision_mas_librivox_64kb_mp3_text.txt\n",
      "ozma_of_oz_1102_librivox_64kb_mp3_text.txt\n",
      "trainoflife_1410_librivox_64kb_mp3_text.txt\n",
      "badge_of_infamy_librivox_64kb_mp3_text.txt\n",
      "frankenstein_1210_librivox_64kb_mp3_text.txt\n",
      "my_doggie_and_i_1010_librivox_64kb_mp3_text.txt\n",
      "aircraftandsubmarines_1412_librivox_64kb_mp3_text.txt\n",
      "the_passionate_friends_1301_librivox_64kb_mp3_text.txt\n",
      "my_paddle_librivox_64kb_mp3_text.txt\n",
      "tom_playfair_mt_librivox_64kb_mp3_text.txt\n",
      "what_sami_sings_1209_librivox_64kb_mp3_text.txt\n",
      "hollow_needle_64kb_mp3_text.txt\n",
      "rudder_grange_sd_librivox_64kb_mp3_text.txt\n",
      "letters_norway_1109_librivox_64kb_mp3_text.txt\n",
      "solitude_1411.poem_librivox_64kb_mp3_text.txt\n",
      "shadow_of_victory_1502_librivox_64kb_mp3_text.txt\n",
      "selectedpoems_by_currerellisactonbell_ec_librivox_64kb_mp3_text.txt\n",
      "time_machine_1201_librivox_64kb_mp3_text.txt\n",
      "unclewiggly_motherhubbard_ms_librivox_64kb_mp3_text.txt\n",
      "the_secret_mark_1309_librivox_64kb_mp3_text.txt\n",
      "measureofaman_1408_librivox_64kb_mp3_text.txt\n",
      "ngm01_1_1204_librivox_64kb_mp3_text.txt\n",
      "duchess_padua_1207_librivox_64kb_mp3_text.txt\n"
     ]
    },
    {
     "name": "stderr",
     "output_type": "stream",
     "text": [
      " 20%|█▉        | 1046/5351 [00:07<00:25, 166.94it/s]"
     ]
    },
    {
     "name": "stdout",
     "output_type": "stream",
     "text": [
      "grace_of_osmonde_1209_librivox_64kb_mp3_text.txt\n",
      "picture_doriangray_1012_librivox_64kb_mp3_text.txt\n",
      "king_coal_0908_librivox_64kb_mp3_text.txt\n",
      "pioneers_of_france_in_new_world_0908_librivox1_64kb_mp3_text.txt\n",
      "to_withdowncasteyes_1008_librivox_64kb_mp3_text.txt\n",
      "type-writer_girl_0909_librivox_64kb_mp3_text.txt\n",
      "crimsonfairybook_1112_librivox_64kb_mp3_text.txt\n",
      "letters_to_a_daughter_1103_librivox_64kb_mp3_text.txt\n",
      "copyright_morang_64kb_mp3_text.txt\n",
      "englishwomansergeant_1406_librivox_64kb_mp3_text.txt\n",
      "workandculture_1410_librivox_64kb_mp3_text.txt\n",
      "illiad_0801_librivox3_64kb_mp3_text.txt\n",
      "notyet_1306_librivox_64kb_mp3_text.txt\n",
      "beeman_orn_1110_librivox_64kb_mp3_text.txt\n",
      "burning_daylight_1211_librivox_64kb_mp3_text.txt\n",
      "virginians_nb_1404_librivox_64kb_mp3_text.txt\n",
      "care_insane_ab_librivox_64kb_mp3_text.txt\n",
      "joshua_amb_librivox_64kb_mp3_text.txt\n",
      "pioneersofthepacificcoast_1401_librivox_64kb_mp3_text.txt\n",
      "pelle_gw_librivox_64kb_mp3_text.txt\n",
      "bible_1samuel_kjv_0903_librivox_64kb_mp3_text.txt\n",
      "missgrantleysgirls_0908_librivox_64kb_mp3_text.txt\n",
      "master_key_librivox_64kb_mp3_text.txt\n",
      "hindoo_tales_1208_librivox_64kb_mp3_text.txt\n",
      "for_treasure_bound_1105_librivox_64kb_mp3_text.txt\n",
      "dallamstravels_1310_librivox_64kb_mp3_text.txt\n",
      "st_bartholomews_eve_0812_librivox_64kb_mp3_text.txt\n",
      "cana_1011_librivox_64kb_mp3_text.txt\n",
      "ontario_readers3_0905_librivox_64kb_mp3_text.txt\n",
      "famous_men_modern_times_haaren_0803_librivox_64kb_mp3_text.txt\n"
     ]
    },
    {
     "name": "stderr",
     "output_type": "stream",
     "text": [
      " 20%|██        | 1083/5351 [00:07<00:26, 161.07it/s]"
     ]
    },
    {
     "name": "stdout",
     "output_type": "stream",
     "text": [
      "ladybaltimore_1303_librivox_64kb_mp3_text.txt\n",
      "consolation_0103_librivox_64kb_mp3_text.txt\n",
      "kitten_1411.poem_librivox_64kb_mp3_text.txt\n",
      "doom_castle_1203_librivox_64kb_mp3_text.txt\n",
      "three_men_boat_librivox_64kb_mp3_text.txt\n",
      "3ghoststories_0804_librivox_64kb_mp3_text.txt\n",
      "paddybeaver_jl_librivox_64kb_mp3_text.txt\n",
      "small_boy_and_others_0905_librivox_64kb_mp3_text.txt\n",
      "figure_carpet_0909_librivox_64kb_mp3_text.txt\n",
      "admirable_bashville_1104_librivox_64kb_mp3_text.txt\n",
      "underground_railroad_part3_1307_librivox_64kb_mp3_text.txt\n",
      "goldenfleece_1208_librivox_64kb_mp3_text.txt\n",
      "remarkable_rogues_1405_librivox_64kb_mp3_text.txt\n",
      "leavenworth_case_librivox_64kb_mp3_text.txt\n",
      "as_we_forgive_them_tw_librivox_64kb_mp3_text.txt\n",
      "rajayoga_1408_librivox_64kb_mp3_text.txt\n",
      "channings_1401_librivox_64kb_mp3_text.txt\n",
      "sex_0810_librivox_64kb_mp3_text.txt\n",
      "thisistheend_1308_librivox_64kb_mp3_text.txt\n",
      "paulinespassionandpunishment_ek_librivox_64kb_mp3_text.txt\n",
      "frivolous_fables_librivox_64kb_mp3_text.txt\n",
      "journey_christmas_1112_librivox_64kb_mp3_text.txt\n",
      "reluctant_dragon_librivox_64kb_mp3_text.txt\n",
      "daniel_kjv_1112_librivox_64kb_mp3_text.txt\n",
      "sllep_book_cjrg_librivox_64kb_mp3_text.txt\n",
      "david_elginbrod_0807_64kb_mp3_text.txt\n",
      "way_of_lawless_1103_librivox_64kb_mp3_text.txt\n",
      "heart_of_darkness_1203_librivox_64kb_mp3_text.txt\n",
      "country_beyond_0812_librivox_64kb_mp3_text.txt\n",
      "aesthetic_as_science_of_expression_and_general_linguist_librivox_64kb_mp3_text.txt\n",
      "lewis_and_clark_rm_0904_librivox_64kb_mp3_text.txt\n",
      "organicevolution_1503_librivox_64kb_mp3_text.txt\n",
      "redmasquerade_1310_librivox_64kb_mp3_text.txt\n"
     ]
    },
    {
     "name": "stderr",
     "output_type": "stream",
     "text": [
      " 21%|██        | 1100/5351 [00:07<00:27, 155.29it/s]"
     ]
    },
    {
     "name": "stdout",
     "output_type": "stream",
     "text": [
      "popular_history_ireland2_0804_64kb_mp3_text.txt\n",
      "little_women_1212_librivox_64kb_mp3_text.txt\n",
      "freckles_0804_64kb_mp3_text.txt\n",
      "thestoryteller_1303_librivox_64kb_mp3_text.txt\n",
      "wutheringheights_1306_librivox_64kb_mp3_text.txt\n",
      "interventions_1310_librivox_64kb_mp3_text.txt\n",
      "aunt_janes_nieces_0911_librivox_64kb_mp3_text.txt\n",
      "constructivebeekeeping_1402_librivox_64kb_mp3_text.txt\n",
      "areopagitica_0806_librivox_64kb_mp3_text.txt\n",
      "trents_last_case_librivox_64kb_mp3_text.txt\n",
      "pantheism_nutshell_1110_librivox_64kb_mp3_text.txt\n",
      "throughthelookingglass_1108_librivox_64kb_mp3_text.txt\n",
      "popular_history_art_music_to_librivox_64kb_mp3_text.txt\n",
      "life_bronte_0903_librivox_64kb_mp3_text.txt\n",
      "childhoods_favorites_fairy_stories_0812_librivox_64kb_mp3_text.txt\n",
      "under_andes_1006_librivox_64kb_mp3_text.txt\n",
      "talesfromdickens_1304_64kb_mp3_text.txt\n",
      "wizardofoz_1001_librivox_64kb_mp3_text.txt\n",
      "saracrewe_1304_librivox_64kb_mp3_text.txt\n",
      "les_mis_vol01_0810_librivox_64kb_mp3_text.txt\n",
      "swansong_1107_librivox_64kb_mp3_text.txt\n",
      "monkeys_paw_librivox_64kb_mp3_text.txt\n",
      "strenuous_life_1110_librivox_64kb_mp3_text.txt\n",
      "creatures_abyss_mn_librivox_64kb_mp3_text.txt\n",
      "watchbird_pc_librivox_64kb_mp3_text.txt\n",
      "histofeng11_librivox_64kb_mp3_text.txt\n",
      "scaramouche_gm_librivox_64kb_mp3_text.txt\n"
     ]
    },
    {
     "name": "stderr",
     "output_type": "stream",
     "text": [
      " 21%|██        | 1136/5351 [00:07<00:26, 156.91it/s]"
     ]
    },
    {
     "name": "stdout",
     "output_type": "stream",
     "text": [
      "clayhanger_1301_librivox_64kb_mp3_text.txt\n",
      "wasteland_0808_librivox_64kb_mp3_text.txt\n",
      "rayner_slade_amalgamation_mas_librivox_64kb_mp3_text.txt\n",
      "balladwhitehorse_1404_librivox_64kb_mp3_text.txt\n",
      "goldhunters_1303_librivox_64kb_mp3_text.txt\n",
      "principles_metaphysic_morals_1109_librivox_64kb_mp3_text.txt\n",
      "story_my_life_1002_librivox_64kb_mp3_text.txt\n",
      "storybadboy_1109_librivox_64kb_mp3_text.txt\n",
      "jacqueline_1106_librivox_64kb_mp3_text.txt\n",
      "psmith_journalist_1008_64kb_mp3_text.txt\n",
      "drmoreau_1406_librivox_64kb_mp3_text.txt\n",
      "wild_life_on_the_rockies_0908_librivox_64kb_mp3_text.txt\n",
      "yosemite_librivox_64kb_mp3_text.txt\n",
      "theindianto-day_1211_librivox_64kb_mp3_text.txt\n",
      "habits_handicap_1105_librivox_64kb_mp3_text.txt\n",
      "adrift_on_icepan_smh_0906_librivox_64kb_mp3_text.txt\n",
      "white_company_0907_librivox_64kb_mp3_text.txt\n",
      "book_of_art_0807_64kb_mp3_text.txt\n",
      "bible_kjv_joshua_jc_librivox_64kb_mp3_text.txt\n",
      "theminiature_1403.poem_librivox_64kb_mp3_text.txt\n",
      "twentyyearsathullhouse_1012_librivox_64kb_mp3_text.txt\n",
      "girl_boat_1109_librivox_64kb_mp3_text.txt\n",
      "mothering_perilous_1101_librivox_64kb_mp3_text.txt\n",
      "shadow_of_the_north_ksg_1607_librivox_64kb_mp3_text.txt\n",
      "desert_studies_sa_librivox_64kb_mp3_text.txt\n",
      "doings_ruffles_haw_1302_librivox_64kb_mp3_text.txt\n",
      "trips_to_the_moon_rs_0810_librivox_64kb_mp3_text.txt\n",
      "bells_san_juan_mv_librivox_64kb_mp3_text.txt\n",
      "littlecountrygirl_1305_librivox_64kb_mp3_text.txt\n",
      "draculas_guest_1003_librivox_64kb_mp3_text.txt\n",
      "europeans_0908_librivox_64kb_mp3_text.txt\n",
      "aedh_wishes_librivox_64kb_mp3_text.txt\n",
      "autobiographyofathief_1412_librivox_64kb_mp3_text.txt\n",
      "baseballjoesilverstars_1405_librivox_64kb_mp3_text.txt\n",
      "geographyandplays_1301_librivox_64kb_mp3_text.txt\n",
      "golden_silence_1205_librivox_64kb_mp3_text.txt\n",
      "magi_librivox_64kb_mp3_text.txt\n",
      "waterghost_1304_librivox_64kb_mp3_text.txt\n",
      "she_and_allan_0809_librivox_64kb_mp3_text.txt\n",
      "rocket_book_librivox_64kb_mp3_text.txt\n"
     ]
    },
    {
     "name": "stderr",
     "output_type": "stream",
     "text": [
      " 22%|██▏       | 1171/5351 [00:08<00:25, 162.65it/s]"
     ]
    },
    {
     "name": "stdout",
     "output_type": "stream",
     "text": [
      "mrs_partington_1907_librivox_64kb_mp3_text.txt\n",
      "weofthenevernever_1412_librivox_64kb_mp3_text.txt\n",
      "brown_fairy_book_1207_librivox_64kb_mp3_text.txt\n",
      "motor_girls_tour_lb_librivox_64kb_mp3_text.txt\n",
      "on_interpretation_1005_librivox_64kb_mp3_text.txt\n",
      "right_of_way_1204_librivox_64kb_mp3_text.txt\n",
      "nehemiah_kjv_1110_librivox_64kb_mp3_text.txt\n",
      "phantom6_librivox_64kb_mp3_text.txt\n",
      "frankenstein1831_tac_librivox_64kb_mp3_text.txt\n",
      "old_ireland_1008_librivox_64kb_mp3_text.txt\n",
      "pushingtofront_ls_librivox_64kb_mp3_text.txt\n",
      "exploits_juve_aw_1302_librivox_64kb_mp3_text.txt\n",
      "wanderer_1210_librivox_64kb_mp3_text.txt\n",
      "bible_kjv_25_lamentations_mp_0909_librivox_64kb_mp3_text.txt\n",
      "timothy_crumps_ward_1305_librivox_64kb_mp3_text.txt\n",
      "house_on_borderland_aw_0903_librivox_64kb_mp3_text.txt\n",
      "throughglacierpark_1308_librivox_64kb_mp3_text.txt\n",
      "psalm_133_librivox_64kb_mp3_text.txt\n",
      "marriage_heaven_hell_1210_64kb_mp3_text.txt\n",
      "ego_machine_1009_librivox_64kb_mp3_text.txt\n",
      "robinson_crusoe_librivox_64kb_mp3_text.txt\n",
      "second_latchkey_0710_librivox_64kb_mp3_text.txt\n",
      "story_of_doctor_dolittle_v3_1308_librivox_64kb_mp3_text.txt\n",
      "johnsherman_1308_librivox_64kb_mp3_text.txt\n",
      "lawagainstlovers_1304_librivox_64kb_mp3_text.txt\n",
      "randomreminiscences_1208b_librivox_64kb_mp3_text.txt\n",
      "ranald_bannermans_boyhood_librivox_64kb_mp3_text.txt\n",
      "aesop_fables_volume_six_librivox_64kb_mp3_text.txt\n",
      "chip_flying_u_1206_librivox_64kb_mp3_text.txt\n",
      "with_fire_and_sword_1903_librivox_64kb_mp3_text.txt\n"
     ]
    },
    {
     "name": "stderr",
     "output_type": "stream",
     "text": [
      " 23%|██▎       | 1209/5351 [00:08<00:23, 173.24it/s]"
     ]
    },
    {
     "name": "stdout",
     "output_type": "stream",
     "text": [
      "merry_autumn_1010_librivox_64kb_mp3_text.txt\n",
      "wanted_-_7_fearless_engineers_0810_librivox_64kb_mp3_text.txt\n",
      "blackfawn_rm_librivox_64kb_mp3_text.txt\n",
      "merchant_of_venice_1005_librivox_64kb_mp3_text.txt\n",
      "portrait_artist_pb_librivox_64kb_mp3_text.txt\n",
      "timaeus_1003_librivox_64kb_mp3_text.txt\n",
      "humanmachine_rg_librivox_64kb_mp3_text.txt\n",
      "mrspaceship_pc_librivox_64kb_mp3_text.txt\n",
      "whitefootwoodmouse_1701_librivox_64kb_mp3_text.txt\n",
      "landleaguers_1607_librivox_64kb_mp3_text.txt\n",
      "giftofmagi_64kb_mp3_text.txt\n",
      "absalom_achitophel_tc_librivox_64kb_mp3_text.txt\n",
      "seaboard_parish_1505_librivox_64kb_mp3_text.txt\n",
      "story_peterpan_pc_librivox_64kb_mp3_text.txt\n",
      "jew_ofmalta_1010_librivox_64kb_mp3_text.txt\n",
      "submarine_boys_duty_1404_librivox_64kb_mp3_text.txt\n",
      "karitheelephant_1404_librivox_64kb_mp3_text.txt\n",
      "us_history_vol1_librivox_64kb_mp3_text.txt\n",
      "canterville_ghost_librivox_64kb_mp3_text.txt\n",
      "is_mars_habitable_cal_librivox_64kb_mp3_text.txt\n",
      "holy_in_christ_1311_librivox_64kb_mp3_text.txt\n",
      "the_return_rf_librivox_64kb_mp3_text.txt\n",
      "christmascarol_km_librivox_64kb_mp3_text.txt\n",
      "innocence_father_brown_librivox_64kb_mp3_text.txt\n",
      "bunch_of_everlastings_tb_librivox_64kb_mp3_text.txt\n",
      "michael_strogoff_dl_librivox_64kb_mp3_text.txt\n",
      "transformed_1411_librivox_64kb_mp3_text.txt\n",
      "variable_man_1005_librivox_64kb_mp3_text.txt\n",
      "seventeen_0908_jb_librivox_64kb_mp3_text.txt\n",
      "divine_comedy_librivox_64kb_mp3_text.txt\n",
      "unsolvedriddle_0906_64kb_mp3_text.txt\n",
      "emerald_city_librivox_64kb_mp3_text.txt\n",
      "sunshine_sketches_0903_librivox_64kb_mp3_text.txt\n",
      "my_fathers_dragon_0909_librivox_64kb_mp3_text.txt\n",
      "familiar_letters_chemistry_librivox_64kb_mp3_text.txt\n",
      "middle_temple_murder1_librivox_64kb_mp3_text.txt\n",
      "flood_zola_0907_rc_librivox1_64kb_mp3_text.txt\n",
      "antiseptic_principle_surgery_librivox_64kb_mp3_text.txt\n",
      "dorothy_dales_holidays_librivox_64kb_mp3_text.txt\n",
      "recollectionsofmissionaryingreatwest_1404_librivox_64kb_mp3_text.txt\n",
      "veronica_1305_librivox_64kb_mp3_text.txt\n",
      "story_amulet_2_1610_librivox_64kb_mp3_text.txt\n"
     ]
    },
    {
     "name": "stderr",
     "output_type": "stream",
     "text": [
      " 23%|██▎       | 1249/5351 [00:08<00:25, 162.28it/s]"
     ]
    },
    {
     "name": "stdout",
     "output_type": "stream",
     "text": [
      "twentyfivesermons_holyland_2007_librivox_64kb_mp3_text.txt\n",
      "raleigh_1607_librivox_64kb_mp3_text.txt\n",
      "cottage_economy_1104_librivox_64kb_mp3_text.txt\n",
      "masque_of_anarchy_pb_librivox_64kb_mp3_text.txt\n",
      "iconoclastic_memories_1203_librivox_64kb_mp3_text.txt\n",
      "omens_southern_india_1203_librivox_64kb_mp3_text.txt\n",
      "strangers_lisconnel_1304_librivox_64kb_mp3_text.txt\n",
      "mylady_1602_librivox_64kb_mp3_text.txt\n",
      "bible_wnt_john_0906_librivox_64kb_mp3_text.txt\n",
      "quiet_hints_1003_librivox_64kb_mp3_text.txt\n",
      "frenziedfiction_dl_librivox_64kb_mp3_text.txt\n",
      "colonelthorndykessecret_1305_librivox_64kb_mp3_text.txt\n",
      "decline_and_fall_3_librivox_64kb_mp3_text.txt\n",
      "wild_life_wood_field_lc_librivox_64kb_mp3_text.txt\n",
      "history_of_egypt_maspero_vol1_0906_hm_librivox1_64kb_mp3_text.txt\n",
      "expository_thoughts_matthew_ma_librivox_64kb_mp3_text.txt\n",
      "marvelous_land_of_oz_librivox_64kb_mp3_text.txt\n",
      "elsies_womanhood_1209_librivox_64kb_mp3_text.txt\n",
      "british_barbarians_rg_librivox_64kb_mp3_text.txt\n",
      "child_of_the_century_1103_librivox_64kb_mp3_text.txt\n",
      "journey_other_worlds_0904_librivox_64kb_mp3_text.txt\n",
      "basil_105_librivox_64kb_mp3_text.txt\n",
      "mysterious_stranger_td_librivox_64kb_mp3_text.txt\n",
      "with_lee_in_virginia_1505_librivox_64kb_mp3_text.txt\n",
      "leaves_of_grass_librivox_64kb_mp3_text.txt\n",
      "popular_history_of_france_vol_6_librivox_64kb_mp3_text.txt\n",
      "hiawatha_py_0909_librivox_64kb_mp3_text.txt\n",
      "worlds_best_mystery_3_librivox_64kb_mp3_text.txt\n",
      "spiritofamericanliterature_1304_librivox_64kb_mp3_text.txt\n"
     ]
    },
    {
     "name": "stderr",
     "output_type": "stream",
     "text": [
      " 24%|██▍       | 1272/5351 [00:08<00:23, 176.14it/s]"
     ]
    },
    {
     "name": "stdout",
     "output_type": "stream",
     "text": [
      "poetrymagazine_vol18_1209_librivox_64kb_mp3_text.txt\n",
      "signsofchange_1209_librivox_64kb_mp3_text.txt\n",
      "chamber_music_librivox_64kb_mp3_text.txt\n",
      "conjurors_house_rm_librivox_64kb_mp3_text.txt\n",
      "glinda_oz_0908_librivox_64kb_mp3_text.txt\n",
      "armag2419_aw_1304_librivox_64kb_mp3_text.txt\n",
      "bowserhound_1302_librivox_64kb_mp3_text.txt\n",
      "apology_plato_bn_librivox_64kb_mp3_text.txt\n",
      "scarlet_plague_0907_librivox_64kb_mp3_text.txt\n",
      "eminent_victorians_1204_librivox_64kb_mp3_text.txt\n",
      "indianheroes_1009_librivox_64kb_mp3_text.txt\n",
      "nights_with_uncle_remus_ms_librivox_64kb_mp3_text.txt\n",
      "green_rust_1109_librivox_64kb_mp3_text.txt\n",
      "that_affair_cb_librivox_64kb_mp3_text.txt\n",
      "nomad_nine_lives_1306_librivox_64kb_mp3_text.txt\n",
      "my_mark_twain_librivox_64kb_mp3_text.txt\n",
      "alice_wonderland_0711_librivox_64kb_mp3_text.txt\n",
      "thiscrowdedearth_0903_librivox_64kb_mp3_text.txt\n",
      "french_history_english_children_1204_librivox_64kb_mp3_text.txt\n",
      "brushwoodboy_1111_librivox_64kb_mp3_text.txt\n",
      "folklore_santal_parganas_0805_librivox_64kb_mp3_text.txt\n",
      "underground_railroad_part1_1304_librivox_64kb_mp3_text.txt\n",
      "cornhuskers_librivox_64kb_mp3_text.txt\n",
      "death_lord_nelson_fnh_librivox_64kb_mp3_text.txt\n",
      "tavern_knight_1105_librivox_64kb_mp3_text.txt\n",
      "my_first_book_1006_librivox_64kb_mp3_text.txt\n",
      "song_of_the_lark_1309_librivox_64kb_mp3_text.txt\n",
      "waverley2_1105_librivox_64kb_mp3_text.txt\n",
      "counterpane_fairy_1302_librivox_64kb_mp3_text.txt\n",
      "thirdclass_1003_librivox_64kb_mp3_text.txt\n",
      "what_katy_did_next_1001_librivox_64kb_mp3_text.txt\n",
      "beasts_tarzan_jc_librivox_64kb_mp3_text.txt\n",
      "yiddish_tales_ap_librivox_64kb_mp3_text.txt\n",
      "ruby_caldron_1204_librivox_64kb_mp3_text.txt\n",
      "oedipus_rex_1008_librivox_64kb_mp3_text.txt\n"
     ]
    },
    {
     "name": "stderr",
     "output_type": "stream",
     "text": [
      " 24%|██▍       | 1308/5351 [00:08<00:28, 143.64it/s]"
     ]
    },
    {
     "name": "stdout",
     "output_type": "stream",
     "text": [
      "here_takemyheart_1208_librivox_64kb_mp3_text.txt\n",
      "freddiefirefly_1308_librivox_64kb_mp3_text.txt\n",
      "mercenary_sjm_librivox_64kb_mp3_text.txt\n",
      "breakingofnations_1307_lobrivox_64kb_mp3_text.txt\n",
      "northanger_abbey_librivox_64kb_mp3_text.txt\n",
      "diary_superfluous_man_0904_librivox_64kb_mp3_text.txt\n",
      "celebrated_travels_travellers2_1410_librivox_64kb_mp3_text.txt\n",
      "fanny_herself_jms_librivox_64kb_mp3_text.txt\n",
      "othersideofthedoor_1009_64kb_mp3_text.txt\n",
      "birds_of_the_air_0807_librivox_64kb_mp3_text.txt\n",
      "riddle_ring_rg_librivox_64kb_mp3_text.txt\n",
      "tale_of_benny_badger_lb_librivox_64kb_mp3_text.txt\n",
      "lectures2_ingersoll_0908_librivox_64kb_mp3_text.txt\n",
      "letters_of_pliny_1510_librivox_64kb_mp3_text.txt\n",
      "thejob_mh_librivox_64kb_mp3_text.txt\n",
      "three_clerks_1108_librivox_64kb_mp3_text.txt\n",
      "captains_courageous_mfs_librivox_64kb_mp3_text.txt\n",
      "women_in_love_0901_librivox_64kb_mp3_text.txt\n",
      "history_of_england_chapter_02_librivox_64kb_mp3_text.txt\n",
      "five_peppers_midway_sy_librivox_64kb_mp3_text.txt\n",
      "roomwithaview_etk_librivox_64kb_mp3_text.txt\n",
      "oxteam_days_0911_librivox_64kb_mp3_text.txt\n",
      "dhammapada_0707_librivox_64kb_mp3_text.txt\n",
      "12_creepytales_1206_librivox_64kb_mp3_text.txt\n",
      "story_mankind_0906_64kb_mp3_text.txt\n",
      "adventures_of_arsene_lupin_1401_librivox_64kb_mp3_text.txt\n",
      "bettywales_freshman_1210_librivox_64kb_mp3_text.txt\n",
      "kings_and_queens_england_1608_librivox_64kb_mp3_text.txt\n",
      "vera_1011_librivox_64kb_mp3_text.txt\n"
     ]
    },
    {
     "name": "stderr",
     "output_type": "stream",
     "text": [
      " 25%|██▌       | 1341/5351 [00:09<00:26, 150.06it/s]"
     ]
    },
    {
     "name": "stdout",
     "output_type": "stream",
     "text": [
      "benjamin_button_mv_0812_librivox_64kb_mp3_text.txt\n",
      "perfect_wagnerite_1107_librivox_64kb_mp3_text.txt\n",
      "wings_and_child_1210_librivox_64kb_mp3_text.txt\n",
      "moon_master_1304_librivox_64kb_mp3_text.txt\n",
      "bonnie_prince_charlie_1503_librivox_64kb_mp3_text.txt\n",
      "middle_of_things_kehinde_librivox_64kb_mp3_text.txt\n",
      "seven_lamps_architecture_1107_librivox_64kb_mp3_text.txt\n",
      "little_princess_krs_64kb_mp3_text.txt\n",
      "trenches_1111_librivox_64kb_mp3_text.txt\n",
      "war_chief_ottawas_0812_librivox_64kb_mp3_text.txt\n",
      "missing_green_bjs_0904_librivox_64kb_mp3_text.txt\n",
      "skylark_space_2_1012_librivox_64kb_mp3_text.txt\n",
      "cloudy_jewel_1105_librivox_64kb_mp3_text.txt\n",
      "soldier_0911_librivox_64kb_mp3_text.txt\n",
      "rivals_1103_librivox_64kb_mp3_text.txt\n",
      "lair_white_worm_blb_librivox_64kb_mp3_text.txt\n",
      "babbitt_0903_librivox_64kb_mp3_text.txt\n",
      "joyful_wisdom_0907_librivox_64kb_mp3_text.txt\n",
      "swissrobinson_ks_0908_64kb_mp3_text.txt\n",
      "judasvalley_pc_librivox_64kb_mp3_text.txt\n",
      "memory_rm_librivox_64kb_mp3_text.txt\n",
      "hadleyburg_jg_lv4_64kb_mp3_text.txt\n",
      "screenacting_1607_librivox_64kb_mp3_text.txt\n",
      "man_highnorth_1012_librivox_64kb_mp3_text.txt\n",
      "justwilliam_dw_librivox_64kb_mp3_text.txt\n",
      "quiet_talks_jesus_1203_librivox_64kb_mp3_text.txt\n",
      "associationfootball_1408_librivox_64kb_mp3_text.txt\n",
      "poetics_librivox_64kb_mp3_text.txt\n",
      "civil_disobedience_bn_librivox_64kb_mp3_text.txt\n",
      "henryvipart3_1102_librivox_64kb_mp3_text.txt\n",
      "madman_pirate_0712_librivox_64kb_mp3_text.txt\n",
      "hohenzollerns_america_tg_librivox_64kb_mp3_text.txt\n",
      "signofthefour_1301_librivox_64kb_mp3_text.txt\n",
      "fringes_of_fleet_1406_librivox_64kb_mp3_text.txt\n",
      "brenda_her_school_and_her_club_1104_librivox_64kb_mp3_text.txt\n",
      "cleopatra_0810_librivox_64kb_mp3_text.txt\n",
      "oldgrannyfox_1411_librivox_64kb_mp3_text.txt\n"
     ]
    },
    {
     "name": "stderr",
     "output_type": "stream",
     "text": [
      " 26%|██▌       | 1378/5351 [00:09<00:27, 146.39it/s]"
     ]
    },
    {
     "name": "stdout",
     "output_type": "stream",
     "text": [
      "king_arthur_rc_librivox_64kb_mp3_text.txt\n",
      "kathleen_kv_librivox_64kb_mp3_text.txt\n",
      "discourse_inequality_ej_librivox_64kb_mp3_text.txt\n",
      "flowers_ferns_1208_librivox_64kb_mp3_text.txt\n",
      "kitcarson_1312_librivox_64kb_mp3_text.txt\n",
      "song_fondrapture_1110_librivox_64kb_mp3_text.txt\n",
      "murder_madness_1307_librivox_64kb_mp3_text.txt\n",
      "buccaneers_pirates_0805_librivox_64kb_mp3_text.txt\n",
      "persuasion_0708_librivox_64kb_mp3_text.txt\n",
      "canadas_hundred_days_2_1002_librivox_64kb_mp3_text.txt\n",
      "being_a_boy_1009_librivox_64kb_mp3_text.txt\n",
      "song_of_hugh_glass_librivox_64kb_mp3_text.txt\n",
      "old_hampshire_vignettes_1306_librivox_64kb_mp3_text.txt\n",
      "littlelordfauntleroy_dramatic_1506_librivox_text.txt\n",
      "through_glacier_park_1110_librivox_64kb_mp3_text.txt\n",
      "lady_susan_0811_librivox_64kb_mp3_text.txt\n",
      "lucinda_1312_librivox_64kb_mp3_text.txt\n",
      "sara_crewe_librivox_64kb_mp3_text.txt\n",
      "windsor_castle_book1_1204_librivox_64kb_mp3_text.txt\n",
      "gullibles_travels_etc_wt_1411_librivox_64kb_mp3_text.txt\n",
      "twentyyearsafter_0904_librivox_64kb_mp3_text.txt\n",
      "voyage_beagle_0810_librivox_64kb_mp3_text.txt\n",
      "shakespeare_identified_1402_librivox_64kb_mp3_text.txt\n",
      "little_prudy_1209_librivox_64kb_mp3_text.txt\n",
      "tom_ossingtons_ghost_1305_librivox_64kb_mp3_text.txt\n"
     ]
    },
    {
     "name": "stderr",
     "output_type": "stream",
     "text": [
      " 26%|██▋       | 1414/5351 [00:09<00:24, 162.68it/s]"
     ]
    },
    {
     "name": "stdout",
     "output_type": "stream",
     "text": [
      "little_bush_maid_1006_librivox_64kb_mp3_text.txt\n",
      "heir_of_redclyffe_1301_librivox_64kb_mp3_text.txt\n",
      "prettylady_1304_librivox_64kb_mp3_text.txt\n",
      "houseofthedead_1311_librivox_64kb_mp3_text.txt\n",
      "book_of_jonah_librivox_64kb_mp3_text.txt\n",
      "first_on_the_moon_1308_librivox_64kb_mp3_text.txt\n",
      "grace_harlowe_senior_highschool_1010_librivox_64kb_mp3_text.txt\n",
      "souls_of_black_folk_librivox_64kb_mp3_text.txt\n",
      "child_life_in_art_0807_librivox_64kb_mp3_text.txt\n",
      "stage_land_0803_librivox_64kb_mp3_text.txt\n",
      "bestway_toread_1009_librivox_64kb_mp3_text.txt\n",
      "alcatraz_1105_librivox_64kb_mp3_text.txt\n",
      "story_bible6_0807_librivox_64kb_mp3_text.txt\n",
      "martin_schuler_1405_librivox_64kb_mp3_text.txt\n",
      "the_card_librivox_64kb_mp3_text.txt\n",
      "book_of_werewolves_1103_librivox_64kb_mp3_text.txt\n",
      "it_happened_in_egypt_sd_librivox_64kb_mp3_text.txt\n",
      "faith_of_men_0707_librivox_64kb_mp3_text.txt\n",
      "alicesadventure_abridged_pc_librivox_64kb_mp3_text.txt\n",
      "revolution_counter_1412_librivox_64kb_mp3_text.txt\n",
      "volpone_1410_librivox_64kb_mp3_text.txt\n",
      "2_maccabees_la_1406_librivox_64kb_mp3_text.txt\n",
      "book_old_english_ballads_1007_librivox_64kb_mp3_text.txt\n",
      "art_of_fiction_jvw_librivox_64kb_mp3_text.txt\n",
      "storm_over_warlock_1012_librivox_64kb_mp3_text.txt\n",
      "wandl_invader_2_1701_librivox_64kb_mp3_text.txt\n",
      "fairy_tales_every_child_should_know_1202_librivox_64kb_mp3_text.txt\n",
      "joel_of_galilee_1410_librivox_64kb_mp3_text.txt\n",
      "behind_beyond_1108_librivox_64kb_mp3_text.txt\n",
      "night_side_newyork_gh_librivox_64kb_mp3_text.txt\n",
      "a_mysterious_disappearance_ck_librivox_64kb_mp3_text.txt\n",
      "rick_and_ruddy_1105_librivox_64kb_mp3_text.txt\n",
      "dragonssecret_0808_librivox_64kb_mp3_text.txt\n",
      "princess_of_mars_librivox_64kb_mp3_text.txt\n",
      "francesbaird_1209_librivox_64kb_mp3_text.txt\n",
      "convivio_1503_librivox_64kb_mp3_text.txt\n",
      "mypathatheism_1311_librivox_64kb_mp3_text.txt\n",
      "robertsrules_1306_librivox_64kb_mp3_text.txt\n",
      "ladywiththedog_1301_librivox_64kb_mp3_text.txt\n"
     ]
    },
    {
     "name": "stderr",
     "output_type": "stream",
     "text": [
      " 27%|██▋       | 1431/5351 [00:09<00:27, 142.70it/s]"
     ]
    },
    {
     "name": "stdout",
     "output_type": "stream",
     "text": [
      "lovelsofarden_1203_librivox_64kb_mp3_text.txt\n",
      "semiattachedcouple_etk_librivox_64kb_mp3_text.txt\n",
      "americanmenofaction_1406_librivox_64kb_mp3_text.txt\n",
      "vegetablegarden_1108_librivox_64kb_mp3_text.txt\n",
      "economic_consequences_ofthe_peace_gm_librivox_64kb_mp3_text.txt\n",
      "queechy_1304_librivox_64kb_mp3_text.txt\n",
      "jsbach_volume1_1310_librivox_64kb_mp3_text.txt\n",
      "lives_of_twelve_caesars_0810_librivox1_64kb_mp3_text.txt\n",
      "wildfell_hall_0712_librivox_64kb_mp3_text.txt\n",
      "inagarden_0710_64kb_mp3_text.txt\n",
      "postmastersdaughter_1408_librivox_64kb_mp3_text.txt\n",
      "helensbabies_0803_lv_64kb_mp3_text.txt\n",
      "auguste_rodin_dw_1406_librivox_64kb_mp3_text.txt\n",
      "story_of_a_soul_ab_librivox_64kb_mp3_text.txt\n",
      "lifeofbenjaminfranklin_1308_librivox_64kb_mp3_text.txt\n",
      "lookingbackward_0909_librivox_64kb_mp3_text.txt\n",
      "fearsome_island_rg_librivox_64kb_mp3_text.txt\n",
      "bobbybirthday_1404_librivox_64kb_mp3_text.txt\n",
      "deluge_1704_librivox_64kb_mp3_text.txt\n",
      "purple_emperor_rg_librivox_64kb_mp3_text.txt\n",
      "changeling_1212_librivox_64kb_mp3_text.txt\n",
      "daddy_skating_1310_librivox_64kb_mp3_text.txt\n",
      "crimes_and_crimes_1304_librivox_64kb_mp3_text.txt\n",
      "aesop_fables_volume_twelve_librivox_64kb_mp3_text.txt\n",
      "queen_elizabeth_1312_librivox_64kb_mp3_text.txt\n",
      "at_the_time_appointed_1007_librivox_64kb_mp3_text.txt\n",
      "girl_aviators_1205_librivox_64kb_mp3_text.txt\n"
     ]
    },
    {
     "name": "stderr",
     "output_type": "stream",
     "text": [
      " 27%|██▋       | 1467/5351 [00:09<00:24, 158.11it/s]"
     ]
    },
    {
     "name": "stdout",
     "output_type": "stream",
     "text": [
      "enchanted_april_dk_librivox_64kb_mp3_text.txt\n",
      "physiologyopera_1408_librivox_64kb_mp3_text.txt\n",
      "sixty_years_in_socal_1907_librivox_64kb_mp3_text.txt\n",
      "confessions_poacher_1603_librivox_64kb_mp3_text.txt\n",
      "aesop_fables_volume_seven_librivox_64kb_mp3_text.txt\n",
      "wodehouse_miscellany_librivox_64kb_mp3_text.txt\n",
      "arsenelupin_1910_librivox_64kb_mp3_text.txt\n",
      "eros_psyche_n_librivox_64kb_mp3_text.txt\n",
      "essay_on_crimes_and_punishments_1409_librivox_64kb_mp3_text.txt\n",
      "dorothy_wizard_oz_librivox_64kb_mp3_text.txt\n",
      "red_nails_1006_librivox_64kb_mp3_text.txt\n",
      "intro_greek_new_testament_1010_librivox_64kb_mp3_text.txt\n",
      "green_mansions_0808_librivox_64kb_mp3_text.txt\n",
      "frog_prince_tales_librivox_64kb_mp3_text.txt\n",
      "tomswiftsubmarineboat_1502_librivox_64kb_mp3_text.txt\n",
      "green_carnation_1411_librivox_64kb_mp3_text.txt\n",
      "bernicebobshair_1008_librivox_64kb_mp3_text.txt\n",
      "case_rletter_1301_dw_librivox_64kb_mp3_text.txt\n",
      "sonnets_portugese_knf_librivox_64kb_mp3_text.txt\n",
      "at_the_back_of_the_north_wind_librivox_64kb_mp3_text.txt\n",
      "ivanov_1211_librivox_64kb_mp3_text.txt\n",
      "democracy_america_vol1_0709_64kb_mp3_text.txt\n",
      "letters_egypt_sd_librivox_64kb_mp3_text.txt\n",
      "grey_nunnery_1110_librivox_64kb_mp3_text.txt\n",
      "master_meadow_mouse_0806_librivox_64kb_mp3_text.txt\n",
      "grannys_wonderful_chair_1107_librivox_64kb_mp3_text.txt\n",
      "nigger_ofthe_narcissus_1007_librivox_64kb_mp3_text.txt\n",
      "directorydevoutlife_1404_librivox_64kb_mp3_text.txt\n",
      "makers_many_things_1104_librivox_64kb_mp3_text.txt\n",
      "pomonas_travels_sd_librivox_64kb_mp3_text.txt\n",
      "looking-glass_librivox_64kb_mp3_text.txt\n",
      "dolls_house_0812_librivox_64kb_mp3_text.txt\n",
      "aunt_friendlys_picture_book_0806_librivox_64kb_mp3_text.txt\n",
      "lisbeth_longfrock_1003_64kb_mp3_text.txt\n",
      "silas_marner_librivox_64kb_mp3_text.txt\n",
      "new_jerusalem_0806_librivox1_64kb_mp3_text.txt\n",
      "arabic_primer_1009_librivox_64kb_mp3_text.txt\n",
      "jean_talon_0707_64kb_mp3_text.txt\n",
      "married_love_1106_64kb_mp3_text.txt\n"
     ]
    },
    {
     "name": "stderr",
     "output_type": "stream",
     "text": [
      " 28%|██▊       | 1503/5351 [00:10<00:27, 141.11it/s]"
     ]
    },
    {
     "name": "stdout",
     "output_type": "stream",
     "text": [
      "wivesanddaughters_etk_librivox_64kb_mp3_text.txt\n",
      "spinningwheel_stories_1211_librivox_64kb_mp3_text.txt\n",
      "lady_from_nowhere_1203_librivox_64kb_mp3_text.txt\n",
      "aeroplanesanddirigibles_1308_librivox_64kb_mp3_text.txt\n",
      "popular_hist_ireland_7_librivox1_64kb_mp3_text.txt\n",
      "psmith_in_the_city_64kb_mp3_text.txt\n",
      "thewinterstale_1008_librivox_64kb_mp3_text.txt\n",
      "awkward_age_1408_librivox_64kb_mp3_text.txt\n",
      "deerbrook_1103_librivox_64kb_mp3_text.txt\n",
      "miracle_mongers_0903_librivox_64kb_mp3_text.txt\n",
      "tiplewis_tg_librivox_64kb_mp3_text.txt\n",
      "goldenbowl_0905_librivox_64kb_mp3_text.txt\n",
      "henrietta_temple_1302_librivox_64kb_mp3_text.txt\n",
      "nansherwoodlakeviewhall_1807_librivox_64kb_mp3_text.txt\n",
      "fourteen_months_american_bastiles_1009_librivox_64kb_mp3_text.txt\n",
      "heroineseverychildshouldknow_1410_librivox_64kb_mp3_text.txt\n",
      "paradise_regained_0810_librivox_64kb_mp3_text.txt\n",
      "claverings_1110_librivox_64kb_mp3_text.txt\n",
      "great_expectations_mfs_0812_librivox_64kb_mp3_text.txt\n",
      "the_filigree_ball_1411_librivox_64kb_mp3_text.txt\n",
      "englishgirls_first_impressions_burmah_1412_librivox_64kb_mp3_text.txt\n",
      "henryvipart1_1012_librivox_64kb_mp3_text.txt\n",
      "haunted_man_ghost_bargain_rf_librivox_64kb_mp3_text.txt\n",
      "returnofthenative_dramaticreading_1308_librivox_64kb_mp3_text.txt\n"
     ]
    },
    {
     "name": "stderr",
     "output_type": "stream",
     "text": [
      " 29%|██▉       | 1541/5351 [00:10<00:23, 158.95it/s]"
     ]
    },
    {
     "name": "stdout",
     "output_type": "stream",
     "text": [
      "essence_christianity_1108_librivox_64kb_mp3_text.txt\n",
      "war_of_the_worlds_librivox_64kb_mp3_text.txt\n",
      "harrington_1306_librivox_64kb_mp3_text.txt\n",
      "idle_ideas_in_1905_1003_librivox_64kb_mp3_text.txt\n",
      "false_faces_1210_librivox_64kb_mp3_text.txt\n",
      "sea_hawk_0710_librivox_64kb_mp3_text.txt\n",
      "fivelittlepeppers_abroad_1010_librivox_64kb_mp3_text.txt\n",
      "tin_woodman_oz_0810_ln_librivox_64kb_mp3_text.txt\n",
      "valiant_runaways_1303_librivox_64kb_mp3_text.txt\n",
      "withumor_america_v3_1103_librivox_64kb_mp3_text.txt\n",
      "facts_of_reconstruction_1101_librivox_64kb_mp3_text.txt\n",
      "garlandforgirls_0810_librivox_64kb_mp3_text.txt\n",
      "prisoner_morro_1008_librivox_64kb_mp3_text.txt\n",
      "miscellaneous_pieces_bunyan_drb_librivox_64kb_mp3_text.txt\n",
      "planet-damned_0805_librivox_64kb_mp3_text.txt\n",
      "laughter_limited_1506_librivox_text.txt\n",
      "blackbeauty_librivox_64kb_mp3_text.txt\n",
      "omega_last_days_1210_librivox_64kb_mp3_text.txt\n",
      "runaway_skyscraper_1005_librivox_64kb_mp3_text.txt\n",
      "dream_days_librivox_64kb_mp3_text.txt\n",
      "hero_our_time_kd_librivox_64kb_mp3_text.txt\n",
      "drinking_song_1004_librivox_64kb_mp3_text.txt\n",
      "confederate_girls_diary_1105_librivox_64kb_mp3_text.txt\n",
      "recollectionsbusylife_1312_librivox_64kb_mp3_text.txt\n",
      "areopagitica_1304_librivox_64kb_mp3_text.txt\n",
      "hansom_cab_sd_0808_librivox_64kb_mp3_text.txt\n",
      "tiny_story_book_sd_0810_librivox_64kb_mp3_text.txt\n",
      "collectionstoriesreviewsessays_1312_librivox_64kb_mp3_text.txt\n",
      "quest_silver_fleece_1101_librivox_64kb_mp3_text.txt\n",
      "experiences_executioner_1508_librivox_64kb_mp3_text.txt\n",
      "initiative_psychic_energy_0811_librivox_64kb_mp3_text.txt\n",
      "wild_duck_1202_librivox_64kb_mp3_text.txt\n",
      "curiosities_of_the_sky_0802_librivox_64kb_mp3_text.txt\n",
      "wonderful_wizard_oz_version_4_1501_librivox_64kb_mp3_text.txt\n",
      "muchadoaboutnothing_1003_librivox_64kb_mp3_text.txt\n",
      "story_boyhood_youth_0905_librivox_64kb_mp3_text.txt\n",
      "age_motoredthings_1310.poem_librivox_64kb_mp3_text.txt\n",
      "startreader_1411_librivox_64kb_mp3_text.txt\n",
      "wisdom_drv_0807_librivox_64kb_mp3_text.txt\n",
      "kidnapped_0807_librivox_64kb_mp3_text.txt\n",
      "kindness_dv_librivox_64kb_mp3_text.txt\n",
      "letters_elk_hunt_1305_librivox_64kb_mp3_text.txt\n"
     ]
    },
    {
     "name": "stderr",
     "output_type": "stream",
     "text": [
      " 29%|██▉       | 1558/5351 [00:10<00:23, 158.85it/s]"
     ]
    },
    {
     "name": "stdout",
     "output_type": "stream",
     "text": [
      "girl_golden_atom_1201_librivox_64kb_mp3_text.txt\n",
      "wind_willows_ap_librivox_64kb_mp3_text.txt\n",
      "popular_history_of_ireland_09_0901_sd_librivox1_64kb_mp3_text.txt\n",
      "fortunes_of_glencore_1312_librivox_64kb_mp3_text.txt\n",
      "hypnotism_alpheus_0906_librivox_64kb_mp3_text.txt\n",
      "mr_standfast_1203_librivox_64kb_mp3_text.txt\n",
      "tom_swift_diamond_makers_1309_librivox_64kb_mp3_text.txt\n",
      "marrow_tradition_jw_librivox_64kb_mp3_text.txt\n",
      "aesop_fables_volume_ten_librivox_64kb_mp3_text.txt\n",
      "motherwestwindschildren_0906_librivox_64kb_mp3_text.txt\n",
      "john_silence_1308_librivox_64kb_mp3_text.txt\n",
      "whats_wrong_chesterton_librivox_64kb_mp3_text.txt\n",
      "historical_tales_5_1103_librivox_64kb_mp3_text.txt\n",
      "summa_1_04_1312_librivox_64kb_mp3_text.txt\n",
      "alarms_discursions_rc_64kb_mp3_text.txt\n",
      "resurrection_3_1004_librivox_64kb_mp3_text.txt\n",
      "creature_cleveland_depths_gm_librivox_64kb_mp3_text.txt\n",
      "mistakesofmoses_1403_librivox_64kb_mp3_text.txt\n",
      "story_of_the_greeks_1407_librivox_64kb_mp3_text.txt\n",
      "pinckneydraught_rm_librivox_64kb_mp3_text.txt\n",
      "art_of_war_librivox_64kb_mp3_text.txt\n",
      "famousaffinities_0911_librivox_64kb_mp3_text.txt\n",
      "princess_aline_1210_librivox_64kb_mp3_text.txt\n",
      "narrative_gordon_pym_librivox_64kb_mp3_text.txt\n",
      "earnest_0805_librivox_64kb_mp3_text.txt\n"
     ]
    },
    {
     "name": "stderr",
     "output_type": "stream",
     "text": [
      " 30%|██▉       | 1591/5351 [00:10<00:26, 144.00it/s]"
     ]
    },
    {
     "name": "stdout",
     "output_type": "stream",
     "text": [
      "peterandwendy_1210_librivox_64kb_mp3_text.txt\n",
      "pandorasbox_1307_librivox_64kb_mp3_text.txt\n",
      "tomswift_warship_0708_librivox_64kb_mp3_text.txt\n",
      "old_roller_towel_1103_librivox_64kb_mp3_text.txt\n",
      "letters_usgrant_1001_librivox_64kb_mp3_text.txt\n",
      "inlandvoyage_1403_librivox_64kb_mp3_text.txt\n",
      "deadwooddickjrbranded_1412_librivox_64kb_mp3_text.txt\n",
      "quo_vadis_dl_librivox_64kb_mp3_text.txt\n",
      "the_watchers_1403_librivox_64kb_mp3_text.txt\n",
      "autobiography_mill_1203_librivox_64kb_mp3_text.txt\n",
      "thomaswingfoldcurate_1401_librivox_64kb_mp3_text.txt\n",
      "principles_economics_1308_librivox_64kb_mp3_text.txt\n",
      "mardi_vol1_1806_librivox_64kb_mp3_text.txt\n",
      "mystery_mary_lah_librivox_64kb_mp3_text.txt\n",
      "grace_harlowes_plebe_year_cb_librivox_64kb_mp3_text.txt\n",
      "ascent_of_mount_carmel_eh_1612_librivox_64kb_mp3_text.txt\n",
      "empireofrussia_1305_librivox_64kb_mp3_text.txt\n",
      "bobbsey_twins_country_1011_librivox_64kb_mp3_text.txt\n",
      "liar_1409_librivox_64kb_mp3_text.txt\n",
      "your_psychic_powers_1305_64kb_mp3_text.txt\n",
      "anticoup_1912_librivox_64kb_mp3_text.txt\n",
      "noli_me_tangere_ava_librivox_64kb_mp3_text.txt\n",
      "hilda_wade_1004_librivox_64kb_mp3_text.txt\n",
      "spirit_of_christmas_jm_librivox_64kb_mp3_text.txt\n",
      "peter_pan_0707_librivox_64kb_mp3_text.txt\n",
      "iliad_popetranslation_1506_librivox_64kb_mp3_text.txt\n",
      "sense_sensibility_1207_librivox_64kb_mp3_text.txt\n"
     ]
    },
    {
     "name": "stderr",
     "output_type": "stream",
     "text": [
      " 30%|███       | 1626/5351 [00:11<00:24, 154.93it/s]"
     ]
    },
    {
     "name": "stdout",
     "output_type": "stream",
     "text": [
      "birdsandbeessharpeyesandotherpapers_1404_librivox_64kb_mp3_text.txt\n",
      "oneofmysons_1309_librivox_64kb_mp3_text.txt\n",
      "story_books_lh_librivox_64kb_mp3_text.txt\n",
      "stories_every_child_know_1304_librivox_64kb_mp3_text.txt\n",
      "edisons_conquest_of_mars_0806_librivox_64kb_mp3_text.txt\n",
      "rhymesfortheyoungfolk_1412_librivox_64kb_mp3_text.txt\n",
      "losthouse_1208_librivox_64kb_mp3_text.txt\n",
      "tales_old_japan_1110_librivox_64kb_mp3_text.txt\n",
      "vicarbullhampton_1107_librivox_64kb_mp3_text.txt\n",
      "abandoned_room_1101_librivox_64kb_mp3_text.txt\n",
      "frankenstein_shelley_64kb_mp3_text.txt\n",
      "fordolly_1304_librivox_64kb_mp3_text.txt\n",
      "moon_pool_1004_librivox_64kb_mp3_text.txt\n",
      "mark_wnt_mp_0808_librivox_64kb_mp3_text.txt\n",
      "dostoyevskyshortstories_1310_librivox_64kb_mp3_text.txt\n",
      "helpinghimself_1410_librivox_64kb_mp3_text.txt\n",
      "works_josephus_1109_librivox_64kb_mp3_text.txt\n",
      "stories_storyteller_1202_librivox_64kb_mp3_text.txt\n",
      "naturesmiracles_1104_librivox_64kb_mp3_text.txt\n",
      "poisonedpen_em_librivox_64kb_mp3_text.txt\n",
      "the_innocents_1011_librivox_64kb_mp3_text.txt\n",
      "faces_places_rg_librivox_64kb_mp3_text.txt\n",
      "sign_of_four_librivox_64kb_mp3_text.txt\n",
      "silasmarner_1203_librivox_64kb_mp3_text.txt\n",
      "outlet_1106_librivox_64kb_mp3_text.txt\n",
      "flaming_jewel_w_librivox_64kb_mp3_text.txt\n",
      "clover_avs_librivox_64kb_mp3_text.txt\n",
      "picture_dorian_gray_1204_librivox_64kb_mp3_text.txt\n",
      "zarathustra_0809_librivox_64kb_mp3_text.txt\n",
      "dog_crusoe_ah_librivox_64kb_mp3_text.txt\n",
      "ontheendsofgoodandevil_1502_librivox_64kb_mp3_text.txt\n",
      "bible_wnt_nt05_acts_0911_librivox_64kb_mp3_text.txt\n",
      "ramona_0911_librivox_64kb_mp3_text.txt\n",
      "motherstories_gg_librivox_64kb_mp3_text.txt\n",
      "jacques_cartier_64kb_mp3_text.txt\n"
     ]
    },
    {
     "name": "stderr",
     "output_type": "stream",
     "text": [
      " 31%|███       | 1658/5351 [00:11<00:25, 145.35it/s]"
     ]
    },
    {
     "name": "stdout",
     "output_type": "stream",
     "text": [
      "history_us_vii_1108_librivox_64kb_mp3_text.txt\n",
      "prelude_1205_librivox_64kb_mp3_text.txt\n",
      "mystery_cloomber_1110_librivox_64kb_mp3_text.txt\n",
      "opioneers2_1210_librivox_bt_64kb_mp3_text.txt\n",
      "hms_pinafore_nb_librivox_64kb_mp3_text.txt\n",
      "secret_places_heart_1205_librivox_64kb_mp3_text.txt\n",
      "dulcibel_1201_librivox_64kb_mp3_text.txt\n",
      "financier_1109_librivox_64kb_mp3_text.txt\n",
      "life_santa_claus_j_librivox_64kb_mp3_text.txt\n",
      "club_of_queer_trades_drb_librivox_64kb_mp3_text.txt\n",
      "diarygoosegirl_mt_librivox_64kb_mp3_text.txt\n",
      "compleat_angler_1208_librivox_64kb_mp3_text.txt\n",
      "dandelioncottage_1005_librivox_64kb_mp3_text.txt\n",
      "jonathan_oldstyle_1208_librivox_64kb_mp3_text.txt\n",
      "talents_inc_mn_librivox_64kb_mp3_text.txt\n",
      "snowman_inyard_1203_librivox_64kb_mp3_text.txt\n",
      "young_folks_history_american_revolution_1503_librivox_64kb_mp3_text.txt\n",
      "pariahplanet2_1210_librivox_mn_64kb_mp3_text.txt\n",
      "littlecolonelmaidofhonor_1607_librivox_64kb_mp3_text.txt\n",
      "snarleyyow_1404_librivox_64kb_mp3_text.txt\n",
      "littledorrit_1211_librivox_64kb_mp3_text.txt\n",
      "halfpastbedtime-1_1403_librivox_64kb_mp3_text.txt\n",
      "richard_iii_1006_librivox_64kb_mp3_text.txt\n",
      "emma_ver03_ek_librivox_64kb_mp3_text.txt\n",
      "resurrection_1_1002_librivox_64kb_mp3_text.txt\n",
      "lords_housetops_1007_librivox_64kb_mp3_text.txt\n",
      "princess_mars_0810_librivox_64kb_mp3_text.txt\n",
      "fifty_famous_stories_ver2_0809_librivox_64kb_mp3_text.txt\n"
     ]
    },
    {
     "name": "stderr",
     "output_type": "stream",
     "text": [
      " 32%|███▏      | 1701/5351 [00:11<00:21, 169.33it/s]"
     ]
    },
    {
     "name": "stdout",
     "output_type": "stream",
     "text": [
      "metamorphosis_1106_librivox_64kb_mp3_text.txt\n",
      "isaiah_kjv_1107_librivox_64kb_mp3_text.txt\n",
      "just_david_ma_librivox_64kb_mp3_text.txt\n",
      "lastofthemohicans_0809_librivox_64kb_mp3_text.txt\n",
      "status_civilization_1004_librivox_64kb_mp3_text.txt\n",
      "middlemarch_0810_librivox_64kb_mp3_text.txt\n",
      "timetraders_mn_1211_64kb_mp3_text.txt\n",
      "nurseandspy_1501_librivox_64kb_mp3_text.txt\n",
      "dragon_wantley_1204_librivox_64kb_mp3_text.txt\n",
      "call_of_the_wild_64kb_mp3_text.txt\n",
      "crucial_instances_etk_librivox_64kb_mp3_text.txt\n",
      "making_of_nation_0908_librivox1_64kb_mp3_text.txt\n",
      "divine_enchantment_1010_librivox_64kb_mp3_text.txt\n",
      "harriet_shelley_jg_librivox_64kb_mp3_text.txt\n",
      "spiritofyouth_1011_librivox_64kb_mp3_text.txt\n",
      "space_tug_0809_librivox_64kb_mp3_text.txt\n",
      "threesisters_1311_librivox_64kb_mp3_text.txt\n",
      "passenger_pigeon_mk_1406_librivox_64kb_mp3_text.txt\n",
      "projectmastodon_pc_librivox_64kb_mp3_text.txt\n",
      "underground_man_rg_librivox_64kb_mp3_text.txt\n",
      "curtezan_unmasked_ds_librivox_64kb_mp3_text.txt\n",
      "according_promise_1110_librivox_64kb_mp3_text.txt\n",
      "adventures_jimmy_skunk_jl_librivox_64kb_mp3_text.txt\n",
      "jolly_corner_0908_librivox_64kb_mp3_text.txt\n",
      "eightcousins_mb_librivox_64kb_mp3_text.txt\n",
      "fairy_snows_1010_librivox_64kb_mp3_text.txt\n",
      "richard_jamestown_lc_librivox_64kb_mp3_text.txt\n",
      "doctorfaustus_1211_librivox_64kb_mp3_text.txt\n",
      "cinema_murder_0807_64kb_mp3_text.txt\n",
      "kitcheners_mob_0809_mv_librivox_64kb_mp3_text.txt\n",
      "mysteriouskey_1106_librivox_64kb_mp3_text.txt\n",
      "acts_kjv_1112_librivox_64kb_mp3_text.txt\n",
      "boys_book_famous_soldiers_1105_librivox_64kb_mp3_text.txt\n",
      "waifsandstrays_1303_librivox_64kb_mp3_text.txt\n",
      "farthestnorth_vol2_1012_librivox_64kb_mp3_text.txt\n",
      "life_of_the_spider_0903_librivox_64kb_mp3_text.txt\n",
      "portrait_lady_0708_librivox_64kb_mp3_text.txt\n",
      "history_briton_1003_librivox_64kb_mp3_text.txt\n",
      "unclassed_1410_librivox_64kb_mp3_text.txt\n"
     ]
    },
    {
     "name": "stderr",
     "output_type": "stream",
     "text": [
      " 32%|███▏      | 1719/5351 [00:11<00:23, 155.76it/s]"
     ]
    },
    {
     "name": "stdout",
     "output_type": "stream",
     "text": [
      "edison_his_life_0809_librivox_64kb_mp3_text.txt\n",
      "1corinthians_kjv_1103_librivox_64kb_mp3_text.txt\n",
      "pellucidar_0808_librivox_64kb_mp3_text.txt\n",
      "dirge_librivox_64kb_mp3_text.txt\n",
      "dubliners_0906_librivox_64kb_mp3_text.txt\n",
      "lives_queens_england_vol3_1202_librivox_64kb_mp3_text.txt\n",
      "three_accounts_peterloo_pb_librivox_64kb_mp3_text.txt\n",
      "rosmersholm_1108_librivox_64kb_mp3_text.txt\n",
      "dawn_and_day_0802_librivox_64kb_mp3_text.txt\n",
      "mason_bees_bt_1312_librivox_64kb_mp3_text.txt\n",
      "travels_in_alaska_1010_librivox_64kb_mp3_text.txt\n",
      "armynavyhymnal1_1307_librivox_64kb_mp3_text.txt\n",
      "fentons_quest_1204_librivox_64kb_mp3_text.txt\n",
      "mysteries_paris_vol1_1206_librivox_64kb_mp3_text.txt\n",
      "lock_key_library_1104_librivox_64kb_mp3_text.txt\n",
      "suns_babies_lv_librivox_64kb_mp3_text.txt\n",
      "jimmyjohn_boss_dw_librivox_64kb_mp3_text.txt\n",
      "ragged_trousered_philantropists_th_librivox_64kb_mp3_text.txt\n",
      "flyingforfrance_1609_librivox_64kb_mp3_text.txt\n",
      "happyprince_1103_librivox_64kb_mp3_text.txt\n",
      "presentpicture_newsouthwales_1408_librivox_64kb_mp3_text.txt\n",
      "jacobsroom_1104_librivox_64kb_mp3_text.txt\n",
      "3_years_in_europe_1107_librivox_64kb_mp3_text.txt\n",
      "kim_ap_librivox_64kb_mp3_text.txt\n",
      "thorstein_mere_pb_librivox_64kb_mp3_text.txt\n",
      "theemeraldcity_pc_librivox_64kb_mp3_text.txt\n",
      "anne_avonlea_1108_librivox_64kb_mp3_text.txt\n",
      "god_and_my_neighbour_1512_librivox_64kb_mp3_text.txt\n"
     ]
    },
    {
     "name": "stderr",
     "output_type": "stream",
     "text": [
      " 32%|███▏      | 1736/5351 [00:11<00:30, 120.07it/s]"
     ]
    },
    {
     "name": "stdout",
     "output_type": "stream",
     "text": [
      "David_Copperfield_0805_librivox2_64kb_mp3_text.txt\n",
      "textbookassaying_1603_librivox_64kb_mp3_text.txt\n",
      "war_and_peace_03_0712_librivox_64kb_mp3_text.txt\n",
      "Regulations_for_troops_Steuben_64kb_mp3_text.txt\n",
      "lovefreindship_1410_librivox_64kb_mp3_text.txt\n",
      "alexanderhamilton_1301_librivox_64kb_mp3_text.txt\n",
      "murder_bridge_0710_librivox_64kb_mp3_text.txt\n",
      "snowdrift_1112_librivox_64kb_mp3_text.txt\n",
      "life_charlotte_bronte1_0904_librivox_64kb_mp3_text.txt\n",
      "barbadoes_girl_1209_librivox_64kb_mp3_text.txt\n",
      "travels_donkey_cevennes_pl_librivox_64kb_mp3_text.txt\n",
      "chesterfield_letters_1102_librivox_64kb_mp3_text.txt\n",
      "omar_resung_1205_librivox_64kb_mp3_text.txt\n",
      "reginald_0709_librivox_64kb_mp3_text.txt\n",
      "farewell_mg_librivox_64kb_mp3_text.txt\n",
      "servile_state_0903_64kb_mp3_text.txt\n",
      "ponyriderboys_ozarks_1212_librivox_64kb_mp3_text.txt\n",
      "thuvia_maid_of_mars_3_1404_librivox_64kb_mp3_text.txt\n"
     ]
    },
    {
     "name": "stderr",
     "output_type": "stream",
     "text": [
      " 33%|███▎      | 1765/5351 [00:12<00:27, 128.61it/s]"
     ]
    },
    {
     "name": "stdout",
     "output_type": "stream",
     "text": [
      "howards_end_librivox_64kb_mp3_text.txt\n",
      "stowmarket_mystery_1504_librivox_64kb_mp3_text.txt\n",
      "magic_city_rg_librivox_64kb_mp3_text.txt\n",
      "withturkspalestine_1301_librivox_64kb_mp3_text.txt\n",
      "alexanders_bridge_jm_librivox_64kb_mp3_text.txt\n",
      "youngrobinhood_1203_librivox_64kb_mp3_text.txt\n",
      "skylark_1408.poem_librivox_64kb_mp3_text.txt\n",
      "girlnextdoor_1502_librivox_64kb_mp3_text.txt\n",
      "one_third_off_bn_librivox_64kb_mp3_text.txt\n",
      "mother_goose_prose_librivox_64kb_mp3_text.txt\n",
      "oldchristmas_64kb_mp3_text.txt\n",
      "blackbeauty_0910_librivox_64kb_mp3_text.txt\n",
      "fairies_christmaschild_1202_librivox_64kb_mp3_text.txt\n",
      "villette_librivox_64kb_mp3_text.txt\n",
      "manwithoutacountry_1304_librivox_64kb_mp3_text.txt\n",
      "mutual_aid_0808_librivox_64kb_mp3_text.txt\n",
      "history_of_egypt_vol2_0910_hm_librivox1_64kb_mp3_text.txt\n",
      "bohemian_sf_librivox_64kb_mp3_text.txt\n",
      "wizard_of_oz_64kb_mp3_text.txt\n",
      "storyofalchemy_0906_64kb_mp3_text.txt\n",
      "around_the_world_in_eighty_days_0908_librivox_64kb_mp3_text.txt\n",
      "robinson_crusoe_1006_librivox_64kb_mp3_text.txt\n",
      "ulysses_2007_librivox_64kb_mp3_text.txt\n",
      "oneofours_librivox_0910_64kb_mp3_text.txt\n",
      "triumphofscarletpimpernel_1407_librivox_64kb_mp3_text.txt\n",
      "storm_over_warlock_rjd_librivox_64kb_mp3_text.txt\n",
      "dorothydaleglenwood_lt_librivox_64kb_mp3_text.txt\n",
      "fourbyglvandenberg_pc_librivox_64kb_mp3_text.txt\n"
     ]
    },
    {
     "name": "stderr",
     "output_type": "stream",
     "text": [
      " 34%|███▎      | 1795/5351 [00:12<00:26, 132.26it/s]"
     ]
    },
    {
     "name": "stdout",
     "output_type": "stream",
     "text": [
      "anneofgreengables_sp_librivox_64kb_mp3_text.txt\n",
      "voces_populi_1412_librivox_64kb_mp3_text.txt\n",
      "nightmareplanet_1403_librivox_64kb_mp3_text.txt\n",
      "alexanders_bridge_librivox_64kb_mp3_text.txt\n",
      "bobthecastaway_nb_librivox_64kb_mp3_text.txt\n",
      "new_arrival_1011_librivox_64kb_mp3_text.txt\n",
      "leopardsspots_1407_librivox_64kb_mp3_text.txt\n",
      "against_heresies_1005_librivox_64kb_mp3_text.txt\n",
      "blackheart_whiteheart_vd_librivox_64kb_mp3_text.txt\n",
      "lordoftheworld_1104_librivox_64kb_mp3_text.txt\n",
      "idledaysinpatagonia_1409_librivox_64kb_mp3_text.txt\n",
      "keytoscienceoftheology_1809_librivox_64kb_mp3_text.txt\n",
      "rolfvikingsbow_1707_librivox_64kb_mp3_text.txt\n",
      "thelittlematchgirl_1311_librivox_64kb_mp3_text.txt\n",
      "tiger_of_mysore_1007_librivox_64kb_mp3_text.txt\n",
      "spinster_book_librivox_64kb_mp3_text.txt\n",
      "sir_nigel_1205_librivox_64kb_mp3_text.txt\n",
      "thiefinthenight_v2_1505_librivox_64kb_mp3_text.txt\n",
      "irish_wit_and_humor_1110_librivox_64kb_mp3_text.txt\n",
      "great_men_and_famous_women_vol_1_1407_librivox_64kb_mp3_text.txt\n",
      "motor_girls_0807_librivox_64kb_mp3_text.txt\n",
      "judge_burnhams_daughters_tg_librivox_64kb_mp3_text.txt\n",
      "topics_1101_librivox_64kb_mp3_text.txt\n",
      "idiot_part_03_04_jm_1511_librivox_64kb_mp3_text.txt\n",
      "centuryofroundels_1311_librivox_64kb_mp3_text.txt\n"
     ]
    },
    {
     "name": "stderr",
     "output_type": "stream",
     "text": [
      " 34%|███▍      | 1822/5351 [00:12<00:32, 109.33it/s]"
     ]
    },
    {
     "name": "stdout",
     "output_type": "stream",
     "text": [
      "bible_titus_kjv_1007_librivox_64kb_mp3_text.txt\n",
      "hampstead_mystery_0807_librivox_64kb_mp3_text.txt\n",
      "puck_pooks_hill_1404_librivox_64kb_mp3_text.txt\n",
      "rastignac_devil_1003_librivox_64kb_mp3_text.txt\n",
      "songs_of_the_road_1403_librivox_64kb_mp3_text.txt\n",
      "iron_heel_1007_librivox_64kb_mp3_text.txt\n",
      "eclogues_0810_librivox_64kb_mp3_text.txt\n",
      "numbers_kjv_1108_librivox_64kb_mp3_text.txt\n",
      "secret_service_mk_gg_1501_librivox_64kb_mp3_text.txt\n",
      "shades_of_wilderness_1406_librivox_64kb_mp3_text.txt\n",
      "angels_mons_1202_librivox_64kb_mp3_text.txt\n",
      "miss_lulu_bett_1207_librivox_64kb_mp3_text.txt\n",
      "time_machine_0805_librivox_64kb_mp3_text.txt\n",
      "bible_2timothy_kjv_1009_librivox_64kb_mp3_text.txt\n",
      "goldenbullet_1105_librivox_64kb_mp3_text.txt\n",
      "reginaldinrussia_1308_librivox_64kb_mp3_text.txt\n",
      "theromantic_1401_librivox_64kb_mp3_text.txt\n",
      "mrs_caudles_curtain_lectures_librivox_64kb_mp3_text.txt\n",
      "autobiography_memories_experiences_volume_2_1402_librivox_64kb_mp3_text.txt\n",
      "lord_kitchener_chesterton_0904_rc_librivox_1_64kb_mp3_text.txt\n",
      "dreams_and_realities_1705_librivox_64kb_mp3_text.txt\n",
      "daughterofthevine_1412_librivox_64kb_mp3_text.txt\n",
      "riders_silences_1302_librivox_64kb_mp3_text.txt\n",
      "fivelittlepeppers_grew2_1007_librivox_64kb_mp3_text.txt\n",
      "last_day_condemned_1202_librivox_64kb_mp3_text.txt\n"
     ]
    },
    {
     "name": "stderr",
     "output_type": "stream",
     "text": [
      " 34%|███▍      | 1846/5351 [00:12<00:31, 110.82it/s]"
     ]
    },
    {
     "name": "stdout",
     "output_type": "stream",
     "text": [
      "essaysfirstseries_1207_librivox_64kb_mp3_text.txt\n",
      "lives_queens_of_england_6_amb_1506_librivox_64kb_mp3_text.txt\n",
      "machine_1201_librivox_64kb_mp3_text.txt\n",
      "four_horseman_apocalypse_to_librivox_64kb_mp3_text.txt\n",
      "prairiesunset_1109_librivox_64kb_mp3_text.txt\n",
      "greatgoldrush_cb_librivox_64kb_mp3_text.txt\n",
      "abominationsofmodernsociety_1306_librivox_64kb_mp3_text.txt\n",
      "talisman_0810_librivox_64kb_mp3_text.txt\n",
      "warlordmars3_1409_librivox_64kb_mp3_text.txt\n",
      "quintessenceibsenism_2_1412_librivox_64kb_mp3_text.txt\n",
      "dorothy_and_thewizard_pc_librivox_64kb_mp3_text.txt\n",
      "atlantisandlostlemuria_1404_librivox_64kb_mp3_text.txt\n",
      "lady_anna_1111_librivox_64kb_mp3_text.txt\n",
      "orpheus_kerr_1006_librivox_64kb_mp3_text.txt\n",
      "war_and_peace_12_0911_librivox_64kb_mp3_text.txt\n",
      "battle-pieces_aspects_war_1501_librivox_64kb_mp3_text.txt\n",
      "in_bishops_carriage_1001_librivox_64kb_mp3_text.txt\n",
      "daysontheroad_1409_librivox_64kb_mp3_text.txt\n",
      "short_history_england_rc_64kb_mp3_text.txt\n",
      "tartuffe_1206_librivox_64kb_mp3_text.txt\n"
     ]
    },
    {
     "name": "stderr",
     "output_type": "stream",
     "text": [
      " 35%|███▌      | 1877/5351 [00:13<00:26, 131.79it/s]"
     ]
    },
    {
     "name": "stdout",
     "output_type": "stream",
     "text": [
      "underground_railroad_part4_1309_librivox_64kb_mp3_text.txt\n",
      "howards_end_0709_librivox_64kb_mp3_text.txt\n",
      "lostworld_1403_librivox_64kb_mp3_text.txt\n",
      "byways_around_san_francisco_bay_librivox_64kb_mp3_text.txt\n",
      "jillsredbag_1502_librivox_64kb_mp3_text.txt\n",
      "frontier_american_history_1904_librivox_64kb_mp3_text.txt\n",
      "shepherd_of_the_hills_1006_librivox_64kb_mp3_text.txt\n",
      "little_eve_edgarton_librivox_64kb_mp3_text.txt\n",
      "four_weird_tales_1312_librivox_64kb_mp3_text.txt\n",
      "tarzantheterrible_1112_librivox_64kb_mp3_text.txt\n",
      "george_bernard_shaw_rc_0808_64kb_mp3_text.txt\n",
      "memoirs_revolutionist2_1201_librivox_64kb_mp3_text.txt\n",
      "lovesongs_sv_librivox_64kb_mp3_text.txt\n",
      "paulownia_1410_librivox_64kb_mp3_text.txt\n",
      "hound_baskervilles_librivox_64kb_mp3_text.txt\n",
      "river_duddon_pb_librivox_64kb_mp3_text.txt\n",
      "northangerabbeydramatic_1502_librivox_64kb_mp3_text.txt\n",
      "frank_and_jesse_james_1406_librivox_64kb_mp3_text.txt\n",
      "diary_dead_officer_rg_librivox_64kb_mp3_text.txt\n",
      "futilitynovelrussianthemes_1407_librivox_64kb_mp3_text.txt\n",
      "oblomov_kwd_librivox_64kb_mp3_text.txt\n",
      "yellow_fairy_book_0801_librivox_64kb_mp3_text.txt\n",
      "schoolforscandal_1301_librivox_64kb_mp3_text.txt\n",
      "murderersrow_1404_librivox_64kb_mp3_text.txt\n",
      "georgemuller_1407_librivox_64kb_mp3_text.txt\n",
      "scott_vol1_2010_librivox_64kb_mp3_text.txt\n",
      "strugglesforfreedom_1310_librivox_64kb_mp3_text.txt\n",
      "three_little_pigs_librivox_64kb_mp3_text.txt\n",
      "on_union_with_god_db_librivox_64kb_mp3_text.txt\n",
      "four_mothers_chautauqua_tg_librivox_64kb_mp3_text.txt\n",
      "celebration_dialects_accents_vol2_1312_librivox_64kb_mp3_text.txt\n",
      "musiclover_1302_librivox_64kb_mp3_text.txt\n",
      "eves_diary_librivox_64kb_mp3_text.txt\n",
      "fiftyonetales_1210_librivox_tc_64kb_mp3_text.txt\n",
      "awakening_librivox_64kb_mp3_text.txt\n",
      "vandover_and_the_brute_1403_librivox_64kb_mp3_text.txt\n",
      "expedition_donner_party_0907_librivox_64kb_mp3_text.txt\n"
     ]
    },
    {
     "name": "stderr",
     "output_type": "stream",
     "text": [
      " 35%|███▌      | 1896/5351 [00:13<00:23, 147.28it/s]"
     ]
    },
    {
     "name": "stdout",
     "output_type": "stream",
     "text": [
      "beecherbeached_1404.poem_librivox_64kb_mp3_text.txt\n",
      "ballad_of_reading_gaol_jg_librivox_64kb_mp3_text.txt\n",
      "pride_and_prejudice_librivox_64kb_mp3_text.txt\n",
      "new_discoveries_jamestown_ms_librivox_64kb_mp3_text.txt\n",
      "booknaturemyths_1211_librivox_kc_64kb_mp3_text.txt\n",
      "pipefuls_1303_librivox_64kb_mp3_text.txt\n",
      "prairie_traveler_ar_librivox_64kb_mp3_text.txt\n",
      "rinkitinkinoz_1408_librivox_64kb_mp3_text.txt\n",
      "household_puzzles_1402_librivox_64kb_mp3_text.txt\n",
      "old_man_in_corner_jms_librivox_64kb_mp3_text.txt\n",
      "clarissa_vol4_1411_librivox_64kb_mp3_text.txt\n",
      "war_and_peace_11_0909_64kb_mp3_text.txt\n",
      "twisted_candle_librivox_64kb_mp3_text.txt\n",
      "undine_pw_librivox_64kb_mp3_text.txt\n",
      "wardno6_1312_librivox_64kb_mp3_text.txt\n",
      "canterburytales_librivox_64kb_mp3_text.txt\n",
      "popular_history_ireland_book04_0809_librivox_64kb_mp3_text.txt\n",
      "halfpast_bedtime_pc_librivox_64kb_mp3_text.txt\n",
      "youngwomansguide_1501_librivox_64kb_mp3_text.txt\n",
      "heroeseverychildshouldknow_1409_librivox_64kb_mp3_text.txt\n"
     ]
    },
    {
     "name": "stderr",
     "output_type": "stream",
     "text": [
      " 36%|███▌      | 1926/5351 [00:13<00:27, 124.80it/s]"
     ]
    },
    {
     "name": "stdout",
     "output_type": "stream",
     "text": [
      "summa_1_05_1405_librivox_64kb_mp3_text.txt\n",
      "sunshinefactory_1409_librivox_64kb_mp3_text.txt\n",
      "thepowerhouse_1312_librivox_64kb_mp3_text.txt\n",
      "penrod_and_sam_jb_librivox_64kb_mp3_text.txt\n",
      "poems_wm_blake_ss_librivox_64kb_mp3_text.txt\n",
      "this_side_of_paradise_0806_librivox_64kb_mp3_text.txt\n",
      "far_from_the_madding_crowd_th_librivox_64kb_mp3_text.txt\n",
      "longago_2012_librivox_64kb_mp3_text.txt\n",
      "possessed_1404_librivox_64kb_mp3_text.txt\n",
      "skylark_of_space_1012_librivox_64kb_mp3_text.txt\n",
      "amongpondpeople_1310_librivox_64kb_mp3_text.txt\n",
      "historyegypt_etc_0912_librivox_64kb_mp3_text.txt\n",
      "great_expectations_v2_1211_librivox_64kb_mp3_text.txt\n",
      "amongmeadowpeople_1311_librivox_64kb_mp3_text.txt\n",
      "getting_wisdom_librivox_64kb_mp3_text.txt\n",
      "tristramshandy4_1008_librivox_64kb_mp3_text.txt\n",
      "miraclesofourlord_1307_librivox_64kb_mp3_text.txt\n",
      "iracema_a_legend_of_brazil_1312_librivox_64kb_mp3_text.txt\n",
      "treatise_light_ava_librivox_64kb_mp3_text.txt\n",
      "lone_ranger_rides_1301_librivox_64kb_mp3_text.txt\n",
      "boys_life_of_twain_jg_0810_librivox_64kb_mp3_text.txt\n",
      "lifeofcarltonparker_1409_librivox_64kb_mp3_text.txt\n",
      "blackbeauty_youngfolksedition_1208_librivox_64kb_mp3_text.txt\n",
      "abaft_funnel_1307_librivox_64kb_mp3_text.txt\n",
      "awitchshallbeborn_pc_librivox_64kb_mp3_text.txt\n",
      "wind_in_the_willows_collab_librivox_64kb_mp3_text.txt\n",
      "magna_moralia_1308_librivox_64kb_mp3_text.txt\n",
      "france_19thcentury_1208_librivox_64kb_mp3_text.txt\n",
      "observations_of_an_orderly_0909_librivox_64kb_mp3_text.txt\n",
      "treesandotherpoems_pc_librivox_64kb_mp3_text.txt\n",
      "what_i_saw_in_america_chesterton_0905_rc_librivox1_64kb_mp3_text.txt\n",
      "liliecronas_home_1207_librivox_64kb_mp3_text.txt\n",
      "criminal_manchester_1408_librivox_64kb_mp3_text.txt\n"
     ]
    },
    {
     "name": "stderr",
     "output_type": "stream",
     "text": [
      " 37%|███▋      | 1960/5351 [00:13<00:23, 143.68it/s]"
     ]
    },
    {
     "name": "stdout",
     "output_type": "stream",
     "text": [
      "on_war_vol2and3_1403_librivox_64kb_mp3_text.txt\n",
      "lady_bridget_nevernever_land_1211_librivox_64kb_mp3_text.txt\n",
      "anniebesant_tfr_librivox_64kb_mp3_text.txt\n",
      "luredimtrails_1212_librivox_64kb_mp3_text.txt\n",
      "endofharvest_1411.poem_librivox_64kb_mp3_text.txt\n",
      "jean_valjean_1311_librivox_64kb_mp3_text.txt\n",
      "astounding_stories_06_1403_librivox_64kb_mp3_text.txt\n",
      "theaetetus_1311_librivox_64kb_mp3_text.txt\n",
      "grimmtalesmadegay_0906_librivox_64kb_mp3_text.txt\n",
      "littleprincess_librivox_64kb_mp3_text.txt\n",
      "indian_summer_lw_1201_64kb_mp3_text.txt\n",
      "devils_pool_librivox_64kb_mp3_text.txt\n",
      "seven_little_australians_librivox_64kb_mp3_text.txt\n",
      "behaviorhoneybee_rm_librivox_64kb_mp3_text.txt\n",
      "on_trail_quixote_sa_librivox_64kb_mp3_text.txt\n",
      "goldsmiths_friend_abroad_again_jg_librivox_64kb_mp3_text.txt\n",
      "cleek_scotland_yard_rg_librivox_64kb_mp3_text.txt\n",
      "greatastronomers_1311_librivox_64kb_mp3_text.txt\n",
      "green_rust_dwj_librivox_64kb_mp3_text.txt\n",
      "the_schoolmaster_1304_librivox_64kb_mp3_text.txt\n",
      "duchess_malfi_0912_librivox_64kb_mp3_text.txt\n",
      "framley_parsonage_1010_librivox_64kb_mp3_text.txt\n",
      "colorsofspace_v2_1111_librivox_64kb_mp3_text.txt\n",
      "mrs.ladybug_1303_librivox_64kb_mp3_text.txt\n",
      "poems_of_giacomo_leopardi_1409_librivox_64kb_mp3_text.txt\n",
      "huntedwoman_1407_librivox_64kb_mp3_text.txt\n",
      "decline_and_fall_4_librivox_64kb_mp3_text.txt\n",
      "blue_lagoon_ap_librivox_64kb_mp3_text.txt\n",
      "othello_1005_librivox_64kb_mp3_text.txt\n",
      "sonnet_28_librivox_64kb_mp3_text.txt\n",
      "fairy_tales_perrault_1105_librivox_64kb_mp3_text.txt\n",
      "bunyancharactersvol1_1402_librivox_64kb_mp3_text.txt\n",
      "reminiscences_rg_librivox_64kb_mp3_text.txt\n",
      "told_after_supper_rg_librivox_64kb_mp3_text.txt\n",
      "danieladditions_drv_ss_librivox_64kb_mp3_text.txt\n",
      "littlecandybook_1412_librivox_64kb_mp3_text.txt\n",
      "czars_spy_tw_librivox_64kb_mp3_text.txt\n",
      "vampire_eo_librivox_64kb_mp3_text.txt\n"
     ]
    },
    {
     "name": "stderr",
     "output_type": "stream",
     "text": [
      " 37%|███▋      | 1997/5351 [00:13<00:21, 154.73it/s]"
     ]
    },
    {
     "name": "stdout",
     "output_type": "stream",
     "text": [
      "energyvibration_1107_librivox_64kb_mp3_text.txt\n",
      "underground_city_1002_librivox_64kb_mp3_text.txt\n",
      "sex_avoided_subjects_discussed_in_plain_english_1309_librivox_64kb_mp3_text.txt\n",
      "big_bow_ap_librivox_64kb_mp3_text.txt\n",
      "oakdale_affair_rs_librivox_64kb_mp3_text.txt\n",
      "brand_of_silence_0910_librivox_64kb_mp3_text.txt\n",
      "katy_school_librivox_64kb_mp3_text.txt\n",
      "circular_staircase1_librivox_64kb_mp3_text.txt\n",
      "dawn_ohara_lah_librivox_64kb_mp3_text.txt\n",
      "idiot_1012_librivox_64kb_mp3_text.txt\n",
      "oldfashionedgirl_0810_64kb_mp3_text.txt\n",
      "johnbarleycorn_pk_64kb_mp3_text.txt\n",
      "three_imposters_to_librivox_64kb_mp3_text.txt\n",
      "zauberlinda_the_wise_witch_1411_librivox_64kb_mp3_text.txt\n",
      "recollections_of_old_liverpool_1710_librivox_64kb_mp3_text.txt\n",
      "analects_confucius_1303_librivox_64kb_mp3_text.txt\n",
      "wuthering_heights_rg_librivox_64kb_mp3_text.txt\n",
      "hume_history_england_1b_1212_librivox_64kb_mp3_text.txt\n",
      "allthesethingsadded_1405_librivox_64kb_mp3_text.txt\n",
      "crime_and_punishment_0902_librivox_64kb_mp3_text.txt\n",
      "onlyaghost_1311_librivox_64kb_mp3_text.txt\n",
      "steep_trails_10-02_librivox_64kb_mp3_text.txt\n",
      "the_mermaid_1404_librivox_64kb_mp3_text.txt\n",
      "uncle_toms_cabin_librivox_64kb_mp3_text.txt\n",
      "macdermotsofballycloran_1507_librivox_64kb_mp3_text.txt\n",
      "vagabonding_down_andes_1711_librivox_64kb_mp3_text.txt\n"
     ]
    },
    {
     "name": "stderr",
     "output_type": "stream",
     "text": [
      " 38%|███▊      | 2033/5351 [00:14<00:22, 146.29it/s]"
     ]
    },
    {
     "name": "stdout",
     "output_type": "stream",
     "text": [
      "ongeneration_1203_librivox_64kb_mp3_text.txt\n",
      "speaking_voice_rg_librivox_64kb_mp3_text.txt\n",
      "narrative_expedition_botanybay_1005_librivox_64kb_mp3_text.txt\n",
      "crime_does_not_pay_amb_1607_librivox_64kb_mp3_text.txt\n",
      "peoplelikethat_1007_librivox_64kb_mp3_text.txt\n",
      "man_and_wife_1507_librivox_64kb_mp3_text.txt\n",
      "door_through_space_0908_64kb_mp3_text.txt\n",
      "poison_belt_0812_librivox_64kb_mp3_text.txt\n",
      "peregrine_pickle_2_1909_librivox_64kb_mp3_text.txt\n",
      "essays_political_economy_librivox_64kb_mp3_text.txt\n",
      "childrensclassics_1501_librivox_64kb_mp3_text.txt\n",
      "discourses_biological_geological_1604_librivox_64kb_mp3_text.txt\n",
      "field_selections_librivox_64kb_mp3_text.txt\n",
      "ballads_losthaven_1004_librivox_64kb_mp3_text.txt\n",
      "richardIII_cb_librivox_64kb_mp3_text.txt\n",
      "onthetrailofthespacepirates_1503_librivox_64kb_mp3_text.txt\n",
      "indiawharf_1407.poem_librivox_64kb_mp3_text.txt\n",
      "importanceofbeingearnest_1311_librivox_64kb_mp3_text.txt\n",
      "worlds_best_literature3_1208_librivox_64kb_mp3_text.txt\n",
      "recollections_melbourne_victoria_lb_librivox._64kb_mp3_text.txt\n",
      "ruthfieldingbriarwood_1309_librivox_64kb_mp3_text.txt\n",
      "world_set_free_1110_librivox_64kb_mp3_text.txt\n",
      "a_dozen_ways_of_love_1411_librivox_64kb_mp3_text.txt\n",
      "high_adventure_mv_0810_librivox_64kb_mp3_text.txt\n",
      "gunsofshiloh_1112_librivox_64kb_mp3_text.txt\n",
      "outcast_of_islands_1210_librivox_64kb_mp3_text.txt\n",
      "kfactor_pc_librivox_64kb_mp3_text.txt\n",
      "untroubled_mind_cb_librivox_64kb_mp3_text.txt\n",
      "conventdays_ms_librivox_64kb_mp3_text.txt\n",
      "mollymakebelieve_1112_librivox_64kb_mp3_text.txt\n",
      "20000_leagues_under_the_seas_librivox_64kb_mp3_text.txt\n",
      "rebels_red_planet_0904_librivox_64kb_mp3_text.txt\n"
     ]
    },
    {
     "name": "stderr",
     "output_type": "stream",
     "text": [
      " 39%|███▊      | 2070/5351 [00:14<00:20, 163.69it/s]"
     ]
    },
    {
     "name": "stdout",
     "output_type": "stream",
     "text": [
      "mystery_geneva_1209_librivox_64kb_mp3_text.txt\n",
      "dawnofall_1310_librivox_64kb_mp3_text.txt\n",
      "theislandofmagic_1302_librivox_64kb_mp3_text.txt\n",
      "happydays_1312_librivox_64kb_mp3_text.txt\n",
      "coming_fairies_0616_64kb_mp3_text.txt\n",
      "magic_fantastic_comedy_1405_librivox_64kb_mp3_text.txt\n",
      "a_womans_journey_round_the_world_1406_librivox_64kb_mp3_text.txt\n",
      "robinson_crusoe_anew_for_children_librivox_64kb_mp3_text.txt\n",
      "hannibal_1004_librivox_64kb_mp3_text.txt\n",
      "rasselas_prince_abyssinia_0909_librivox_64kb_mp3_text.txt\n",
      "winter_stars_1412.poem_librivox_64kb_mp3_text.txt\n",
      "canadas_hundred_days_3_librivox_64kb_mp3_text.txt\n",
      "cry_indianwife_1202_librivox_64kb_mp3_text.txt\n",
      "house_whiteshadows_1310_librivox_64kb_mp3_text.txt\n",
      "buster_bear_jl_librivox2_64kb_mp3_text.txt\n",
      "intoxicated_ghost_1502_librivox_64kb_mp3_text.txt\n",
      "secret_passage_0808_librivox_64kb_mp3_text.txt\n",
      "peeps_ancient_egypt_0808_librivox_64kb_mp3_text.txt\n",
      "florentinetragedy_courtisane_0909_64kb_mp3_text.txt\n",
      "veraorthenihilists_1304_librivox_64kb_mp3_text.txt\n",
      "therewillcome_soft_rains_1005_librivox_64kb_mp3_text.txt\n",
      "thefirstchristmastree_1312_librivox_64kb_mp3_text.txt\n",
      "our_little_irish_cousin_1309_librivox_64kb_mp3_text.txt\n",
      "poems_benet_bn_librivox_64kb_mp3_text.txt\n",
      "this_side_paradise_librivox_64kb_mp3_text.txt\n",
      "joseph_brant_0904_librivox_64kb_mp3_text.txt\n",
      "golden_lion_granpere_1208_librivox_64kb_mp3_text.txt\n",
      "last_trail_mv_0811_librivox_64kb_mp3_text.txt\n",
      "portrait_of_a_lady_1501_librivox_64kb_mp3_text.txt\n",
      "ebenholden_1005_librivox_64kb_mp3_text.txt\n",
      "cardtrick_1403_librivox_64kb_mp3_text.txt\n",
      "tonobungay_1112_librivox_64kb_mp3_text.txt\n",
      "wheels_of_chance_0908_librivox_64kb_mp3_text.txt\n",
      "essay_humaneunderstanding_1401_librivox_64kb_mp3_text.txt\n",
      "royal_children_english_history_0910_librivox_64kb_mp3_text.txt\n",
      "prisoner_of_zenda_librivox_64kb_mp3_text.txt\n",
      "in_the_closed_room_1012_librivox_64kb_mp3_text.txt\n",
      "perfectbehavior_1107_librivox_64kb_mp3_text.txt\n",
      "the_wheel_of_time_1311_librivox_64kb_mp3_text.txt\n",
      "dickinson_poems_bm_librivox_64kb_mp3_text.txt\n"
     ]
    },
    {
     "name": "stderr",
     "output_type": "stream",
     "text": [
      " 39%|███▉      | 2087/5351 [00:14<00:20, 160.81it/s]"
     ]
    },
    {
     "name": "stdout",
     "output_type": "stream",
     "text": [
      "can_such_things_be_1205_librivox_64kb_mp3_text.txt\n",
      "daisy_miller_dramatic_reading_1308_librivox_64kb_mp3_text.txt\n",
      "cobb_anatomy_librivox_64kb_mp3_text.txt\n",
      "north_and_south2_0711_librivox_64kb_mp3_text.txt\n",
      "brood_dark_moon_1211_librivox_64kb_mp3_text.txt\n",
      "warble_lilac_time_0804_librivox_64kb_mp3_text.txt\n",
      "wanderings_oisin_1001_librivox_64kb_mp3_text.txt\n",
      "chronicle_montcalm_0805_librivox_64kb_mp3_text.txt\n",
      "story_of_a_common_soldier_sa_librivox_64kb_mp3_text.txt\n",
      "enchanted_barn_gm_librivox_64kb_mp3_text.txt\n",
      "summatheologica06_1507_librivox_64kb_mp3_text.txt\n",
      "mysterious_stranger_1206_librivox_64kb_mp3_text.txt\n",
      "gargantuapantagruel2_1308_librivox_64kb_mp3_text.txt\n",
      "thuvia_0901_librivox_64kb_mp3_text.txt\n",
      "greek_view_life_mg_librivox_64kb_mp3_text.txt\n",
      "facing_the_flag_1006_librivox_64kb_mp3_text.txt\n",
      "democracy_nc_1106_librivox_64kb_mp3_text.txt\n",
      "jcrow_garden_librivox_64kb_mp3_text.txt\n",
      "maezli_dw_librivox_64kb_mp3_text.txt\n",
      "poor_miss_finch_sg_librivox_64kb_mp3_text.txt\n",
      "clotel_1101_librivox_64kb_mp3_text.txt\n",
      "rover_1305_librivox_64kb_mp3_text.txt\n",
      "war_and_peace_02_0801_librivox_64kb_mp3_text.txt\n"
     ]
    },
    {
     "name": "stderr",
     "output_type": "stream",
     "text": [
      " 40%|███▉      | 2119/5351 [00:14<00:23, 135.03it/s]"
     ]
    },
    {
     "name": "stdout",
     "output_type": "stream",
     "text": [
      "ngm01_2_1209_librivox_64kb_mp3_text.txt\n",
      "confession_1107_librivox_64kb_mp3_text.txt\n",
      "mental_efficiency_rg_librivox_64kb_mp3_text.txt\n",
      "daffodil_mystery_0802_librivox_64kb_mp3_text.txt\n",
      "bunyancharactersvol2_1506_librivox_64kb_mp3_text.txt\n",
      "aesop_fables_volume_three_librivox_64kb_mp3_text.txt\n",
      "internationalshortstories_2_1405_librivox_64kb_mp3_text.txt\n",
      "cricket_hearth_rg_librivox_64kb_mp3_text.txt\n",
      "famous_men_greece_0805_librivox_64kb_mp3_text.txt\n",
      "davyandthegoblin_1309_librivox_64kb_mp3_text.txt\n",
      "anatomy_melancholy_v2_1102_librivox_64kb_mp3_text.txt\n",
      "merton_of_the_movies_me_librivox_64kb_mp3_text.txt\n",
      "ayesha_return_she_0805_librivox_64kb_mp3_text.txt\n",
      "dream_within_dream_librivox_64kb_mp3_text.txt\n",
      "notes_from_the_underground_64kb_mp3_text.txt\n",
      "withumor_vol8_1111_librivox_64kb_mp3_text.txt\n",
      "short_hst_us_al_librivox_64kb_mp3_text.txt\n",
      "gamblersworld_pc_librivox_64kb_mp3_text.txt\n",
      "zanoni_1111_librivox_64kb_mp3_text.txt\n",
      "no_thoroughfare_librivox_64kb_mp3_text.txt\n",
      "worlds_lumber_rg_librivox_64kb_mp3_text.txt\n",
      "jesus_nazareth_1009_librivox_64kb_mp3_text.txt\n",
      "chemical_history_candle_ava_librivox_64kb_mp3_text.txt\n",
      "mince_pie_1211_librivox_64kb_mp3_text.txt\n",
      "little_colonel_1003_librivox_64kb_mp3_text.txt\n",
      "discovery_future_dw_1404_librivox_64kb_mp3_text.txt\n",
      "coloredcadet_jw_librivox_64kb_mp3_text.txt\n",
      "magic_skin_jec_librivox_64kb_mp3_text.txt\n",
      "sturdy_oak_1112_librivox_64kb_mp3_text.txt\n"
     ]
    },
    {
     "name": "stderr",
     "output_type": "stream",
     "text": [
      " 40%|███▉      | 2133/5351 [00:14<00:23, 134.58it/s]"
     ]
    },
    {
     "name": "stdout",
     "output_type": "stream",
     "text": [
      "innocentsabroad_1407_librivox_64kb_mp3_text.txt\n",
      "modernutopia_1207_librivox_64kb_mp3_text.txt\n",
      "the_house_with_the_green_shutters_1611_librivox_64kb_mp3_text.txt\n",
      "the_young_carthaginian_1402_librivox_64kb_mp3_text.txt\n",
      "bush_life_australia_librivox_64kb_mp3_text.txt\n",
      "mardi_vol2_jkw_librivox_64kb_mp3_text.txt\n",
      "soul_of_man_mg_librivox_64kb_mp3_text.txt\n",
      "unwise_child_1401_librivox_64kb_mp3_text.txt\n",
      "nicholasnickleby_1107_librivox_64kb_mp3_text.txt\n",
      "thegame_tc_librivox_64kb_mp3_text.txt\n",
      "ngm01_3_1302_librivox_64kb_mp3_text.txt\n",
      "cheesecurd_1209.poem_librivox_64kb_mp3_text.txt\n",
      "princeandbetty_dwj_librivox_64kb_mp3_text.txt\n",
      "touchofsun_1212_librivox_64kb_mp3_text.txt\n",
      "lost_continent_0904_librivox_64kb_mp3_text.txt\n",
      "trial_callista_blake_1208_librivox_64kb_mp3_text.txt\n",
      "damsel_in_distress_0907_librivox_64kb_mp3_text.txt\n",
      "history_peloponnesian_war_librivox_64kb_mp3_text.txt\n",
      "aboyswill_1010_librivox_64kb_mp3_text.txt\n"
     ]
    },
    {
     "name": "stderr",
     "output_type": "stream",
     "text": [
      " 40%|████      | 2145/5351 [00:17<00:25, 124.10it/s]\n"
     ]
    },
    {
     "ename": "KeyboardInterrupt",
     "evalue": "",
     "output_type": "error",
     "traceback": [
      "\u001B[0;31m---------------------------------------------------------------------------\u001B[0m",
      "\u001B[0;31mKeyboardInterrupt\u001B[0m                         Traceback (most recent call last)",
      "\u001B[0;32m/tmp/ipykernel_212820/2326991007.py\u001B[0m in \u001B[0;36m<module>\u001B[0;34m\u001B[0m\n\u001B[1;32m      3\u001B[0m     \u001B[0;32mtry\u001B[0m\u001B[0;34m:\u001B[0m\u001B[0;34m\u001B[0m\u001B[0;34m\u001B[0m\u001B[0m\n\u001B[1;32m      4\u001B[0m         \u001B[0;32mwith\u001B[0m \u001B[0mopen\u001B[0m\u001B[0;34m(\u001B[0m\u001B[0mtext_path\u001B[0m\u001B[0;34m)\u001B[0m \u001B[0;32mas\u001B[0m \u001B[0mtxtfile\u001B[0m\u001B[0;34m:\u001B[0m\u001B[0;34m\u001B[0m\u001B[0;34m\u001B[0m\u001B[0m\n\u001B[0;32m----> 5\u001B[0;31m             \u001B[0mdataset_char_set\u001B[0m \u001B[0;34m=\u001B[0m \u001B[0mset\u001B[0m\u001B[0;34m(\u001B[0m\u001B[0mtxtfile\u001B[0m\u001B[0;34m.\u001B[0m\u001B[0mread\u001B[0m\u001B[0;34m(\u001B[0m\u001B[0;34m)\u001B[0m\u001B[0;34m)\u001B[0m\u001B[0;34m\u001B[0m\u001B[0;34m\u001B[0m\u001B[0m\n\u001B[0m\u001B[1;32m      6\u001B[0m             \u001B[0;32mfor\u001B[0m \u001B[0mchinese_c\u001B[0m \u001B[0;32min\u001B[0m \u001B[0mchinese_chars\u001B[0m\u001B[0;34m:\u001B[0m\u001B[0;34m\u001B[0m\u001B[0;34m\u001B[0m\u001B[0m\n\u001B[1;32m      7\u001B[0m                 \u001B[0;32mif\u001B[0m \u001B[0mchinese_c\u001B[0m \u001B[0;32min\u001B[0m \u001B[0mdataset_char_set\u001B[0m\u001B[0;34m:\u001B[0m\u001B[0;34m\u001B[0m\u001B[0;34m\u001B[0m\u001B[0m\n",
      "\u001B[0;31mKeyboardInterrupt\u001B[0m: "
     ]
    }
   ],
   "source": [
    "for text_path in tqdm(list(dataset_path.glob(\"**/*.txt\"))):\n",
    "    test_path : Path\n",
    "    try:\n",
    "        with open(text_path) as txtfile:\n",
    "            dataset_char_set = set(txtfile.read())\n",
    "            for chinese_c in chinese_chars:\n",
    "                if chinese_c in dataset_char_set:\n",
    "                    raise ValueError\n",
    "    except ValueError:\n",
    "        print(text_path.name)"
   ],
   "metadata": {
    "collapsed": false,
    "pycharm": {
     "name": "#%%\n"
    }
   }
  }
 ],
 "metadata": {
  "kernelspec": {
   "display_name": "Python 3",
   "language": "python",
   "name": "python3"
  },
  "language_info": {
   "codemirror_mode": {
    "name": "ipython",
    "version": 2
   },
   "file_extension": ".py",
   "mimetype": "text/x-python",
   "name": "python",
   "nbconvert_exporter": "python",
   "pygments_lexer": "ipython2",
   "version": "2.7.6"
  }
 },
 "nbformat": 4,
 "nbformat_minor": 0
}