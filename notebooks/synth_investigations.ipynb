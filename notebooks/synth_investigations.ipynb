{
 "cells": [
  {
   "cell_type": "code",
   "execution_count": 2,
   "metadata": {
    "collapsed": true
   },
   "outputs": [],
   "source": [
    "from pathlib import Path\n",
    "\n",
    "from paraphone.tasks.phonemize import PhonemizedWordsCSV\n",
    "from paraphone.tasks.synth import GoogleSpeakSynthesizer, VOICES\n",
    "\n",
    "synth = GoogleSpeakSynthesizer(\"fr\", VOICES[\"fr\"][0],\n",
    "                               Path(\"../morphologicalstudy-1224861510d4.json\"))\n",
    "\n",
    "words = {\"jeune\", \"jeuner\", \"os\", \"osseux\", \"oeuf\", \"euphémisme\", \"bonne\",\n",
    "         \"beaune\", \"tomme\", \"tome\", \"taume\", \"comme\", \"côme\", \"gomme\",\n",
    "         \"somme\", \"chaume\", \"nonne\", \"môme\", \"bol\", \"tôle\", \"col\", \"folle\",\n",
    "         \"vol\", \"geole\", \"molle\", \"grolle\"}\n",
    "pho_word_csv = PhonemizedWordsCSV(Path(\"../workspaces/large_fr/phonemized/all.csv\"))\n",
    "pho_dict = pho_word_csv.to_dict()\n",
    "tested_words = {\n",
    "    word: \" \".join(pho_dict[word]) for word in words if word in pho_dict\n",
    "}\n",
    "# TODO:"
   ]
  },
  {
   "cell_type": "code",
   "execution_count": 6,
   "outputs": [],
   "source": [
    "pho_ssml_template = \"\"\"\n",
    "<speak>\n",
    "{word}\n",
    "<break time=\"1s\"/>\n",
    "<phoneme alphabet=\"ipa\" ph=\"{phonemes}\"></phoneme>\n",
    "</speak>\n",
    "\"\"\""
   ],
   "metadata": {
    "collapsed": false,
    "pycharm": {
     "name": "#%%\n"
    }
   }
  },
  {
   "cell_type": "code",
   "execution_count": 6,
   "outputs": [],
   "source": [
    "OUTPUT_DIR = Path(\"/tmp/synth_tests/\")\n",
    "OUTPUT_DIR.mkdir(parents=True, exist_ok=True)"
   ],
   "metadata": {
    "collapsed": false,
    "pycharm": {
     "name": "#%%\n"
    }
   }
  },
  {
   "cell_type": "code",
   "execution_count": 4,
   "outputs": [],
   "source": [
    "import nest_asyncio\n",
    "\n",
    "nest_asyncio.apply()"
   ],
   "metadata": {
    "collapsed": false,
    "pycharm": {
     "name": "#%%\n"
    }
   }
  },
  {
   "cell_type": "code",
   "execution_count": 9,
   "outputs": [],
   "source": [
    "from asyncio import get_event_loop\n",
    "\n",
    "loop = get_event_loop()\n",
    "for word, phonemes in tested_words.items():\n",
    "    task = synth.synth_ssml(pho_ssml_template.format(word=word, phonemes=phonemes.replace(\" \", \"\")))\n",
    "    audio_output = loop.run_until_complete(task)\n",
    "    with open(OUTPUT_DIR / Path(f\"{word}.ogg\"), \"wb\") as audio_file:\n",
    "        audio_file.write(audio_output)"
   ],
   "metadata": {
    "collapsed": false,
    "pycharm": {
     "name": "#%%\n"
    }
   }
  },
  {
   "cell_type": "code",
   "execution_count": 11,
   "outputs": [],
   "source": [
    "from asyncio import get_event_loop\n",
    "\n",
    "pho_ssml_template = \"\"\"\n",
    "<speak>\n",
    "<phoneme alphabet=\"ipa\" ph=\"{phonemes}\"></phoneme>\n",
    "</speak>\n",
    "\"\"\"\n",
    "\n",
    "text_ssml_template = \"\"\"\n",
    "<speak>\n",
    "{word}\n",
    "</speak>\n",
    "\"\"\"\n",
    "\n",
    "tested_words = {\"chien\": \"ʃ j ɛ̃\",\n",
    "                \"lapin\": \"l a p ɛ̃\",\n",
    "                \"escargot\": \"ɛ s k a ʁ ɡ o\",\n",
    "                \"pomme\": \"p ɔ m\",\n",
    "                \"poire\": \"p w a ʁ\",\n",
    "                \"devenir\": \"d ə v ə n i ʁ\"}\n",
    "\n",
    "loop = get_event_loop()\n",
    "for word, phonemes in tested_words.items():\n",
    "    task_pho = synth.synth_ssml(pho_ssml_template.format(word=word, phonemes=phonemes.replace(\" \", \"\")))\n",
    "    audio_output = loop.run_until_complete(task_pho)\n",
    "    with open(OUTPUT_DIR / Path(f\"{word}_pho.ogg\"), \"wb\") as audio_file:\n",
    "        audio_file.write(audio_output)\n",
    "\n",
    "    task_text = synth.synth_ssml(text_ssml_template.format(word=word))\n",
    "    audio_output = loop.run_until_complete(task_text)\n",
    "    with open(OUTPUT_DIR / Path(f\"{word}_txt.ogg\"), \"wb\") as audio_file:\n",
    "        audio_file.write(audio_output)\n"
   ],
   "metadata": {
    "collapsed": false,
    "pycharm": {
     "name": "#%%\n"
    }
   }
  },
  {
   "cell_type": "code",
   "execution_count": 15,
   "outputs": [
    {
     "name": "stdout",
     "output_type": "stream",
     "text": [
      "chien:  3929395009052\n",
      "lapin:  5480830304602\n",
      "escargot:  5812454365175\n",
      "pomme:  4941393474969\n",
      "poire:  4395417474030\n",
      "devenir:  7814065350023\n"
     ]
    }
   ],
   "source": [
    "from pydub import AudioSegment\n",
    "import numpy as np\n",
    "\n",
    "for word in tested_words:\n",
    "    array_text = np.array(AudioSegment.from_ogg(OUTPUT_DIR / Path(f\"{word}_txt.ogg\")).get_array_of_samples())\n",
    "    array_pho = np.array(AudioSegment.from_ogg(OUTPUT_DIR / Path(f\"{word}_pho.ogg\")).get_array_of_samples())\n",
    "    min_len = min(len(array_pho), len(array_text))\n",
    "    print(f\"{word}: \", np.abs(array_text[:min_len] - array_pho[:min_len]).sum())"
   ],
   "metadata": {
    "collapsed": false,
    "pycharm": {
     "name": "#%%\n"
    }
   }
  },
  {
   "cell_type": "code",
   "execution_count": 18,
   "outputs": [
    {
     "data": {
      "text/plain": "array.array"
     },
     "execution_count": 18,
     "metadata": {},
     "output_type": "execute_result"
    }
   ],
   "source": [],
   "metadata": {
    "collapsed": false,
    "pycharm": {
     "name": "#%%\n"
    }
   }
  }
 ],
 "metadata": {
  "kernelspec": {
   "display_name": "Python 3",
   "language": "python",
   "name": "python3"
  },
  "language_info": {
   "codemirror_mode": {
    "name": "ipython",
    "version": 2
   },
   "file_extension": ".py",
   "mimetype": "text/x-python",
   "name": "python",
   "nbconvert_exporter": "python",
   "pygments_lexer": "ipython2",
   "version": "2.7.6"
  }
 },
 "nbformat": 4,
 "nbformat_minor": 0
}