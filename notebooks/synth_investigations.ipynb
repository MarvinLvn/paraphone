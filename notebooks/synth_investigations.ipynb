{
 "cells": [
  {
   "cell_type": "code",
   "execution_count": 1,
   "metadata": {
    "collapsed": true
   },
   "outputs": [],
   "source": [
    "from pathlib import Path\n",
    "from paraphone.tasks.synth import GoogleSpeakSynthesizer, VOICES\n",
    "\n",
    "synth = GoogleSpeakSynthesizer(\"fr\", VOICES[\"fr\"][0],\n",
    "                               Path(\"../morphologicalstudy-1224861510d4.json\"))\n",
    "\n",
    "tested_words = {\n",
    "    \"paul\" : \"p ɔ l\",\n",
    "    \"pôle\": \"p o l\",\n",
    "    \"pomme\": \"p ɔ m\",\n",
    "    \"paume\": \"p o m\",\n",
    "}\n",
    "# TODO:  jeune, jeuner, os, osseux, oeuf, euphémisme, bonne, beaune, tomme, tome, taume, comme, côme, gomme, somme, chaume, nonne, môme, bol, tôle, col, folle, vol, geole, molle, grolle"
   ]
  },
  {
   "cell_type": "code",
   "execution_count": null,
   "outputs": [],
   "source": [
    "ssml_template = \"\"\"\n",
    "<speak>\n",
    "{word}\n",
    "<break time=\"1s\"/>\n",
    "<phoneme alphabet=\"ipa\" ph=\"{phonemes}\"></phoneme>\n",
    "</speak>\n",
    "\"\"\""
   ],
   "metadata": {
    "collapsed": false,
    "pycharm": {
     "name": "#%%\n"
    }
   }
  },
  {
   "cell_type": "code",
   "execution_count": 2,
   "outputs": [],
   "source": [
    "OUTPUT_DIR = Path(\"/tmp/synth_tests/\")\n",
    "OUTPUT_DIR.mkdir(parents=True, exist_ok=True)"
   ],
   "metadata": {
    "collapsed": false,
    "pycharm": {
     "name": "#%%\n"
    }
   }
  },
  {
   "cell_type": "code",
   "execution_count": 3,
   "outputs": [],
   "source": [
    "import nest_asyncio\n",
    "nest_asyncio.apply()"
   ],
   "metadata": {
    "collapsed": false,
    "pycharm": {
     "name": "#%%\n"
    }
   }
  },
  {
   "cell_type": "code",
   "execution_count": 4,
   "outputs": [],
   "source": [
    "from asyncio import get_event_loop, ensure_future\n",
    "loop = get_event_loop()\n",
    "for word, phonemes in tested_words.items():\n",
    "    task = synth.synth_ssml(ssml_template.format(word=word, phonemes=phonemes.replace(\" \", \"\")))\n",
    "    audio_output = loop.run_until_complete(task)\n",
    "    with open(OUTPUT_DIR / Path(f\"{word}.ogg\"), \"wb\") as audio_file:\n",
    "        audio_file.write(audio_output)\n"
   ],
   "metadata": {
    "collapsed": false,
    "pycharm": {
     "name": "#%%\n"
    }
   }
  }
 ],
 "metadata": {
  "kernelspec": {
   "display_name": "Python 3",
   "language": "python",
   "name": "python3"
  },
  "language_info": {
   "codemirror_mode": {
    "name": "ipython",
    "version": 2
   },
   "file_extension": ".py",
   "mimetype": "text/x-python",
   "name": "python",
   "nbconvert_exporter": "python",
   "pygments_lexer": "ipython2",
   "version": "2.7.6"
  }
 },
 "nbformat": 4,
 "nbformat_minor": 0
}