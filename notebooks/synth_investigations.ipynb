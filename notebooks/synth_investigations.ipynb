{
 "cells": [
  {
   "cell_type": "code",
   "execution_count": 5,
   "metadata": {
    "collapsed": true
   },
   "outputs": [],
   "source": [
    "from pathlib import Path\n",
    "from paraphone.tasks.synth import GoogleSpeakSynthesizer, VOICES\n",
    "from paraphone.tasks.phonemize import PhonemizedWordsCSV\n",
    "\n",
    "synth = GoogleSpeakSynthesizer(\"fr\", VOICES[\"fr\"][0],\n",
    "                               Path(\"../morphologicalstudy-1224861510d4.json\"))\n",
    "\n",
    "words = {\"jeune\", \"jeuner\", \"os\", \"osseux\", \"oeuf\", \"euphémisme\", \"bonne\",\n",
    "         \"beaune\", \"tomme\", \"tome\", \"taume\", \"comme\", \"côme\", \"gomme\",\n",
    "         \"somme\", \"chaume\", \"nonne\", \"môme\", \"bol\", \"tôle\", \"col\", \"folle\",\n",
    "         \"vol\", \"geole\", \"molle\", \"grolle\"}\n",
    "pho_word_csv = PhonemizedWordsCSV(Path(\"../workspaces/large_fr/phonemized/all.csv\"))\n",
    "pho_dict = pho_word_csv.to_dict()\n",
    "tested_words = {\n",
    "    word: \" \".join(pho_dict[word]) for word in words if word in pho_dict\n",
    "}\n",
    "# TODO:"
   ]
  },
  {
   "cell_type": "code",
   "execution_count": 6,
   "outputs": [],
   "source": [
    "ssml_template = \"\"\"\n",
    "<speak>\n",
    "{word}\n",
    "<break time=\"1s\"/>\n",
    "<phoneme alphabet=\"ipa\" ph=\"{phonemes}\"></phoneme>\n",
    "</speak>\n",
    "\"\"\""
   ],
   "metadata": {
    "collapsed": false,
    "pycharm": {
     "name": "#%%\n"
    }
   }
  },
  {
   "cell_type": "code",
   "execution_count": 7,
   "outputs": [],
   "source": [
    "OUTPUT_DIR = Path(\"/tmp/synth_tests/\")\n",
    "OUTPUT_DIR.mkdir(parents=True, exist_ok=True)"
   ],
   "metadata": {
    "collapsed": false,
    "pycharm": {
     "name": "#%%\n"
    }
   }
  },
  {
   "cell_type": "code",
   "execution_count": 8,
   "outputs": [],
   "source": [
    "import nest_asyncio\n",
    "nest_asyncio.apply()"
   ],
   "metadata": {
    "collapsed": false,
    "pycharm": {
     "name": "#%%\n"
    }
   }
  },
  {
   "cell_type": "code",
   "execution_count": 9,
   "outputs": [],
   "source": [
    "from asyncio import get_event_loop, ensure_future\n",
    "loop = get_event_loop()\n",
    "for word, phonemes in tested_words.items():\n",
    "    task = synth.synth_ssml(ssml_template.format(word=word, phonemes=phonemes.replace(\" \", \"\")))\n",
    "    audio_output = loop.run_until_complete(task)\n",
    "    with open(OUTPUT_DIR / Path(f\"{word}.ogg\"), \"wb\") as audio_file:\n",
    "        audio_file.write(audio_output)\n"
   ],
   "metadata": {
    "collapsed": false,
    "pycharm": {
     "name": "#%%\n"
    }
   }
  }
 ],
 "metadata": {
  "kernelspec": {
   "display_name": "Python 3",
   "language": "python",
   "name": "python3"
  },
  "language_info": {
   "codemirror_mode": {
    "name": "ipython",
    "version": 2
   },
   "file_extension": ".py",
   "mimetype": "text/x-python",
   "name": "python",
   "nbconvert_exporter": "python",
   "pygments_lexer": "ipython2",
   "version": "2.7.6"
  }
 },
 "nbformat": 4,
 "nbformat_minor": 0
}