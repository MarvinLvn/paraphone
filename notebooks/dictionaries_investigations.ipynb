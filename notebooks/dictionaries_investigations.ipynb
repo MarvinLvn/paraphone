{
 "cells": [
  {
   "cell_type": "code",
   "execution_count": 4,
   "metadata": {
    "collapsed": true
   },
   "outputs": [],
   "source": [
    "import pandas as pd"
   ]
  },
  {
   "cell_type": "code",
   "execution_count": 5,
   "outputs": [],
   "source": [
    "lexique_df = pd.read_csv(\"../paraphone/paraphone/data/dictionaries/lexique_383.tsv\", delimiter=\"\\t\")"
   ],
   "metadata": {
    "collapsed": false,
    "pycharm": {
     "name": "#%%\n"
    }
   }
  },
  {
   "cell_type": "code",
   "execution_count": 6,
   "outputs": [],
   "source": [
    "short_df = lexique_df[[\"ortho\", \"phon\", \"syll\"]]"
   ],
   "metadata": {
    "collapsed": false,
    "pycharm": {
     "name": "#%%\n"
    }
   }
  },
  {
   "cell_type": "code",
   "execution_count": 9,
   "outputs": [
    {
     "data": {
      "text/plain": "{'1',\n '2',\n '5',\n '8',\n '9',\n '@',\n 'E',\n 'G',\n 'N',\n 'O',\n 'R',\n 'S',\n 'Z',\n 'a',\n 'b',\n 'd',\n 'e',\n 'f',\n 'g',\n 'i',\n 'j',\n 'k',\n 'l',\n 'm',\n 'n',\n 'o',\n 'p',\n 's',\n 't',\n 'u',\n 'v',\n 'w',\n 'x',\n 'y',\n 'z',\n '§',\n '°'}"
     },
     "execution_count": 9,
     "metadata": {},
     "output_type": "execute_result"
    }
   ],
   "source": [
    "phonemes = set()\n",
    "for i, row in short_df.iterrows():\n",
    "    phonemes.update(set(row[\"phon\"]))\n",
    "phonemes"
   ],
   "metadata": {
    "collapsed": false,
    "pycharm": {
     "name": "#%%\n"
    }
   }
  },
  {
   "cell_type": "code",
   "execution_count": 10,
   "outputs": [
    {
     "data": {
      "text/plain": "142694"
     },
     "execution_count": 10,
     "metadata": {},
     "output_type": "execute_result"
    }
   ],
   "source": [
    "len(lexique_df)"
   ],
   "metadata": {
    "collapsed": false,
    "pycharm": {
     "name": "#%%\n"
    }
   }
  },
  {
   "cell_type": "code",
   "execution_count": 13,
   "outputs": [
    {
     "data": {
      "text/plain": "{'2', '5', '9', '@', 'E', 'O', 'a', 'e', 'i', 'o', 'y', '§'}"
     },
     "execution_count": 13,
     "metadata": {},
     "output_type": "execute_result"
    }
   ],
   "source": [
    "import  re\n",
    "regex = re.compile(\"8(.)\")\n",
    "with_8 = set()\n",
    "for i, row in short_df.iterrows():\n",
    "    phones: str = row[\"phon\"]\n",
    "    with_8.update(set(regex.findall(phones)))\n",
    "with_8"
   ],
   "metadata": {
    "collapsed": false,
    "pycharm": {
     "name": "#%%\n"
    }
   }
  },
  {
   "cell_type": "code",
   "execution_count": null,
   "outputs": [],
   "source": [
    "# Investigations for the CELEX dict"
   ],
   "metadata": {
    "collapsed": false,
    "pycharm": {
     "name": "#%%\n"
    }
   }
  },
  {
   "cell_type": "code",
   "execution_count": 30,
   "outputs": [],
   "source": [
    "import csv\n",
    "all_phonemes_chars = set()\n",
    "all_phonemes = set()\n",
    "with open(\"../paraphone/data/foldings/en/celex.csv\") as celex_fold_file:\n",
    "    reader = csv.DictReader(celex_fold_file, delimiter=\",\")\n",
    "    for row in reader:\n",
    "        phon_celex = row[\"phon_celex\"]\n",
    "        all_phonemes_chars.update(set(phon_celex))\n",
    "        all_phonemes.update(phon_celex.split(\" \"))\n",
    "all_phonemes_chars.remove(\" \")"
   ],
   "metadata": {
    "collapsed": false,
    "pycharm": {
     "name": "#%%\n"
    }
   }
  },
  {
   "cell_type": "code",
   "execution_count": 35,
   "outputs": [
    {
     "data": {
      "text/plain": "{'3',\n ':',\n '@',\n 'A',\n 'D',\n 'E',\n 'I',\n 'N',\n 'O',\n 'Q',\n 'S',\n 'T',\n 'U',\n 'V',\n 'Z',\n 'a',\n 'b',\n 'd',\n 'e',\n 'f',\n 'g',\n 'h',\n 'i',\n 'j',\n 'k',\n 'l',\n 'm',\n 'n',\n 'p',\n 'r',\n 's',\n 't',\n 'u',\n 'v',\n 'w',\n 'x',\n 'z',\n '{',\n '~'}"
     },
     "execution_count": 35,
     "metadata": {},
     "output_type": "execute_result"
    }
   ],
   "source": [
    "all_phonemes_chars"
   ],
   "metadata": {
    "collapsed": false,
    "pycharm": {
     "name": "#%%\n"
    }
   }
  },
  {
   "cell_type": "code",
   "execution_count": 34,
   "outputs": [
    {
     "name": "stderr",
     "output_type": "stream",
     "text": [
      "160595it [00:00, 450926.01it/s]\n"
     ]
    },
    {
     "data": {
      "text/plain": "(160595, 0)"
     },
     "execution_count": 34,
     "metadata": {},
     "output_type": "execute_result"
    }
   ],
   "source": [
    "from tqdm import tqdm\n",
    "import re\n",
    "clx_phon_re = re.compile(r\"\\[(.+)\\]\")\n",
    "\n",
    "rejected_phonemes_char = set()\n",
    "total_count, rejected_count = 0, 0\n",
    "with open(\"../data/epw.cd\") as celex_dic, open(\"../data/rejected.csv\", \"w\") as rej_file:\n",
    "    rej_csv = csv.writer(rej_file, delimiter=\"\\t\")\n",
    "    for row in tqdm(celex_dic):\n",
    "        row = row.strip().split(\"\\\\\")\n",
    "        total_count += 1\n",
    "        re_match = clx_phon_re.findall(row[6])\n",
    "        phonemized_word = \"\".join(re_match)\n",
    "        rejected = set(phonemized_word) - all_phonemes_chars\n",
    "        if rejected:\n",
    "            rejected_count += 1\n",
    "            rejected_phonemes_char.update(rejected)\n",
    "            rej_csv.writerow((row[1], row[6], rejected))\n",
    "\n",
    "total_count, rejected_count"
   ],
   "metadata": {
    "collapsed": false,
    "pycharm": {
     "name": "#%%\n"
    }
   }
  },
  {
   "cell_type": "code",
   "execution_count": 20,
   "outputs": [
    {
     "data": {
      "text/plain": "{'1'}"
     },
     "execution_count": 20,
     "metadata": {},
     "output_type": "execute_result"
    }
   ],
   "source": [
    "set(phonemized_word)"
   ],
   "metadata": {
    "collapsed": false,
    "pycharm": {
     "name": "#%%\n"
    }
   }
  }
 ],
 "metadata": {
  "kernelspec": {
   "display_name": "Python 3",
   "language": "python",
   "name": "python3"
  },
  "language_info": {
   "codemirror_mode": {
    "name": "ipython",
    "version": 2
   },
   "file_extension": ".py",
   "mimetype": "text/x-python",
   "name": "python",
   "nbconvert_exporter": "python",
   "pygments_lexer": "ipython2",
   "version": "2.7.6"
  }
 },
 "nbformat": 4,
 "nbformat_minor": 0
}