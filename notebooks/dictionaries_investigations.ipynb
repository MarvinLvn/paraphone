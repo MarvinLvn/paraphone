{
 "cells": [
  {
   "cell_type": "code",
   "execution_count": 3,
   "metadata": {
    "collapsed": true
   },
   "outputs": [],
   "source": [
    "import pandas as pd"
   ]
  },
  {
   "cell_type": "code",
   "execution_count": 7,
   "outputs": [],
   "source": [
    "lexique_df = pd.read_csv(\"../paraphone/data/dictionaries/lexique_383.tsv\", delimiter=\"\\t\")"
   ],
   "metadata": {
    "collapsed": false,
    "pycharm": {
     "name": "#%%\n"
    }
   }
  },
  {
   "cell_type": "code",
   "execution_count": 8,
   "outputs": [],
   "source": [
    "short_df = lexique_df[[\"ortho\", \"phon\", \"syll\"]]"
   ],
   "metadata": {
    "collapsed": false,
    "pycharm": {
     "name": "#%%\n"
    }
   }
  },
  {
   "cell_type": "code",
   "execution_count": 9,
   "outputs": [
    {
     "data": {
      "text/plain": "{'1',\n '2',\n '5',\n '8',\n '9',\n '@',\n 'E',\n 'G',\n 'N',\n 'O',\n 'R',\n 'S',\n 'Z',\n 'a',\n 'b',\n 'd',\n 'e',\n 'f',\n 'g',\n 'i',\n 'j',\n 'k',\n 'l',\n 'm',\n 'n',\n 'o',\n 'p',\n 's',\n 't',\n 'u',\n 'v',\n 'w',\n 'x',\n 'y',\n 'z',\n '§',\n '°'}"
     },
     "execution_count": 9,
     "metadata": {},
     "output_type": "execute_result"
    }
   ],
   "source": [
    "phonemes = set()\n",
    "for i, row in short_df.iterrows():\n",
    "    phonemes.update(set(row[\"phon\"]))\n",
    "phonemes"
   ],
   "metadata": {
    "collapsed": false,
    "pycharm": {
     "name": "#%%\n"
    }
   }
  },
  {
   "cell_type": "code",
   "execution_count": 11,
   "outputs": [],
   "source": [
    "# finding all words with o/O in lexique\n",
    "o_words = {}\n",
    "for i, row in short_df.iterrows():\n",
    "    if {\"o\", \"O\"} & set(row[\"phon\"]):\n",
    "        o_words[row[\"ortho\"]] = row[\"phon\"]\n",
    "\n",
    "reversed_o_words = {v: k for k, v in o_words.items()}\n",
    "little_o_pho = {word: pho.replace(\"O\", \"o\")\n",
    "                for word, pho in o_words.items()\n",
    "                if pho.replace(\"O\", \"o\") != pho}\n",
    "found_pairs = []\n",
    "for little_o_word, little_o in little_o_pho.items():\n",
    "    if little_o in reversed_o_words:\n",
    "        found_pairs.append((little_o_word, reversed_o_words[little_o]))"
   ],
   "metadata": {
    "collapsed": false,
    "pycharm": {
     "name": "#%%\n"
    }
   }
  },
  {
   "cell_type": "code",
   "execution_count": 19,
   "outputs": [],
   "source": [
    "import csv\n",
    "\n",
    "with open(\"../data/o_pairs_lexique.csv\", \"w\") as pairs_file:\n",
    "    csv_writer = csv.writer(pairs_file, delimiter=\"\\t\")\n",
    "    for little_o, big_o in found_pairs:\n",
    "        csv_writer.writerow((\n",
    "            little_o,\n",
    "            o_words[little_o],\n",
    "            big_o,\n",
    "            o_words[big_o]\n",
    "        ))\n"
   ],
   "metadata": {
    "collapsed": false,
    "pycharm": {
     "name": "#%%\n"
    }
   }
  },
  {
   "cell_type": "code",
   "execution_count": 24,
   "outputs": [],
   "source": [
    "# finding all words with o/O in CMU\n",
    "o_words = {}\n",
    "with open(\"../paraphone/data/dictionaries/cmu_fr.txt\") as cmu_fr:\n",
    "    for row in cmu_fr:\n",
    "        word, *pho = row.strip().split(\" \")\n",
    "        if word.endswith(\")\"):\n",
    "            continue\n",
    "        if {\"au\", \"oo\"} & set(pho):\n",
    "            o_words[word] = \" \".join(pho)\n",
    "\n",
    "reversed_o_words = {v: k for k, v in o_words.items()}\n",
    "little_o_pho = {word: pho.replace(\"oo\", \"au\")\n",
    "                for word, pho in o_words.items()\n",
    "                if pho.replace(\"oo\", \"au\") != pho}\n",
    "found_pairs = []\n",
    "for little_o_word, little_o in little_o_pho.items():\n",
    "    if little_o in reversed_o_words:\n",
    "        found_pairs.append((little_o_word, reversed_o_words[little_o]))"
   ],
   "metadata": {
    "collapsed": false,
    "pycharm": {
     "name": "#%%\n"
    }
   }
  },
  {
   "cell_type": "code",
   "execution_count": 26,
   "outputs": [
    {
     "data": {
      "text/plain": "('abandonner', 'abandonnez')"
     },
     "execution_count": 26,
     "metadata": {},
     "output_type": "execute_result"
    }
   ],
   "source": [],
   "metadata": {
    "collapsed": false,
    "pycharm": {
     "name": "#%%\n"
    }
   }
  },
  {
   "cell_type": "code",
   "execution_count": 27,
   "outputs": [],
   "source": [
    "import csv\n",
    "\n",
    "with open(\"../data/o_pairs_cmu_fr.csv\", \"w\") as pairs_file:\n",
    "    csv_writer = csv.writer(pairs_file, delimiter=\"\\t\")\n",
    "    for little_o, big_o in found_pairs:\n",
    "        csv_writer.writerow((\n",
    "            little_o,\n",
    "            o_words[little_o],\n",
    "            big_o,\n",
    "            o_words[big_o]\n",
    "        ))"
   ],
   "metadata": {
    "collapsed": false,
    "pycharm": {
     "name": "#%%\n"
    }
   }
  },
  {
   "cell_type": "code",
   "execution_count": 13,
   "outputs": [
    {
     "data": {
      "text/plain": "{'2', '5', '9', '@', 'E', 'O', 'a', 'e', 'i', 'o', 'y', '§'}"
     },
     "execution_count": 13,
     "metadata": {},
     "output_type": "execute_result"
    }
   ],
   "source": [
    "import re\n",
    "\n",
    "regex = re.compile(\"8(.)\")\n",
    "with_8 = set()\n",
    "for i, row in short_df.iterrows():\n",
    "    phones: str = row[\"phon\"]\n",
    "    with_8.update(set(regex.findall(phones)))\n",
    "with_8"
   ],
   "metadata": {
    "collapsed": false,
    "pycharm": {
     "name": "#%%\n"
    }
   }
  },
  {
   "cell_type": "code",
   "execution_count": null,
   "outputs": [],
   "source": [
    "# Investigations for the CELEX dict"
   ],
   "metadata": {
    "collapsed": false,
    "pycharm": {
     "name": "#%%\n"
    }
   }
  },
  {
   "cell_type": "code",
   "execution_count": 1,
   "outputs": [],
   "source": [
    "import csv\n",
    "\n",
    "all_phonemes_chars = set()\n",
    "all_phonemes = set()\n",
    "with open(\"../paraphone/data/foldings/en/celex.csv\") as celex_fold_file:\n",
    "    reader = csv.DictReader(celex_fold_file, delimiter=\",\")\n",
    "    for row in reader:\n",
    "        phon_celex = row[\"phon_celex\"]\n",
    "        all_phonemes_chars.update(set(phon_celex))\n",
    "        all_phonemes.update(phon_celex.split(\" \"))\n",
    "all_phonemes_chars.remove(\" \")"
   ],
   "metadata": {
    "collapsed": false,
    "pycharm": {
     "name": "#%%\n"
    }
   }
  },
  {
   "cell_type": "code",
   "execution_count": 2,
   "outputs": [
    {
     "data": {
      "text/plain": "{'3:',\n '@',\n '@U',\n 'A:',\n 'A~:',\n 'D',\n 'E',\n 'I',\n 'I@',\n 'N',\n 'O:',\n 'OI',\n 'O~:',\n 'Q',\n 'S',\n 'T',\n 'U',\n 'U@',\n 'V',\n 'Z',\n 'aI',\n 'aU',\n 'b',\n 'd',\n 'dZ',\n 'eI',\n 'f',\n 'g',\n 'h',\n 'i:',\n 'j',\n 'k',\n 'l',\n 'm',\n 'n',\n 'p',\n 'r',\n 's',\n 't',\n 'tS',\n 'u:',\n 'v',\n 'w',\n 'x',\n 'z',\n '{'}"
     },
     "execution_count": 2,
     "metadata": {},
     "output_type": "execute_result"
    }
   ],
   "source": [
    "all_phonemes"
   ],
   "metadata": {
    "collapsed": false,
    "pycharm": {
     "name": "#%%\n"
    }
   }
  },
  {
   "cell_type": "code",
   "execution_count": 34,
   "outputs": [
    {
     "name": "stderr",
     "output_type": "stream",
     "text": [
      "160595it [00:00, 450926.01it/s]\n"
     ]
    },
    {
     "data": {
      "text/plain": "(160595, 0)"
     },
     "execution_count": 34,
     "metadata": {},
     "output_type": "execute_result"
    }
   ],
   "source": [
    "from tqdm import tqdm\n",
    "import re\n",
    "\n",
    "clx_phon_re = re.compile(r\"\\[(.+)\\]\")\n",
    "\n",
    "rejected_phonemes_char = set()\n",
    "total_count, rejected_count = 0, 0\n",
    "with open(\"../data/celex.txt\") as celex_dic, open(\"../data/rejected.csv\", \"w\") as rej_file:\n",
    "    rej_csv = csv.writer(rej_file, delimiter=\"\\t\")\n",
    "    for row in tqdm(celex_dic):\n",
    "        row = row.strip().split(\"\\\\\")\n",
    "        total_count += 1\n",
    "        re_match = clx_phon_re.findall(row[6])\n",
    "        phonemized_word = \"\".join(re_match)\n",
    "        rejected = set(phonemized_word) - all_phonemes_chars\n",
    "        if rejected:\n",
    "            rejected_count += 1\n",
    "            rejected_phonemes_char.update(rejected)\n",
    "            rej_csv.writerow((row[1], row[6], rejected))\n",
    "\n",
    "total_count, rejected_count"
   ],
   "metadata": {
    "collapsed": false,
    "pycharm": {
     "name": "#%%\n"
    }
   }
  },
  {
   "cell_type": "code",
   "execution_count": 20,
   "outputs": [
    {
     "data": {
      "text/plain": "{'1'}"
     },
     "execution_count": 20,
     "metadata": {},
     "output_type": "execute_result"
    }
   ],
   "source": [
    "set(phonemized_word)"
   ],
   "metadata": {
    "collapsed": false,
    "pycharm": {
     "name": "#%%\n"
    }
   }
  },
  {
   "cell_type": "code",
   "execution_count": 5,
   "outputs": [
    {
     "name": "stderr",
     "output_type": "stream",
     "text": [
      "160595it [00:01, 89175.02it/s] \n"
     ]
    }
   ],
   "source": [
    "from phonemizer.backend import EspeakBackend\n",
    "from phonemizer.separator import Separator\n",
    "from paraphone.utils import null_logger\n",
    "from tqdm import tqdm\n",
    "import csv\n",
    "import re\n",
    "\n",
    "clx_phon_re = re.compile(r\"\\[(.+?)\\]\")\n",
    "separator = Separator(phone=\"\", word=None)\n",
    "backend = EspeakBackend(\n",
    "    \"en-us\",\n",
    "    language_switch=\"remove-utterance\",\n",
    "    logger=null_logger())\n",
    "\n",
    "with open(\"../data/celex.txt\") as celex_dic, \\\n",
    "        open(\"../data/r*_words.csv\", \"w\") as rej_file:\n",
    "    r_csv = csv.writer(rej_file, delimiter=\"\\t\")\n",
    "    for row in tqdm(celex_dic):\n",
    "        row = row.strip().split(\"\\\\\")\n",
    "        re_match = clx_phon_re.findall(row[8])\n",
    "        phonemized_word = \"\".join(re_match)\n",
    "        if not phonemized_word.endswith(\"r*\"):\n",
    "            continue\n",
    "\n",
    "        espeak_phon = backend.phonemize(text=[row[1]],separator=separator, strip=True)\n",
    "        if espeak_phon[0].endswith(\"ɛɹ\"):\n",
    "            r_csv.writerow(\n",
    "                (row[1], phonemized_word, espeak_phon[0])\n",
    "            )"
   ],
   "metadata": {
    "collapsed": false,
    "pycharm": {
     "name": "#%%\n"
    }
   }
  },
  {
   "cell_type": "code",
   "execution_count": 7,
   "outputs": [
    {
     "data": {
      "text/plain": "{'AA0',\n 'AA1',\n 'AA2',\n 'AE0',\n 'AE1',\n 'AE2',\n 'AH1',\n 'AH2',\n 'AO0',\n 'AO1',\n 'AO2',\n 'AW0',\n 'AW1',\n 'AY0',\n 'AY1',\n 'AY2',\n 'EH0',\n 'EH1',\n 'EH2',\n 'ER0',\n 'ER1',\n 'ER2',\n 'EY0',\n 'EY1',\n 'EY2',\n 'IH0',\n 'IH1',\n 'IH2',\n 'IY0',\n 'IY1',\n 'IY2',\n 'OW0',\n 'OW1',\n 'OW2',\n 'OY0',\n 'OY1',\n 'OY2',\n 'UH0',\n 'UH1',\n 'UH2',\n 'UW0',\n 'UW1',\n 'UW2'}"
     },
     "execution_count": 7,
     "metadata": {},
     "output_type": "execute_result"
    }
   ],
   "source": [
    "sutck_pho_CMU = {'AA0',\n",
    " 'AA1',\n",
    " 'AA2',\n",
    " 'AE0',\n",
    " 'AE1',\n",
    " 'AE2',\n",
    " 'AH1',\n",
    " 'AH2',\n",
    " 'AO0',\n",
    " 'AO1',\n",
    " 'AO2',\n",
    " 'AW0',\n",
    " 'AW1',\n",
    " 'AY0',\n",
    " 'AY1',\n",
    " 'AY2',\n",
    " 'EH0',\n",
    " 'EH1',\n",
    " 'EH2',\n",
    " 'ER0',\n",
    " 'ER1',\n",
    " 'ER2',\n",
    " 'EY0',\n",
    " 'EY1',\n",
    " 'EY2',\n",
    " 'IH0',\n",
    " 'IH1',\n",
    " 'IH2',\n",
    " 'IY0',\n",
    " 'IY1',\n",
    " 'IY2',\n",
    " 'OW0',\n",
    " 'OW1',\n",
    " 'OW2',\n",
    " 'OY0',\n",
    " 'OY1',\n",
    " 'OY2',\n",
    " 'UH0',\n",
    " 'UH1',\n",
    " 'UH2',\n",
    " 'UW0',\n",
    " 'UW1',\n",
    " 'UW2'}\n",
    "sutck_pho_CMU"
   ],
   "metadata": {
    "collapsed": false,
    "pycharm": {
     "name": "#%%\n"
    }
   }
  }
 ],
 "metadata": {
  "kernelspec": {
   "display_name": "Python 3",
   "language": "python",
   "name": "python3"
  },
  "language_info": {
   "codemirror_mode": {
    "name": "ipython",
    "version": 2
   },
   "file_extension": ".py",
   "mimetype": "text/x-python",
   "name": "python",
   "nbconvert_exporter": "python",
   "pygments_lexer": "ipython2",
   "version": "2.7.6"
  }
 },
 "nbformat": 4,
 "nbformat_minor": 0
}